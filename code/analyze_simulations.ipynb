{
 "cells": [
  {
   "cell_type": "markdown",
   "metadata": {},
   "source": [
    "# Setup"
   ]
  },
  {
   "cell_type": "code",
   "execution_count": 14,
   "metadata": {},
   "outputs": [
    {
     "name": "stdout",
     "output_type": "stream",
     "text": [
      "The autoreload extension is already loaded. To reload it, use:\n",
      "  %reload_ext autoreload\n"
     ]
    }
   ],
   "source": [
    "%load_ext autoreload\n",
    "%autoreload 2"
   ]
  },
  {
   "cell_type": "code",
   "execution_count": 21,
   "metadata": {},
   "outputs": [],
   "source": [
    "import pandas as pd\n",
    "import numpy as np\n",
    "import seaborn as sns\n",
    "from scipy.linalg import toeplitz, cholesky\n",
    "import matplotlib.pyplot as plt\n",
    "from run_simulations import GenerateDGP\n",
    "from run_models import CausalInferenceModels\n",
    "\n",
    "import random\n",
    "import doubleml as dml\n",
    "# Main imports\n",
    "from sklearn.base import clone\n",
    "from sklearn.ensemble import RandomForestRegressor, GradientBoostingRegressor\n",
    "from sklearn.linear_model import LinearRegression, Lasso\n",
    "from sklearn.pipeline import make_pipeline\n",
    "from sklearn.preprocessing import StandardScaler"
   ]
  },
  {
   "cell_type": "markdown",
   "metadata": {},
   "source": [
    "# Generate simulated data"
   ]
  },
  {
   "cell_type": "markdown",
   "metadata": {},
   "source": [
    "- Chernozhukov"
   ]
  },
  {
   "cell_type": "code",
   "execution_count": 3,
   "metadata": {},
   "outputs": [
    {
     "name": "stdout",
     "output_type": "stream",
     "text": [
      "num_instruments: 400\n"
     ]
    }
   ],
   "source": [
    "n_values = 50\n",
    "T = 10\n",
    "alpha=0.5\n",
    "num_instruments = n_values * (T - 2)\n",
    "print(f\"num_instruments: {num_instruments}\")"
   ]
  },
  {
   "cell_type": "code",
   "execution_count": 199,
   "metadata": {},
   "outputs": [
    {
     "name": "stdout",
     "output_type": "stream",
     "text": [
      "Num instruments: 120\n"
     ]
    }
   ],
   "source": [
    "# Simulation settings\n",
    "n_values = 15\n",
    "T = 10\n",
    "alpha=0.5\n",
    "num_instruments = n_values * (T - 2)\n",
    "#num_instruments = int((n_values*T) * 0.5)\n",
    "\n",
    "generate_dgp = GenerateDGP(n=n_values, T=T, alpha=alpha)\n",
    "\n",
    "df = generate_dgp.generate_data_chernozhukov(num_instruments=num_instruments)\n",
    "\n",
    "models = CausalInferenceModels(df=df, y_column='Y', d_columns='D', unit_column='Individual', time_column='Time', desired_alpha=alpha, n=n_values)\n",
    "\n",
    "#DML setup\n",
    "dml_data = models.prepare_dml_data()"
   ]
  },
  {
   "cell_type": "markdown",
   "metadata": {},
   "source": [
    "- Post-selection Chernozhukov example"
   ]
  },
  {
   "cell_type": "code",
   "execution_count": 16,
   "metadata": {},
   "outputs": [],
   "source": [
    "from utils.import_configs import import_hyperparameters"
   ]
  },
  {
   "cell_type": "code",
   "execution_count": 17,
   "metadata": {},
   "outputs": [
    {
     "name": "stdout",
     "output_type": "stream",
     "text": [
      "num_controls: 250\n"
     ]
    }
   ],
   "source": [
    "# Simulation settings\n",
    "n_values = 50\n",
    "T = 10\n",
    "alpha=1\n",
    "#num_controls = n_values * (T - 2)\n",
    "num_controls = int((n_values*T) * 0.5)\n",
    "print(f\"num_controls: {num_controls}\")\n",
    "num_instruments = 10\n",
    "\n",
    "generate_dgp = GenerateDGP(n=n_values, T=T, alpha=alpha)\n",
    "\n",
    "df = generate_dgp.generate_post_selection_regularization_dgp(n=n_values, px=num_controls, pz=num_instruments)\n",
    "\n",
    "x_columns = [column for column in df.columns if column.split(\"_\")[0] == \"x\"]\n",
    "\n",
    "models = CausalInferenceModels(\n",
    "    df=df, y_column='y', d_columns='d', x_columns=x_columns, unit_column='unit', time_column='t', \n",
    "    desired_alpha=alpha, n=n_values, hp_params=import_hyperparameters())\n",
    "\n",
    "#DML setup\n",
    "dml_data = models.prepare_dml_data()"
   ]
  },
  {
   "cell_type": "code",
   "execution_count": 5,
   "metadata": {},
   "outputs": [
    {
     "name": "stdout",
     "output_type": "stream",
     "text": [
      "x_cols is present\n"
     ]
    },
    {
     "data": {
      "text/plain": [
       "{'Coefficient': 1.4606,\n",
       " 'Bias': 0.4606,\n",
       " 'Standard Error': 0.0285,\n",
       " 't-Statistic': 51.327270692044166,\n",
       " 'p-Value': 0.0,\n",
       " '95% CI Lower': 1.4049,\n",
       " '95% CI Upper': 1.5164,\n",
       " 'model_name': 'Pooled 2SLS',\n",
       " 'size_panel': 100}"
      ]
     },
     "execution_count": 5,
     "metadata": {},
     "output_type": "execute_result"
    }
   ],
   "source": [
    "pooled_ols_results = models.pooled_2sls()\n",
    "pooled_ols_results\n"
   ]
  },
  {
   "cell_type": "code",
   "execution_count": 6,
   "metadata": {},
   "outputs": [
    {
     "name": "stdout",
     "output_type": "stream",
     "text": [
      "x_cols is present\n"
     ]
    },
    {
     "data": {
      "text/plain": [
       "{'Coefficient': 1.4089,\n",
       " 'Bias': 0.4089,\n",
       " 'Standard Error': 0.0233,\n",
       " 't-Statistic': 60.547899428667854,\n",
       " 'p-Value': 0.0,\n",
       " '95% CI Lower': 1.3633,\n",
       " '95% CI Upper': 1.4545,\n",
       " 'model_name': 'First Differences',\n",
       " 'size_panel': 100}"
      ]
     },
     "execution_count": 6,
     "metadata": {},
     "output_type": "execute_result"
    }
   ],
   "source": [
    "fe_2sls_results = models.first_difference_2sls()\n",
    "fe_2sls_results"
   ]
  },
  {
   "cell_type": "code",
   "execution_count": 11,
   "metadata": {},
   "outputs": [
    {
     "data": {
      "text/plain": [
       "{'Coefficient': 0.8637,\n",
       " 'Bias': -0.1363,\n",
       " 'Standard Error': 0.0847,\n",
       " 't-Statistic': 10.193078734353033,\n",
       " 'p-Value': 2.1291257436335493e-24,\n",
       " '95% CI Lower': 0.6977,\n",
       " '95% CI Upper': 1.0298,\n",
       " 'model_name': 'DML: LASSO',\n",
       " 'size_panel': 100}"
      ]
     },
     "execution_count": 11,
     "metadata": {},
     "output_type": "execute_result"
    }
   ],
   "source": [
    "models.dml_lasso(dml_data)"
   ]
  },
  {
   "cell_type": "code",
   "execution_count": 12,
   "metadata": {},
   "outputs": [
    {
     "data": {
      "text/plain": [
       "{'Coefficient': 1.164,\n",
       " 'Bias': 0.164,\n",
       " 'Standard Error': 0.0462,\n",
       " 't-Statistic': 25.21138371329434,\n",
       " 'p-Value': 3.005141118734552e-140,\n",
       " '95% CI Lower': 1.0735,\n",
       " '95% CI Upper': 1.2545,\n",
       " 'model_name': 'DML: Random Forests',\n",
       " 'size_panel': 100}"
      ]
     },
     "execution_count": 12,
     "metadata": {},
     "output_type": "execute_result"
    }
   ],
   "source": [
    "models.dml_random_forest(dml_data)"
   ]
  },
  {
   "cell_type": "code",
   "execution_count": 13,
   "metadata": {},
   "outputs": [
    {
     "data": {
      "text/plain": [
       "{'Coefficient': 1.0939,\n",
       " 'Bias': 0.0939,\n",
       " 'Standard Error': 0.0595,\n",
       " 't-Statistic': 18.386174786557692,\n",
       " 'p-Value': 1.6952723440994296e-75,\n",
       " '95% CI Lower': 0.9773,\n",
       " '95% CI Upper': 1.2106,\n",
       " 'model_name': 'DML: XGBoost',\n",
       " 'size_panel': 100}"
      ]
     },
     "execution_count": 13,
     "metadata": {},
     "output_type": "execute_result"
    }
   ],
   "source": [
    "models.dml_xgboost(dml_data)"
   ]
  },
  {
   "cell_type": "code",
   "execution_count": 318,
   "metadata": {},
   "outputs": [],
   "source": [
    "# Extract hyperparameters for ml_l, ml_m, and ml_r\n",
    "ml_l_params = rf_hp['ml_l']['d'][0][0]\n",
    "ml_m_params = rf_hp['ml_m_instrument_1']['d'][0][0]  # Adjust this key based on the desired instrument\n",
    "ml_r_params = rf_hp['ml_r']['d'][0][0]\n",
    "\n",
    "\n",
    "# Define a function to create RandomForestRegressor with given parameters\n",
    "def create_rf_regressor(params):\n",
    "    return RandomForestRegressor(\n",
    "        n_estimators=params['n_estimators'],\n",
    "        max_features=params['max_features'],\n",
    "        max_depth=params['max_depth'],\n",
    "        min_samples_leaf=params['min_samples_leaf'],\n",
    "        random_state=1234,  # Ensure reproducibility\n",
    "        n_jobs=-1  # Use all available cores\n",
    "    )\n",
    "\n",
    "# Create the RandomForestRegressor objects\n",
    "ml_l = create_rf_regressor(ml_l_params)\n",
    "ml_m = create_rf_regressor(ml_m_params)\n",
    "ml_r = create_rf_regressor(ml_r_params)"
   ]
  },
  {
   "cell_type": "code",
   "execution_count": 328,
   "metadata": {},
   "outputs": [
    {
     "data": {
      "text/plain": [
       "{'Coefficient': 1.0945,\n",
       " 'Bias': 0.0945,\n",
       " 'Standard Error': 0.0589,\n",
       " 't-Statistic': 18.57133603926963,\n",
       " 'p-Value': 5.482173423110532e-77,\n",
       " '95% CI Lower': 0.979,\n",
       " '95% CI Upper': 1.21,\n",
       " 'model_name': 'DML: Random Forests',\n",
       " 'size_panel': 100}"
      ]
     },
     "execution_count": 328,
     "metadata": {},
     "output_type": "execute_result"
    }
   ],
   "source": [
    "dml_pliv_obj_rf = dml.DoubleMLPLIV(dml_data, ml_l, ml_m, ml_r)\n",
    "\n",
    "# Define the parameter grids for hyperparameter tuning\n",
    "# par_grids_rf = {'ml_l': {'n_estimators': [50, 100, 200],\n",
    "#                     'max_features': [5, 10, 15, 20],\n",
    "#                     'max_depth': [10, 15, 20, 25],\n",
    "#                     'min_samples_leaf': [1, 2, 4]},\n",
    "#             'ml_m': {'n_estimators': [50, 100, 200],\n",
    "#                     'max_features': [5, 10, 15, 20],\n",
    "#                     'max_depth': [10, 15, 20, 25],\n",
    "#                     'min_samples_leaf': [1, 2, 4]},\n",
    "#             'ml_r': {'n_estimators': [50, 100, 200],\n",
    "#                     'max_features': [5, 10, 15, 20],\n",
    "#                     'max_depth': [10, 15, 20, 25],\n",
    "#                     'min_samples_leaf': [1, 2, 4]}}\n",
    "\n",
    "# Perform hyperparameter tuning\n",
    "#dml_pliv_obj_rf.tune(par_grids_rf, search_mode='grid_search')\n",
    "\n",
    "dml_pliv_obj_rf.fit()\n",
    "results_df = models.generate_point_inference(fit_obj=dml_pliv_obj_rf, model_name=\"DML: Random Forests\", framework=\"doubleml\")\n",
    "results_df\n"
   ]
  },
  {
   "cell_type": "code",
   "execution_count": 18,
   "metadata": {},
   "outputs": [],
   "source": [
    "from xgboost import XGBRegressor"
   ]
  },
  {
   "cell_type": "code",
   "execution_count": 19,
   "metadata": {},
   "outputs": [
    {
     "data": {
      "text/plain": [
       "{'Coefficient': 1.0068,\n",
       " 'Bias': 0.0068,\n",
       " 'Standard Error': 0.1,\n",
       " 't-Statistic': 10.063780969110633,\n",
       " 'p-Value': 7.987063883267385e-24,\n",
       " '95% CI Lower': 0.8107,\n",
       " '95% CI Upper': 1.2028,\n",
       " 'model_name': 'DML: XGBoost',\n",
       " 'size_panel': 50}"
      ]
     },
     "execution_count": 19,
     "metadata": {},
     "output_type": "execute_result"
    }
   ],
   "source": [
    "boost = XGBRegressor(n_jobs=-1, objective = \"reg:squarederror\",\n",
    "                     eta=0.1, n_estimators=35)\n",
    "\n",
    "ml_l_boosting = clone(boost)\n",
    "ml_m_boosting = clone(boost)\n",
    "ml_r_boosting = clone(boost)\n",
    "\n",
    "# For boosting\n",
    "dml_pliv_obj_boosting = dml.DoubleMLPLIV(dml_data, ml_l_boosting, ml_m_boosting, ml_r_boosting)\n",
    "\n",
    "#dml_pliv_obj_boosting.fit().summary\n",
    "fit_obj = dml_pliv_obj_boosting.fit()  # Fit and show summary for boosting\n",
    "results_df = models.generate_point_inference(fit_obj=fit_obj, model_name=\"DML: XGBoost\", framework=\"doubleml\")\n",
    "results_df"
   ]
  },
  {
   "cell_type": "code",
   "execution_count": null,
   "metadata": {},
   "outputs": [],
   "source": [
    "learner_boosting = GradientBoostingRegressor(n_estimators=200, max_depth=20, learning_rate=0.01, random_state = random.seed(1234))\n",
    "\n",
    "ml_l_boosting = clone(learner_boosting)\n",
    "ml_m_boosting = clone(learner_boosting)\n",
    "ml_r_boosting = clone(learner_boosting)\n",
    "\n",
    "# For boosting\n",
    "dml_pliv_obj_boosting = dml.DoubleMLPLIV(dml_data, ml_l_boosting, ml_m_boosting, ml_r_boosting)\n",
    "\n",
    "#dml_pliv_obj_boosting.fit().summary\n",
    "fit_obj = dml_pliv_obj_boosting.fit()  # Fit and show summary for boosting\n",
    "results_df = models.generate_point_inference(fit_obj=fit_obj, model_name=\"DML: GBM\", framework=\"doubleml\")"
   ]
  },
  {
   "cell_type": "code",
   "execution_count": null,
   "metadata": {},
   "outputs": [],
   "source": [
    "learner_boosting = GradientBoostingRegressor(n_estimators=200, max_depth=20, learning_rate=0.01, random_state = random.seed(1234))\n",
    "\n",
    "ml_l_boosting = clone(learner_boosting)\n",
    "ml_m_boosting = clone(learner_boosting)\n",
    "ml_r_boosting = clone(learner_boosting)\n",
    "\n",
    "# For boosting\n",
    "dml_pliv_obj_boosting = dml.DoubleMLPLIV(dml_data, ml_l_boosting, ml_m_boosting, ml_r_boosting)\n",
    "\n",
    "#dml_pliv_obj_boosting.fit().summary\n",
    "fit_obj = dml_pliv_obj_boosting.fit()  # Fit and show summary for boosting\n",
    "results_df = models.generate_point_inference(fit_obj=fit_obj, model_name=\"DML: GBM\", framework=\"doubleml\")\n",
    "results_df\n"
   ]
  },
  {
   "cell_type": "code",
   "execution_count": 8,
   "metadata": {},
   "outputs": [
    {
     "data": {
      "text/plain": [
       "{'Coefficient': 1.2207,\n",
       " 'Bias': 0.2207,\n",
       " 'Standard Error': 0.0764,\n",
       " 't-Statistic': 15.980962908693023,\n",
       " 'p-Value': 1.734458141929247e-57,\n",
       " '95% CI Lower': 1.071,\n",
       " '95% CI Upper': 1.3704,\n",
       " 'model_name': 'DML: LASSO',\n",
       " 'size_panel': 50}"
      ]
     },
     "execution_count": 8,
     "metadata": {},
     "output_type": "execute_result"
    }
   ],
   "source": [
    "models.dml_lasso(dml_data)"
   ]
  },
  {
   "cell_type": "code",
   "execution_count": 160,
   "metadata": {},
   "outputs": [
    {
     "data": {
      "text/html": [
       "<div>\n",
       "<style scoped>\n",
       "    .dataframe tbody tr th:only-of-type {\n",
       "        vertical-align: middle;\n",
       "    }\n",
       "\n",
       "    .dataframe tbody tr th {\n",
       "        vertical-align: top;\n",
       "    }\n",
       "\n",
       "    .dataframe thead th {\n",
       "        text-align: right;\n",
       "    }\n",
       "</style>\n",
       "<table border=\"1\" class=\"dataframe\">\n",
       "  <thead>\n",
       "    <tr style=\"text-align: right;\">\n",
       "      <th></th>\n",
       "      <th>coef</th>\n",
       "      <th>std err</th>\n",
       "      <th>t</th>\n",
       "      <th>P&gt;|t|</th>\n",
       "      <th>2.5 %</th>\n",
       "      <th>97.5 %</th>\n",
       "    </tr>\n",
       "  </thead>\n",
       "  <tbody>\n",
       "    <tr>\n",
       "      <th>d</th>\n",
       "      <td>0.972461</td>\n",
       "      <td>0.069958</td>\n",
       "      <td>13.900611</td>\n",
       "      <td>6.280261e-44</td>\n",
       "      <td>0.835345</td>\n",
       "      <td>1.109576</td>\n",
       "    </tr>\n",
       "  </tbody>\n",
       "</table>\n",
       "</div>"
      ],
      "text/plain": [
       "       coef   std err          t         P>|t|     2.5 %    97.5 %\n",
       "d  0.972461  0.069958  13.900611  6.280261e-44  0.835345  1.109576"
      ]
     },
     "execution_count": 160,
     "metadata": {},
     "output_type": "execute_result"
    }
   ],
   "source": [
    "# For Lasso\n",
    "learner_lasso = make_pipeline(StandardScaler(), Lasso(alpha=0.01, max_iter=1000, random_state = random.seed(1234)))\n",
    "\n",
    "ml_l_lasso = clone(learner_lasso)\n",
    "ml_m_lasso = clone(learner_lasso)\n",
    "ml_r_lasso = clone(learner_lasso)\n",
    "\n",
    "dml_pliv_obj_lasso = dml.DoubleMLPLIV(dml_data, ml_l_lasso, ml_m_lasso, ml_r_lasso)\n",
    "#dml_pliv_obj_lasso.fit().summary  # Fit and show summary for Lasso\n",
    "lasso_fit = dml_pliv_obj_lasso.fit()\n",
    "lasso_fit.summary\n"
   ]
  },
  {
   "cell_type": "code",
   "execution_count": 141,
   "metadata": {},
   "outputs": [
    {
     "data": {
      "text/html": [
       "<div>\n",
       "<style scoped>\n",
       "    .dataframe tbody tr th:only-of-type {\n",
       "        vertical-align: middle;\n",
       "    }\n",
       "\n",
       "    .dataframe tbody tr th {\n",
       "        vertical-align: top;\n",
       "    }\n",
       "\n",
       "    .dataframe thead th {\n",
       "        text-align: right;\n",
       "    }\n",
       "</style>\n",
       "<table border=\"1\" class=\"dataframe\">\n",
       "  <thead>\n",
       "    <tr style=\"text-align: right;\">\n",
       "      <th></th>\n",
       "      <th>coef</th>\n",
       "      <th>std err</th>\n",
       "      <th>t</th>\n",
       "      <th>P&gt;|t|</th>\n",
       "      <th>2.5 %</th>\n",
       "      <th>97.5 %</th>\n",
       "    </tr>\n",
       "  </thead>\n",
       "  <tbody>\n",
       "    <tr>\n",
       "      <th>d</th>\n",
       "      <td>1.040052</td>\n",
       "      <td>0.05925</td>\n",
       "      <td>17.553671</td>\n",
       "      <td>5.575692e-69</td>\n",
       "      <td>0.923924</td>\n",
       "      <td>1.156179</td>\n",
       "    </tr>\n",
       "  </tbody>\n",
       "</table>\n",
       "</div>"
      ],
      "text/plain": [
       "       coef  std err          t         P>|t|     2.5 %    97.5 %\n",
       "d  1.040052  0.05925  17.553671  5.575692e-69  0.923924  1.156179"
      ]
     },
     "execution_count": 141,
     "metadata": {},
     "output_type": "execute_result"
    }
   ],
   "source": [
    "learner = RandomForestRegressor(n_estimators=100, max_features=200, max_depth=15, min_samples_leaf=2, random_state = random.seed(1234))\n",
    "ml_l = clone(learner)\n",
    "ml_m = clone(learner)\n",
    "ml_r = clone(learner)\n",
    "\n",
    "dml_pliv_obj_rf = dml.DoubleMLPLIV(dml_data, ml_l, ml_m, ml_r)\n",
    "\n",
    "dml_pliv_obj_rf.fit()\n",
    "dml_pliv_obj_rf.summary"
   ]
  },
  {
   "cell_type": "code",
   "execution_count": 16,
   "metadata": {},
   "outputs": [],
   "source": [
    "def generate_post_selection_regularization_dgp(n, px=100, pz=10, nSim=1000):\n",
    "    # Generate matrices and coefficients\n",
    "    Sx = cholesky(toeplitz(0.5 ** np.arange(px)))\n",
    "    Se = cholesky(np.array([[1, 0.6], [0.6, 1]]))\n",
    "    \n",
    "    alpha = 1\n",
    "    beta = (1.0 / (np.arange(1, px + 1))) ** 2\n",
    "    gamma = beta\n",
    "    delta = (1.0 / (np.arange(1, pz + 1))) ** 2\n",
    "    \n",
    "    theta = np.vstack([np.eye(pz), np.zeros((px - pz, pz))])\n",
    "    \n",
    "    # Initialize lists to store results\n",
    "    results = []\n",
    "    z_list = []\n",
    "    x_list = []\n",
    "\n",
    "    # Simulation loop\n",
    "    for ii in range(nSim):\n",
    "        if ii % 10 == 0:\n",
    "            print(f\"Simulation {ii + 1}/{nSim}\")\n",
    "        \n",
    "        # Generate x\n",
    "        x = np.random.randn(n, px).dot(Sx)\n",
    "        \n",
    "        # Generate z\n",
    "        z = x.dot(theta) + 0.5 * np.random.randn(n, pz)\n",
    "        \n",
    "        # Generate errors\n",
    "        e = np.random.randn(n, 2).dot(Se)\n",
    "        \n",
    "        # Generate d\n",
    "        d = z.dot(delta) + x.dot(gamma) + e[:, 0]\n",
    "        \n",
    "        # Generate y\n",
    "        y = d * alpha + x.dot(beta) + e[:, 1]\n",
    "        \n",
    "        # Store data in results list\n",
    "        results.append(pd.DataFrame({\n",
    "            'y': y,\n",
    "            'd': d\n",
    "        }))\n",
    "        \n",
    "        z_list.append(pd.DataFrame(z, columns=[f'z_{j+1}' for j in range(pz)]))\n",
    "        x_list.append(pd.DataFrame(x, columns=[f'x_{j+1}' for j in range(px)]))\n",
    "\n",
    "    # Combine all results into a single DataFrame\n",
    "    df_results = pd.concat(results, ignore_index=True)\n",
    "    df_z = pd.concat(z_list, ignore_index=True)\n",
    "    df_x = pd.concat(x_list, ignore_index=True)\n",
    "\n",
    "    # Concatenate all DataFrames\n",
    "    df = pd.concat([df_results, df_z, df_x], axis=1)\n",
    "    \n",
    "    return df\n"
   ]
  },
  {
   "cell_type": "code",
   "execution_count": 102,
   "metadata": {},
   "outputs": [],
   "source": [
    "def different_specification(n=200, T=10, px=50, pz=5, rho_e=0.5, rho_u=0.5, rho_z=0.5, nSim=1):\n",
    "    # Initialize lists to store results\n",
    "    results = []\n",
    "\n",
    "    # Generate individual heterogeneity\n",
    "    cov_matrix = np.fromfunction(lambda i, j: 0.5 ** np.abs(i - j), (n, n))\n",
    "    e = np.random.multivariate_normal(mean=np.zeros(n), cov=cov_matrix * (4 / T))\n",
    "    \n",
    "    for sim in range(nSim):\n",
    "        if sim % 10 == 0:\n",
    "            print(f\"Simulation {sim + 1}/{nSim}\")\n",
    "        \n",
    "        # Initial disturbances\n",
    "        epsilon = np.zeros((n, T))\n",
    "        u = np.zeros((n, T))\n",
    "        nu = np.random.multivariate_normal([0, 0], [[1, 0.5], [0.5, 1]], size=(n, T))\n",
    "        \n",
    "        for t in range(T):\n",
    "            if t == 0:\n",
    "                epsilon[:, t] = nu[:, t, 0]\n",
    "                u[:, t] = nu[:, t, 1]\n",
    "            else:\n",
    "                epsilon[:, t] = rho_e * epsilon[:, t-1] + nu[:, t, 0]\n",
    "                u[:, t] = rho_u * u[:, t-1] + nu[:, t, 1]\n",
    "        \n",
    "        # Generate x\n",
    "        x = np.zeros((n, T, px))\n",
    "        for j in range(px):\n",
    "            for t in range(T):\n",
    "                if t == 0:\n",
    "                    x[:, t, j] = e / (1 - rho_z) + np.sqrt(1 / (1 - rho_z ** 2)) * np.random.randn(n)\n",
    "                else:\n",
    "                    x[:, t, j] = e + rho_z * x[:, t-1, j] + np.random.randn(n)\n",
    "        \n",
    "        # Generate z variables as z_{it} = Π x_{it} + ζ_{it}\n",
    "        Pi = np.hstack([np.eye(pz), np.zeros((pz, px - pz))])\n",
    "        zeta = np.random.multivariate_normal(mean=np.zeros(pz), cov=0.25 * np.eye(pz), size=(n, T))\n",
    "        z = np.zeros((n, T, pz))\n",
    "        for t in range(T):\n",
    "            z[:, t, :] = np.dot(x[:, t, :], Pi.T) + zeta[:, t, :]\n",
    "        \n",
    "        # Generate d and y\n",
    "        gamma = (1.0 / (np.arange(1, px + 1))) ** 2\n",
    "        delta = (1.0 / (np.arange(1, pz + 1))) ** 2\n",
    "        alpha = 1\n",
    "        beta = gamma\n",
    "        \n",
    "        d = np.zeros((n, T))\n",
    "        y = np.zeros((n, T))\n",
    "        \n",
    "        for t in range(T):\n",
    "            d[:, t] = z[:, t, :].dot(delta) + x[:, t, :].dot(gamma) + u[:, t]\n",
    "            y[:, t] = alpha * d[:, t] + x[:, t, :].dot(beta) + epsilon[:, t]\n",
    "        \n",
    "        # Store data in results list\n",
    "        for t in range(T):\n",
    "            df_t = pd.DataFrame({\n",
    "                'y': y[:, t],\n",
    "                'd': d[:, t],\n",
    "                't': t + 1,\n",
    "                'unit': np.arange(1, n + 1)\n",
    "            })\n",
    "            df_t = pd.concat([df_t, pd.DataFrame(z[:, t, :], columns=[f'instrument_{j+1}' for j in range(pz)])], axis=1)\n",
    "            df_t = pd.concat([df_t, pd.DataFrame(x[:, t, :], columns=[f'x_{j+1}' for j in range(px)])], axis=1)\n",
    "            results.append(df_t)\n",
    "    \n",
    "    # Combine all results into a single DataFrame\n",
    "    df = pd.concat(results, ignore_index=True)\n",
    "    \n",
    "    return df\n"
   ]
  },
  {
   "cell_type": "code",
   "execution_count": 103,
   "metadata": {},
   "outputs": [
    {
     "name": "stdout",
     "output_type": "stream",
     "text": [
      "Simulation 1/1\n"
     ]
    }
   ],
   "source": [
    "#df_tst = generate_post_selection_regularization_dgp(n=2000, px=50, pz=10, nSim=1)\n",
    "df_tst = different_specification()"
   ]
  },
  {
   "cell_type": "code",
   "execution_count": 128,
   "metadata": {},
   "outputs": [
    {
     "name": "stdout",
     "output_type": "stream",
     "text": [
      "x_cols is present\n"
     ]
    }
   ],
   "source": [
    "x_columns = [column for column in df_tst.columns if column.split(\"_\")[0] == \"x\"]\n",
    "#instrument_columns = [column for column in df_tst.columns if column.split(\"_\")[0] == \"z\"]\n",
    "\n",
    "models = CausalInferenceModels(\n",
    "    df=df_tst, y_column='y', d_columns='d', x_columns=x_columns, unit_column='unit', time_column='t', \n",
    "    desired_alpha=1, n=n_values)\n",
    "\n",
    "#DML setup\n",
    "dml_data = models.prepare_dml_data()"
   ]
  },
  {
   "cell_type": "code",
   "execution_count": null,
   "metadata": {},
   "outputs": [],
   "source": [
    "# Simulation settings\n",
    "n_values = 100\n",
    "T = 10\n",
    "alpha=0.5\n",
    "num_controls = 100 #n_values * (T - 2)\n",
    "num_instruments = 10\n",
    "#num_instruments = int((n_values*T) * 0.5)\n",
    "\n",
    "generate_dgp = GenerateDGP(n=n_values, T=T, alpha=alpha)\n",
    "\n",
    "df = generate_dgp.generate_post_selection_regularization_dgp(n=n_values, px=num_controls, pz=num_instruments)\n",
    "\n",
    "x_columns = [column for column in df.columns if column.split(\"_\")[0] == \"x\"]\n",
    "\n",
    "models = CausalInferenceModels(\n",
    "    df=df, y_column='y', d_columns='d', x_columns=x_columns, unit_column='unit', time_column='t', \n",
    "    desired_alpha=1, n=n_values)\n",
    "\n",
    "#DML setup\n",
    "dml_data = models.prepare_dml_data()"
   ]
  },
  {
   "cell_type": "code",
   "execution_count": null,
   "metadata": {},
   "outputs": [],
   "source": [
    "learner_boosting = GradientBoostingRegressor(n_estimators=200, max_depth=20, learning_rate=0.01, random_state = random.seed(1234))\n",
    "\n",
    "ml_l_boosting = clone(learner_boosting)\n",
    "ml_m_boosting = clone(learner_boosting)\n",
    "ml_r_boosting = clone(learner_boosting)\n",
    "\n",
    "# For boosting\n",
    "dml_pliv_obj_boosting = dml.DoubleMLPLIV(obj_dml_data, ml_l_boosting, ml_m_boosting, ml_r_boosting)\n",
    "\n",
    "#dml_pliv_obj_boosting.fit().summary\n",
    "fit_obj = dml_pliv_obj_boosting.fit()  # Fit and show summary for boosting\n",
    "fit_obj.summary\n"
   ]
  },
  {
   "cell_type": "code",
   "execution_count": 11,
   "metadata": {},
   "outputs": [
    {
     "name": "stdout",
     "output_type": "stream",
     "text": [
      "Num instruments: 500\n"
     ]
    }
   ],
   "source": [
    "# Simulation settings\n",
    "n_values = 100\n",
    "T = 10\n",
    "alpha=0.5\n",
    "#num_instruments = n_values * (T - 2)\n",
    "num_instruments = int((n_values*T) * 0.5)\n",
    "\n",
    "generate_dgp = GenerateDGP(n=n_values, T=T, alpha=alpha)\n",
    "\n",
    "df = generate_dgp.generate_panel_data_controls(num_instruments=num_instruments)"
   ]
  },
  {
   "cell_type": "code",
   "execution_count": 14,
   "metadata": {},
   "outputs": [],
   "source": [
    "models = CausalInferenceModels(df=df, y_column='Y', d_columns='D', unit_column='Individual', time_column='Time', desired_alpha=alpha, n=n_values)\n",
    "\n",
    "#DML setup\n",
    "dml_data = models.prepare_dml_data()"
   ]
  },
  {
   "cell_type": "code",
   "execution_count": 12,
   "metadata": {},
   "outputs": [
    {
     "data": {
      "text/html": [
       "<div>\n",
       "<style scoped>\n",
       "    .dataframe tbody tr th:only-of-type {\n",
       "        vertical-align: middle;\n",
       "    }\n",
       "\n",
       "    .dataframe tbody tr th {\n",
       "        vertical-align: top;\n",
       "    }\n",
       "\n",
       "    .dataframe thead th {\n",
       "        text-align: right;\n",
       "    }\n",
       "</style>\n",
       "<table border=\"1\" class=\"dataframe\">\n",
       "  <thead>\n",
       "    <tr style=\"text-align: right;\">\n",
       "      <th></th>\n",
       "      <th>Individual</th>\n",
       "      <th>Time</th>\n",
       "      <th>Y</th>\n",
       "      <th>D</th>\n",
       "      <th>instrument_1</th>\n",
       "      <th>instrument_2</th>\n",
       "      <th>instrument_3</th>\n",
       "      <th>instrument_4</th>\n",
       "      <th>instrument_5</th>\n",
       "      <th>instrument_6</th>\n",
       "      <th>...</th>\n",
       "      <th>instrument_491</th>\n",
       "      <th>instrument_492</th>\n",
       "      <th>instrument_493</th>\n",
       "      <th>instrument_494</th>\n",
       "      <th>instrument_495</th>\n",
       "      <th>instrument_496</th>\n",
       "      <th>instrument_497</th>\n",
       "      <th>instrument_498</th>\n",
       "      <th>instrument_499</th>\n",
       "      <th>instrument_500</th>\n",
       "    </tr>\n",
       "  </thead>\n",
       "  <tbody>\n",
       "    <tr>\n",
       "      <th>0</th>\n",
       "      <td>0</td>\n",
       "      <td>0</td>\n",
       "      <td>-1.674060</td>\n",
       "      <td>-1.982272</td>\n",
       "      <td>-2.461500</td>\n",
       "      <td>-1.971406</td>\n",
       "      <td>-2.041373</td>\n",
       "      <td>-5.823128</td>\n",
       "      <td>-6.145709</td>\n",
       "      <td>-5.100550</td>\n",
       "      <td>...</td>\n",
       "      <td>-1.471868</td>\n",
       "      <td>-4.983973</td>\n",
       "      <td>-2.472912</td>\n",
       "      <td>-3.337018</td>\n",
       "      <td>-3.898268</td>\n",
       "      <td>-1.013344</td>\n",
       "      <td>-1.468571</td>\n",
       "      <td>-1.759895</td>\n",
       "      <td>-2.207342</td>\n",
       "      <td>0.216479</td>\n",
       "    </tr>\n",
       "    <tr>\n",
       "      <th>1</th>\n",
       "      <td>0</td>\n",
       "      <td>1</td>\n",
       "      <td>-2.786753</td>\n",
       "      <td>-3.090438</td>\n",
       "      <td>-2.508182</td>\n",
       "      <td>-1.079680</td>\n",
       "      <td>-1.292461</td>\n",
       "      <td>-4.265557</td>\n",
       "      <td>-5.193635</td>\n",
       "      <td>-5.356772</td>\n",
       "      <td>...</td>\n",
       "      <td>-3.252234</td>\n",
       "      <td>-5.614336</td>\n",
       "      <td>-3.178290</td>\n",
       "      <td>-2.867546</td>\n",
       "      <td>-4.311660</td>\n",
       "      <td>-3.086101</td>\n",
       "      <td>-2.335131</td>\n",
       "      <td>-1.999019</td>\n",
       "      <td>-3.560210</td>\n",
       "      <td>-0.614015</td>\n",
       "    </tr>\n",
       "    <tr>\n",
       "      <th>2</th>\n",
       "      <td>0</td>\n",
       "      <td>2</td>\n",
       "      <td>-3.477265</td>\n",
       "      <td>-4.218410</td>\n",
       "      <td>-2.957075</td>\n",
       "      <td>-1.524600</td>\n",
       "      <td>-1.866326</td>\n",
       "      <td>-4.865895</td>\n",
       "      <td>-5.265840</td>\n",
       "      <td>-5.888332</td>\n",
       "      <td>...</td>\n",
       "      <td>-3.469498</td>\n",
       "      <td>-4.777109</td>\n",
       "      <td>-3.257247</td>\n",
       "      <td>-2.686026</td>\n",
       "      <td>-4.169475</td>\n",
       "      <td>-2.283974</td>\n",
       "      <td>-3.923927</td>\n",
       "      <td>-0.836898</td>\n",
       "      <td>-3.521573</td>\n",
       "      <td>-2.238576</td>\n",
       "    </tr>\n",
       "    <tr>\n",
       "      <th>3</th>\n",
       "      <td>0</td>\n",
       "      <td>3</td>\n",
       "      <td>-3.571020</td>\n",
       "      <td>-3.857510</td>\n",
       "      <td>-3.037427</td>\n",
       "      <td>-2.274362</td>\n",
       "      <td>-3.613443</td>\n",
       "      <td>-4.578301</td>\n",
       "      <td>-5.514706</td>\n",
       "      <td>-5.949623</td>\n",
       "      <td>...</td>\n",
       "      <td>-4.399146</td>\n",
       "      <td>-4.379106</td>\n",
       "      <td>-3.484673</td>\n",
       "      <td>-1.520972</td>\n",
       "      <td>-3.279942</td>\n",
       "      <td>-1.768770</td>\n",
       "      <td>-3.115152</td>\n",
       "      <td>-0.984331</td>\n",
       "      <td>-3.730334</td>\n",
       "      <td>-3.208832</td>\n",
       "    </tr>\n",
       "    <tr>\n",
       "      <th>4</th>\n",
       "      <td>0</td>\n",
       "      <td>4</td>\n",
       "      <td>-2.502205</td>\n",
       "      <td>-3.928690</td>\n",
       "      <td>-3.709690</td>\n",
       "      <td>-3.141332</td>\n",
       "      <td>-5.416561</td>\n",
       "      <td>-5.922721</td>\n",
       "      <td>-4.791712</td>\n",
       "      <td>-6.076804</td>\n",
       "      <td>...</td>\n",
       "      <td>-5.949546</td>\n",
       "      <td>-5.594860</td>\n",
       "      <td>-4.061808</td>\n",
       "      <td>-2.359166</td>\n",
       "      <td>-3.979797</td>\n",
       "      <td>-1.116261</td>\n",
       "      <td>-3.642073</td>\n",
       "      <td>-2.049981</td>\n",
       "      <td>-3.977543</td>\n",
       "      <td>-2.200056</td>\n",
       "    </tr>\n",
       "    <tr>\n",
       "      <th>...</th>\n",
       "      <td>...</td>\n",
       "      <td>...</td>\n",
       "      <td>...</td>\n",
       "      <td>...</td>\n",
       "      <td>...</td>\n",
       "      <td>...</td>\n",
       "      <td>...</td>\n",
       "      <td>...</td>\n",
       "      <td>...</td>\n",
       "      <td>...</td>\n",
       "      <td>...</td>\n",
       "      <td>...</td>\n",
       "      <td>...</td>\n",
       "      <td>...</td>\n",
       "      <td>...</td>\n",
       "      <td>...</td>\n",
       "      <td>...</td>\n",
       "      <td>...</td>\n",
       "      <td>...</td>\n",
       "      <td>...</td>\n",
       "      <td>...</td>\n",
       "    </tr>\n",
       "    <tr>\n",
       "      <th>995</th>\n",
       "      <td>99</td>\n",
       "      <td>5</td>\n",
       "      <td>-3.037310</td>\n",
       "      <td>-1.297596</td>\n",
       "      <td>-2.518163</td>\n",
       "      <td>-2.105176</td>\n",
       "      <td>-3.010691</td>\n",
       "      <td>-3.856899</td>\n",
       "      <td>-3.367223</td>\n",
       "      <td>-3.702406</td>\n",
       "      <td>...</td>\n",
       "      <td>2.406916</td>\n",
       "      <td>0.467824</td>\n",
       "      <td>2.040422</td>\n",
       "      <td>-0.970040</td>\n",
       "      <td>-3.699706</td>\n",
       "      <td>-0.361884</td>\n",
       "      <td>1.299741</td>\n",
       "      <td>-3.845200</td>\n",
       "      <td>-3.791485</td>\n",
       "      <td>-2.330486</td>\n",
       "    </tr>\n",
       "    <tr>\n",
       "      <th>996</th>\n",
       "      <td>99</td>\n",
       "      <td>6</td>\n",
       "      <td>-1.320119</td>\n",
       "      <td>0.051374</td>\n",
       "      <td>-1.688447</td>\n",
       "      <td>-2.879906</td>\n",
       "      <td>-1.587688</td>\n",
       "      <td>-2.886131</td>\n",
       "      <td>-2.613670</td>\n",
       "      <td>-3.647331</td>\n",
       "      <td>...</td>\n",
       "      <td>2.594895</td>\n",
       "      <td>0.798193</td>\n",
       "      <td>2.378988</td>\n",
       "      <td>-0.086541</td>\n",
       "      <td>-2.558119</td>\n",
       "      <td>0.453022</td>\n",
       "      <td>1.542643</td>\n",
       "      <td>-2.322761</td>\n",
       "      <td>-2.252259</td>\n",
       "      <td>-1.286103</td>\n",
       "    </tr>\n",
       "    <tr>\n",
       "      <th>997</th>\n",
       "      <td>99</td>\n",
       "      <td>7</td>\n",
       "      <td>-1.815813</td>\n",
       "      <td>-1.089741</td>\n",
       "      <td>-2.352763</td>\n",
       "      <td>-3.215657</td>\n",
       "      <td>-2.171880</td>\n",
       "      <td>-4.533924</td>\n",
       "      <td>-3.896783</td>\n",
       "      <td>-4.721973</td>\n",
       "      <td>...</td>\n",
       "      <td>2.503681</td>\n",
       "      <td>0.669955</td>\n",
       "      <td>1.663038</td>\n",
       "      <td>0.782193</td>\n",
       "      <td>-0.552618</td>\n",
       "      <td>-0.151466</td>\n",
       "      <td>0.442441</td>\n",
       "      <td>-3.104201</td>\n",
       "      <td>-2.715501</td>\n",
       "      <td>-1.250742</td>\n",
       "    </tr>\n",
       "    <tr>\n",
       "      <th>998</th>\n",
       "      <td>99</td>\n",
       "      <td>8</td>\n",
       "      <td>-1.745511</td>\n",
       "      <td>-0.075177</td>\n",
       "      <td>-2.780074</td>\n",
       "      <td>-3.004792</td>\n",
       "      <td>-1.234465</td>\n",
       "      <td>-2.918915</td>\n",
       "      <td>-1.641018</td>\n",
       "      <td>-2.694701</td>\n",
       "      <td>...</td>\n",
       "      <td>1.488067</td>\n",
       "      <td>0.842930</td>\n",
       "      <td>1.632105</td>\n",
       "      <td>0.373389</td>\n",
       "      <td>-0.347593</td>\n",
       "      <td>-0.970987</td>\n",
       "      <td>-0.513797</td>\n",
       "      <td>-3.008089</td>\n",
       "      <td>-3.147177</td>\n",
       "      <td>-1.502950</td>\n",
       "    </tr>\n",
       "    <tr>\n",
       "      <th>999</th>\n",
       "      <td>99</td>\n",
       "      <td>9</td>\n",
       "      <td>0.729101</td>\n",
       "      <td>1.215188</td>\n",
       "      <td>-2.729844</td>\n",
       "      <td>-3.864237</td>\n",
       "      <td>-1.249745</td>\n",
       "      <td>-3.074436</td>\n",
       "      <td>-2.014458</td>\n",
       "      <td>-1.834410</td>\n",
       "      <td>...</td>\n",
       "      <td>0.921204</td>\n",
       "      <td>0.636638</td>\n",
       "      <td>0.766072</td>\n",
       "      <td>-0.275047</td>\n",
       "      <td>-0.421436</td>\n",
       "      <td>-0.879686</td>\n",
       "      <td>0.195769</td>\n",
       "      <td>-2.152358</td>\n",
       "      <td>-1.246496</td>\n",
       "      <td>-0.950250</td>\n",
       "    </tr>\n",
       "  </tbody>\n",
       "</table>\n",
       "<p>1000 rows × 504 columns</p>\n",
       "</div>"
      ],
      "text/plain": [
       "     Individual  Time         Y         D  instrument_1  instrument_2  \\\n",
       "0             0     0 -1.674060 -1.982272     -2.461500     -1.971406   \n",
       "1             0     1 -2.786753 -3.090438     -2.508182     -1.079680   \n",
       "2             0     2 -3.477265 -4.218410     -2.957075     -1.524600   \n",
       "3             0     3 -3.571020 -3.857510     -3.037427     -2.274362   \n",
       "4             0     4 -2.502205 -3.928690     -3.709690     -3.141332   \n",
       "..          ...   ...       ...       ...           ...           ...   \n",
       "995          99     5 -3.037310 -1.297596     -2.518163     -2.105176   \n",
       "996          99     6 -1.320119  0.051374     -1.688447     -2.879906   \n",
       "997          99     7 -1.815813 -1.089741     -2.352763     -3.215657   \n",
       "998          99     8 -1.745511 -0.075177     -2.780074     -3.004792   \n",
       "999          99     9  0.729101  1.215188     -2.729844     -3.864237   \n",
       "\n",
       "     instrument_3  instrument_4  instrument_5  instrument_6  ...  \\\n",
       "0       -2.041373     -5.823128     -6.145709     -5.100550  ...   \n",
       "1       -1.292461     -4.265557     -5.193635     -5.356772  ...   \n",
       "2       -1.866326     -4.865895     -5.265840     -5.888332  ...   \n",
       "3       -3.613443     -4.578301     -5.514706     -5.949623  ...   \n",
       "4       -5.416561     -5.922721     -4.791712     -6.076804  ...   \n",
       "..            ...           ...           ...           ...  ...   \n",
       "995     -3.010691     -3.856899     -3.367223     -3.702406  ...   \n",
       "996     -1.587688     -2.886131     -2.613670     -3.647331  ...   \n",
       "997     -2.171880     -4.533924     -3.896783     -4.721973  ...   \n",
       "998     -1.234465     -2.918915     -1.641018     -2.694701  ...   \n",
       "999     -1.249745     -3.074436     -2.014458     -1.834410  ...   \n",
       "\n",
       "     instrument_491  instrument_492  instrument_493  instrument_494  \\\n",
       "0         -1.471868       -4.983973       -2.472912       -3.337018   \n",
       "1         -3.252234       -5.614336       -3.178290       -2.867546   \n",
       "2         -3.469498       -4.777109       -3.257247       -2.686026   \n",
       "3         -4.399146       -4.379106       -3.484673       -1.520972   \n",
       "4         -5.949546       -5.594860       -4.061808       -2.359166   \n",
       "..              ...             ...             ...             ...   \n",
       "995        2.406916        0.467824        2.040422       -0.970040   \n",
       "996        2.594895        0.798193        2.378988       -0.086541   \n",
       "997        2.503681        0.669955        1.663038        0.782193   \n",
       "998        1.488067        0.842930        1.632105        0.373389   \n",
       "999        0.921204        0.636638        0.766072       -0.275047   \n",
       "\n",
       "     instrument_495  instrument_496  instrument_497  instrument_498  \\\n",
       "0         -3.898268       -1.013344       -1.468571       -1.759895   \n",
       "1         -4.311660       -3.086101       -2.335131       -1.999019   \n",
       "2         -4.169475       -2.283974       -3.923927       -0.836898   \n",
       "3         -3.279942       -1.768770       -3.115152       -0.984331   \n",
       "4         -3.979797       -1.116261       -3.642073       -2.049981   \n",
       "..              ...             ...             ...             ...   \n",
       "995       -3.699706       -0.361884        1.299741       -3.845200   \n",
       "996       -2.558119        0.453022        1.542643       -2.322761   \n",
       "997       -0.552618       -0.151466        0.442441       -3.104201   \n",
       "998       -0.347593       -0.970987       -0.513797       -3.008089   \n",
       "999       -0.421436       -0.879686        0.195769       -2.152358   \n",
       "\n",
       "     instrument_499  instrument_500  \n",
       "0         -2.207342        0.216479  \n",
       "1         -3.560210       -0.614015  \n",
       "2         -3.521573       -2.238576  \n",
       "3         -3.730334       -3.208832  \n",
       "4         -3.977543       -2.200056  \n",
       "..              ...             ...  \n",
       "995       -3.791485       -2.330486  \n",
       "996       -2.252259       -1.286103  \n",
       "997       -2.715501       -1.250742  \n",
       "998       -3.147177       -1.502950  \n",
       "999       -1.246496       -0.950250  \n",
       "\n",
       "[1000 rows x 504 columns]"
      ]
     },
     "execution_count": 12,
     "metadata": {},
     "output_type": "execute_result"
    }
   ],
   "source": [
    "df"
   ]
  },
  {
   "cell_type": "code",
   "execution_count": null,
   "metadata": {},
   "outputs": [],
   "source": [
    "\n",
    "\n",
    "models = CausalInferenceModels(df=df, y_column='Y', d_columns='D', unit_column='Individual', time_column='Time', desired_alpha=alpha, n=n_values)\n",
    "\n",
    "#DML setup\n",
    "dml_data = models.prepare_dml_data()"
   ]
  },
  {
   "cell_type": "markdown",
   "metadata": {},
   "source": [
    "# Running hyperparameter tuning for simulation"
   ]
  },
  {
   "cell_type": "markdown",
   "metadata": {},
   "source": [
    "- Random Forests"
   ]
  },
  {
   "cell_type": "code",
   "execution_count": 316,
   "metadata": {},
   "outputs": [],
   "source": [
    "json_path = \"/Users/gabrieldiasmp/Documents/pasta_gabriel/codigo/master_thesis/code/hyperparameters/random_forest.json\"\n",
    "\n",
    "# Open the JSON file\n",
    "with open(json_path, 'r') as file:\n",
    "    # Load the JSON data\n",
    "    rf_hp = json.load(file)"
   ]
  },
  {
   "cell_type": "code",
   "execution_count": 292,
   "metadata": {},
   "outputs": [],
   "source": [
    "rf_ml_l_params = rf_hp['ml_l']['d'][0][0]\n",
    "rf_ml_l_params[\"n_jobs\"] = -1\n",
    "\n",
    "rf_ml_r_params = rf_hp['ml_r']['d'][0][0]\n",
    "rf_ml_r_params[\"n_jobs\"] = -1\n",
    "\n",
    "rf_ml_m_params = rf_hp['ml_m_instrument_1']['d'][0][0]\n",
    "rf_ml_m_params[\"n_jobs\"] = -1\n",
    "\n",
    "\n",
    "dml_pliv_obj_rf = dml_pliv_obj_rf.set_ml_nuisance_params('ml_l', 'd', rf_hp['ml_l']['d'])\n",
    "dml_pliv_obj_rf = dml_pliv_obj_rf.set_ml_nuisance_params('ml_r', 'd', rf_hp['ml_r']['d'])\n",
    "dml_pliv_obj_rf = dml_pliv_obj_rf.set_ml_nuisance_params('ml_l', 'd', rf_hp['ml_l']['d'])"
   ]
  },
  {
   "cell_type": "code",
   "execution_count": null,
   "metadata": {},
   "outputs": [],
   "source": [
    "learner = RandomForestRegressor(n_jobs=-1)\n",
    "\n",
    "ml_l = RandomForestRegressor.set_params(rf_ml_l_params)\n",
    "ml_r = RandomForestRegressor.set_params(rf_ml_r_params)\n",
    "ml_m = RandomForestRegressor.set_params(rf_ml_m_params) #### instruments\n",
    "\n",
    "dml_pliv_obj_rf = dml.DoubleMLPLIV(dml_data, ml_l, ml_m, ml_r)\n",
    "\n",
    "# # Define the parameter grids for hyperparameter tuning\n",
    "# par_grids_rf = {'ml_l': {'n_estimators': [50, 100, 200],\n",
    "#                     'max_features': [20, 50, 100, 200],\n",
    "#                     'max_depth': [10, 15, 20],\n",
    "#                     'min_samples_leaf': [1, 2, 4]},\n",
    "#             'ml_m': {'n_estimators': [50, 100, 200],\n",
    "#                     'max_features': [20, 50, 100, 200],\n",
    "#                     'max_depth': [10, 15, 20],\n",
    "#                     'min_samples_leaf': [1, 2, 4]},\n",
    "#             'ml_r': {'n_estimators': [50, 100, 200],\n",
    "#                     'max_features': [20, 50, 100, 200],\n",
    "#                     'max_depth': [10, 15, 20],\n",
    "#                     'min_samples_leaf': [1, 2, 4]}}\n",
    "\n",
    "# # Perform hyperparameter tuning\n",
    "# dml_pliv_obj_rf.tune(par_grids_rf, search_mode='grid_search')\n",
    "\n",
    "# print(dml_pliv_obj_rf.params)\n"
   ]
  },
  {
   "cell_type": "code",
   "execution_count": 296,
   "metadata": {},
   "outputs": [],
   "source": [
    "dml_pliv_obj_rf = dml_pliv_obj_rf.set_ml_nuisance_params('ml_l', 'd', rf_hp['ml_l']['d'])\n",
    "dml_pliv_obj_rf = dml_pliv_obj_rf.set_ml_nuisance_params('ml_r', 'd', rf_hp['ml_r']['d'])\n",
    "dml_pliv_obj_rf = dml_pliv_obj_rf.set_ml_nuisance_params('ml_l', 'd', rf_hp['ml_l']['d'])"
   ]
  },
  {
   "cell_type": "code",
   "execution_count": 297,
   "metadata": {},
   "outputs": [
    {
     "data": {
      "text/plain": [
       "{'ml_l': {'d': [[{'max_depth': 15,\n",
       "     'max_features': 200,\n",
       "     'min_samples_leaf': 1,\n",
       "     'n_estimators': 100,\n",
       "     'n_jobs': -1},\n",
       "    {'max_depth': 15,\n",
       "     'max_features': 200,\n",
       "     'min_samples_leaf': 1,\n",
       "     'n_estimators': 100},\n",
       "    {'max_depth': 15,\n",
       "     'max_features': 200,\n",
       "     'min_samples_leaf': 1,\n",
       "     'n_estimators': 100},\n",
       "    {'max_depth': 15,\n",
       "     'max_features': 200,\n",
       "     'min_samples_leaf': 1,\n",
       "     'n_estimators': 100},\n",
       "    {'max_depth': 15,\n",
       "     'max_features': 200,\n",
       "     'min_samples_leaf': 1,\n",
       "     'n_estimators': 100}]]},\n",
       " 'ml_r': {'d': [[{'max_depth': 20,\n",
       "     'max_features': 200,\n",
       "     'min_samples_leaf': 4,\n",
       "     'n_estimators': 200,\n",
       "     'n_jobs': -1},\n",
       "    {'max_depth': 20,\n",
       "     'max_features': 200,\n",
       "     'min_samples_leaf': 4,\n",
       "     'n_estimators': 200},\n",
       "    {'max_depth': 20,\n",
       "     'max_features': 200,\n",
       "     'min_samples_leaf': 4,\n",
       "     'n_estimators': 200},\n",
       "    {'max_depth': 20,\n",
       "     'max_features': 200,\n",
       "     'min_samples_leaf': 4,\n",
       "     'n_estimators': 200},\n",
       "    {'max_depth': 20,\n",
       "     'max_features': 200,\n",
       "     'min_samples_leaf': 4,\n",
       "     'n_estimators': 200}]]},\n",
       " 'ml_m_instrument_1': {'d': [[{'max_depth': 15,\n",
       "     'max_features': 200,\n",
       "     'min_samples_leaf': 2,\n",
       "     'n_estimators': 100},\n",
       "    {'max_depth': 15,\n",
       "     'max_features': 200,\n",
       "     'min_samples_leaf': 2,\n",
       "     'n_estimators': 100},\n",
       "    {'max_depth': 15,\n",
       "     'max_features': 200,\n",
       "     'min_samples_leaf': 2,\n",
       "     'n_estimators': 100},\n",
       "    {'max_depth': 15,\n",
       "     'max_features': 200,\n",
       "     'min_samples_leaf': 2,\n",
       "     'n_estimators': 100},\n",
       "    {'max_depth': 15,\n",
       "     'max_features': 200,\n",
       "     'min_samples_leaf': 2,\n",
       "     'n_estimators': 100}]]},\n",
       " 'ml_m_instrument_2': {'d': [[{'max_depth': 15,\n",
       "     'max_features': 200,\n",
       "     'min_samples_leaf': 1,\n",
       "     'n_estimators': 100},\n",
       "    {'max_depth': 15,\n",
       "     'max_features': 200,\n",
       "     'min_samples_leaf': 1,\n",
       "     'n_estimators': 100},\n",
       "    {'max_depth': 15,\n",
       "     'max_features': 200,\n",
       "     'min_samples_leaf': 1,\n",
       "     'n_estimators': 100},\n",
       "    {'max_depth': 15,\n",
       "     'max_features': 200,\n",
       "     'min_samples_leaf': 1,\n",
       "     'n_estimators': 100},\n",
       "    {'max_depth': 15,\n",
       "     'max_features': 200,\n",
       "     'min_samples_leaf': 1,\n",
       "     'n_estimators': 100}]]},\n",
       " 'ml_m_instrument_3': {'d': [[{'max_depth': 10,\n",
       "     'max_features': 200,\n",
       "     'min_samples_leaf': 1,\n",
       "     'n_estimators': 100},\n",
       "    {'max_depth': 10,\n",
       "     'max_features': 200,\n",
       "     'min_samples_leaf': 1,\n",
       "     'n_estimators': 100},\n",
       "    {'max_depth': 10,\n",
       "     'max_features': 200,\n",
       "     'min_samples_leaf': 1,\n",
       "     'n_estimators': 100},\n",
       "    {'max_depth': 10,\n",
       "     'max_features': 200,\n",
       "     'min_samples_leaf': 1,\n",
       "     'n_estimators': 100},\n",
       "    {'max_depth': 10,\n",
       "     'max_features': 200,\n",
       "     'min_samples_leaf': 1,\n",
       "     'n_estimators': 100}]]},\n",
       " 'ml_m_instrument_4': {'d': [[{'max_depth': 10,\n",
       "     'max_features': 200,\n",
       "     'min_samples_leaf': 4,\n",
       "     'n_estimators': 50},\n",
       "    {'max_depth': 10,\n",
       "     'max_features': 200,\n",
       "     'min_samples_leaf': 4,\n",
       "     'n_estimators': 50},\n",
       "    {'max_depth': 10,\n",
       "     'max_features': 200,\n",
       "     'min_samples_leaf': 4,\n",
       "     'n_estimators': 50},\n",
       "    {'max_depth': 10,\n",
       "     'max_features': 200,\n",
       "     'min_samples_leaf': 4,\n",
       "     'n_estimators': 50},\n",
       "    {'max_depth': 10,\n",
       "     'max_features': 200,\n",
       "     'min_samples_leaf': 4,\n",
       "     'n_estimators': 50}]]},\n",
       " 'ml_m_instrument_5': {'d': [[{'max_depth': 20,\n",
       "     'max_features': 200,\n",
       "     'min_samples_leaf': 1,\n",
       "     'n_estimators': 100},\n",
       "    {'max_depth': 20,\n",
       "     'max_features': 200,\n",
       "     'min_samples_leaf': 1,\n",
       "     'n_estimators': 100},\n",
       "    {'max_depth': 20,\n",
       "     'max_features': 200,\n",
       "     'min_samples_leaf': 1,\n",
       "     'n_estimators': 100},\n",
       "    {'max_depth': 20,\n",
       "     'max_features': 200,\n",
       "     'min_samples_leaf': 1,\n",
       "     'n_estimators': 100},\n",
       "    {'max_depth': 20,\n",
       "     'max_features': 200,\n",
       "     'min_samples_leaf': 1,\n",
       "     'n_estimators': 100}]]},\n",
       " 'ml_m_instrument_6': {'d': [[{'max_depth': 15,\n",
       "     'max_features': 200,\n",
       "     'min_samples_leaf': 2,\n",
       "     'n_estimators': 200},\n",
       "    {'max_depth': 15,\n",
       "     'max_features': 200,\n",
       "     'min_samples_leaf': 2,\n",
       "     'n_estimators': 200},\n",
       "    {'max_depth': 15,\n",
       "     'max_features': 200,\n",
       "     'min_samples_leaf': 2,\n",
       "     'n_estimators': 200},\n",
       "    {'max_depth': 15,\n",
       "     'max_features': 200,\n",
       "     'min_samples_leaf': 2,\n",
       "     'n_estimators': 200},\n",
       "    {'max_depth': 15,\n",
       "     'max_features': 200,\n",
       "     'min_samples_leaf': 2,\n",
       "     'n_estimators': 200}]]},\n",
       " 'ml_m_instrument_7': {'d': [[{'max_depth': 20,\n",
       "     'max_features': 200,\n",
       "     'min_samples_leaf': 4,\n",
       "     'n_estimators': 200},\n",
       "    {'max_depth': 20,\n",
       "     'max_features': 200,\n",
       "     'min_samples_leaf': 4,\n",
       "     'n_estimators': 200},\n",
       "    {'max_depth': 20,\n",
       "     'max_features': 200,\n",
       "     'min_samples_leaf': 4,\n",
       "     'n_estimators': 200},\n",
       "    {'max_depth': 20,\n",
       "     'max_features': 200,\n",
       "     'min_samples_leaf': 4,\n",
       "     'n_estimators': 200},\n",
       "    {'max_depth': 20,\n",
       "     'max_features': 200,\n",
       "     'min_samples_leaf': 4,\n",
       "     'n_estimators': 200}]]},\n",
       " 'ml_m_instrument_8': {'d': [[{'max_depth': 20,\n",
       "     'max_features': 200,\n",
       "     'min_samples_leaf': 4,\n",
       "     'n_estimators': 200},\n",
       "    {'max_depth': 20,\n",
       "     'max_features': 200,\n",
       "     'min_samples_leaf': 4,\n",
       "     'n_estimators': 200},\n",
       "    {'max_depth': 20,\n",
       "     'max_features': 200,\n",
       "     'min_samples_leaf': 4,\n",
       "     'n_estimators': 200},\n",
       "    {'max_depth': 20,\n",
       "     'max_features': 200,\n",
       "     'min_samples_leaf': 4,\n",
       "     'n_estimators': 200},\n",
       "    {'max_depth': 20,\n",
       "     'max_features': 200,\n",
       "     'min_samples_leaf': 4,\n",
       "     'n_estimators': 200}]]},\n",
       " 'ml_m_instrument_9': {'d': [[{'max_depth': 20,\n",
       "     'max_features': 200,\n",
       "     'min_samples_leaf': 4,\n",
       "     'n_estimators': 100},\n",
       "    {'max_depth': 20,\n",
       "     'max_features': 200,\n",
       "     'min_samples_leaf': 4,\n",
       "     'n_estimators': 100},\n",
       "    {'max_depth': 20,\n",
       "     'max_features': 200,\n",
       "     'min_samples_leaf': 4,\n",
       "     'n_estimators': 100},\n",
       "    {'max_depth': 20,\n",
       "     'max_features': 200,\n",
       "     'min_samples_leaf': 4,\n",
       "     'n_estimators': 100},\n",
       "    {'max_depth': 20,\n",
       "     'max_features': 200,\n",
       "     'min_samples_leaf': 4,\n",
       "     'n_estimators': 100}]]},\n",
       " 'ml_m_instrument_10': {'d': [[{'max_depth': 15,\n",
       "     'max_features': 200,\n",
       "     'min_samples_leaf': 4,\n",
       "     'n_estimators': 200},\n",
       "    {'max_depth': 15,\n",
       "     'max_features': 200,\n",
       "     'min_samples_leaf': 4,\n",
       "     'n_estimators': 200},\n",
       "    {'max_depth': 15,\n",
       "     'max_features': 200,\n",
       "     'min_samples_leaf': 4,\n",
       "     'n_estimators': 200},\n",
       "    {'max_depth': 15,\n",
       "     'max_features': 200,\n",
       "     'min_samples_leaf': 4,\n",
       "     'n_estimators': 200},\n",
       "    {'max_depth': 15,\n",
       "     'max_features': 200,\n",
       "     'min_samples_leaf': 4,\n",
       "     'n_estimators': 200}]]}}"
      ]
     },
     "execution_count": 297,
     "metadata": {},
     "output_type": "execute_result"
    }
   ],
   "source": [
    "dml_pliv_obj_rf.params "
   ]
  },
  {
   "cell_type": "code",
   "execution_count": 255,
   "metadata": {},
   "outputs": [
    {
     "ename": "KeyboardInterrupt",
     "evalue": "",
     "output_type": "error",
     "traceback": [
      "\u001b[0;31m---------------------------------------------------------------------------\u001b[0m",
      "\u001b[0;31mKeyboardInterrupt\u001b[0m                         Traceback (most recent call last)",
      "Cell \u001b[0;32mIn[255], line 1\u001b[0m\n\u001b[0;32m----> 1\u001b[0m \u001b[43mdml_pliv_obj_rf\u001b[49m\u001b[38;5;241;43m.\u001b[39;49m\u001b[43mfit\u001b[49m\u001b[43m(\u001b[49m\u001b[43m)\u001b[49m\n\u001b[1;32m      2\u001b[0m results_df \u001b[38;5;241m=\u001b[39m models\u001b[38;5;241m.\u001b[39mgenerate_point_inference(fit_obj\u001b[38;5;241m=\u001b[39mdml_pliv_obj_rf, model_name\u001b[38;5;241m=\u001b[39m\u001b[38;5;124m\"\u001b[39m\u001b[38;5;124mDML: Random Forests\u001b[39m\u001b[38;5;124m\"\u001b[39m, framework\u001b[38;5;241m=\u001b[39m\u001b[38;5;124m\"\u001b[39m\u001b[38;5;124mdoubleml\u001b[39m\u001b[38;5;124m\"\u001b[39m)\n\u001b[1;32m      3\u001b[0m results_df\n",
      "File \u001b[0;32m~/Documents/pasta_gabriel/codigo/master_thesis/.venv/lib/python3.9/site-packages/doubleml/double_ml.py:605\u001b[0m, in \u001b[0;36mDoubleML.fit\u001b[0;34m(self, n_jobs_cv, store_predictions, external_predictions, store_models)\u001b[0m\n\u001b[1;32m    602\u001b[0m         ext_prediction_dict[learner] \u001b[38;5;241m=\u001b[39m \u001b[38;5;28;01mNone\u001b[39;00m\n\u001b[1;32m    604\u001b[0m \u001b[38;5;66;03m# ml estimation of nuisance models and computation of score elements\u001b[39;00m\n\u001b[0;32m--> 605\u001b[0m score_elements, preds \u001b[38;5;241m=\u001b[39m \u001b[38;5;28;43mself\u001b[39;49m\u001b[38;5;241;43m.\u001b[39;49m\u001b[43m_nuisance_est\u001b[49m\u001b[43m(\u001b[49m\u001b[38;5;28;43mself\u001b[39;49m\u001b[38;5;241;43m.\u001b[39;49m\u001b[43m__smpls\u001b[49m\u001b[43m,\u001b[49m\u001b[43m \u001b[49m\u001b[43mn_jobs_cv\u001b[49m\u001b[43m,\u001b[49m\n\u001b[1;32m    606\u001b[0m \u001b[43m                                           \u001b[49m\u001b[43mexternal_predictions\u001b[49m\u001b[38;5;241;43m=\u001b[39;49m\u001b[43mext_prediction_dict\u001b[49m\u001b[43m,\u001b[49m\n\u001b[1;32m    607\u001b[0m \u001b[43m                                           \u001b[49m\u001b[43mreturn_models\u001b[49m\u001b[38;5;241;43m=\u001b[39;49m\u001b[43mstore_models\u001b[49m\u001b[43m)\u001b[49m\n\u001b[1;32m    609\u001b[0m \u001b[38;5;28mself\u001b[39m\u001b[38;5;241m.\u001b[39m_set_score_elements(score_elements, \u001b[38;5;28mself\u001b[39m\u001b[38;5;241m.\u001b[39m_i_rep, \u001b[38;5;28mself\u001b[39m\u001b[38;5;241m.\u001b[39m_i_treat)\n\u001b[1;32m    611\u001b[0m \u001b[38;5;66;03m# calculate rmses and store predictions and targets of the nuisance models\u001b[39;00m\n",
      "File \u001b[0;32m~/Documents/pasta_gabriel/codigo/master_thesis/.venv/lib/python3.9/site-packages/doubleml/double_ml_pliv.py:289\u001b[0m, in \u001b[0;36mDoubleMLPLIV._nuisance_est\u001b[0;34m(self, smpls, n_jobs_cv, external_predictions, return_models)\u001b[0m\n\u001b[1;32m    287\u001b[0m \u001b[38;5;28;01mdef\u001b[39;00m \u001b[38;5;21m_nuisance_est\u001b[39m(\u001b[38;5;28mself\u001b[39m, smpls, n_jobs_cv, external_predictions, return_models\u001b[38;5;241m=\u001b[39m\u001b[38;5;28;01mFalse\u001b[39;00m):\n\u001b[1;32m    288\u001b[0m     \u001b[38;5;28;01mif\u001b[39;00m \u001b[38;5;28mself\u001b[39m\u001b[38;5;241m.\u001b[39mpartialX \u001b[38;5;241m&\u001b[39m (\u001b[38;5;129;01mnot\u001b[39;00m \u001b[38;5;28mself\u001b[39m\u001b[38;5;241m.\u001b[39mpartialZ):\n\u001b[0;32m--> 289\u001b[0m         psi_elements, preds \u001b[38;5;241m=\u001b[39m \u001b[38;5;28;43mself\u001b[39;49m\u001b[38;5;241;43m.\u001b[39;49m\u001b[43m_nuisance_est_partial_x\u001b[49m\u001b[43m(\u001b[49m\u001b[43msmpls\u001b[49m\u001b[43m,\u001b[49m\u001b[43m \u001b[49m\u001b[43mn_jobs_cv\u001b[49m\u001b[43m,\u001b[49m\u001b[43m \u001b[49m\u001b[43mexternal_predictions\u001b[49m\u001b[43m,\u001b[49m\u001b[43m \u001b[49m\u001b[43mreturn_models\u001b[49m\u001b[43m)\u001b[49m\n\u001b[1;32m    290\u001b[0m     \u001b[38;5;28;01melif\u001b[39;00m (\u001b[38;5;129;01mnot\u001b[39;00m \u001b[38;5;28mself\u001b[39m\u001b[38;5;241m.\u001b[39mpartialX) \u001b[38;5;241m&\u001b[39m \u001b[38;5;28mself\u001b[39m\u001b[38;5;241m.\u001b[39mpartialZ:\n\u001b[1;32m    291\u001b[0m         psi_elements, preds \u001b[38;5;241m=\u001b[39m \u001b[38;5;28mself\u001b[39m\u001b[38;5;241m.\u001b[39m_nuisance_est_partial_z(smpls, n_jobs_cv, return_models)\n",
      "File \u001b[0;32m~/Documents/pasta_gabriel/codigo/master_thesis/.venv/lib/python3.9/site-packages/doubleml/double_ml_pliv.py:365\u001b[0m, in \u001b[0;36mDoubleMLPLIV._nuisance_est_partial_x\u001b[0;34m(self, smpls, n_jobs_cv, external_predictions, return_models)\u001b[0m\n\u001b[1;32m    363\u001b[0m     models[\u001b[38;5;124m'\u001b[39m\u001b[38;5;124mml_m_\u001b[39m\u001b[38;5;124m'\u001b[39m \u001b[38;5;241m+\u001b[39m \u001b[38;5;28mself\u001b[39m\u001b[38;5;241m.\u001b[39m_dml_data\u001b[38;5;241m.\u001b[39mz_cols[i_instr]] \u001b[38;5;241m=\u001b[39m \u001b[38;5;28;01mNone\u001b[39;00m\n\u001b[1;32m    364\u001b[0m \u001b[38;5;28;01melse\u001b[39;00m:\n\u001b[0;32m--> 365\u001b[0m     res_cv_predict \u001b[38;5;241m=\u001b[39m \u001b[43m_dml_cv_predict\u001b[49m\u001b[43m(\u001b[49m\u001b[38;5;28;43mself\u001b[39;49m\u001b[38;5;241;43m.\u001b[39;49m\u001b[43m_learner\u001b[49m\u001b[43m[\u001b[49m\u001b[38;5;124;43m'\u001b[39;49m\u001b[38;5;124;43mml_m\u001b[39;49m\u001b[38;5;124;43m'\u001b[39;49m\u001b[43m]\u001b[49m\u001b[43m,\u001b[49m\u001b[43m \u001b[49m\u001b[43mx\u001b[49m\u001b[43m,\u001b[49m\u001b[43m \u001b[49m\u001b[43mthis_z\u001b[49m\u001b[43m,\u001b[49m\u001b[43m \u001b[49m\u001b[43msmpls\u001b[49m\u001b[38;5;241;43m=\u001b[39;49m\u001b[43msmpls\u001b[49m\u001b[43m,\u001b[49m\u001b[43m \u001b[49m\u001b[43mn_jobs\u001b[49m\u001b[38;5;241;43m=\u001b[39;49m\u001b[43mn_jobs_cv\u001b[49m\u001b[43m,\u001b[49m\n\u001b[1;32m    366\u001b[0m \u001b[43m                                     \u001b[49m\u001b[43mest_params\u001b[49m\u001b[38;5;241;43m=\u001b[39;49m\u001b[38;5;28;43mself\u001b[39;49m\u001b[38;5;241;43m.\u001b[39;49m\u001b[43m_get_params\u001b[49m\u001b[43m(\u001b[49m\u001b[38;5;124;43m'\u001b[39;49m\u001b[38;5;124;43mml_m_\u001b[39;49m\u001b[38;5;124;43m'\u001b[39;49m\u001b[43m \u001b[49m\u001b[38;5;241;43m+\u001b[39;49m\u001b[43m \u001b[49m\u001b[38;5;28;43mself\u001b[39;49m\u001b[38;5;241;43m.\u001b[39;49m\u001b[43m_dml_data\u001b[49m\u001b[38;5;241;43m.\u001b[39;49m\u001b[43mz_cols\u001b[49m\u001b[43m[\u001b[49m\u001b[43mi_instr\u001b[49m\u001b[43m]\u001b[49m\u001b[43m)\u001b[49m\u001b[43m,\u001b[49m\n\u001b[1;32m    367\u001b[0m \u001b[43m                                     \u001b[49m\u001b[43mmethod\u001b[49m\u001b[38;5;241;43m=\u001b[39;49m\u001b[38;5;28;43mself\u001b[39;49m\u001b[38;5;241;43m.\u001b[39;49m\u001b[43m_predict_method\u001b[49m\u001b[43m[\u001b[49m\u001b[38;5;124;43m'\u001b[39;49m\u001b[38;5;124;43mml_m\u001b[39;49m\u001b[38;5;124;43m'\u001b[39;49m\u001b[43m]\u001b[49m\u001b[43m,\u001b[49m\u001b[43m \u001b[49m\u001b[43mreturn_models\u001b[49m\u001b[38;5;241;43m=\u001b[39;49m\u001b[43mreturn_models\u001b[49m\u001b[43m)\u001b[49m\n\u001b[1;32m    369\u001b[0m     m_hat[\u001b[38;5;124m'\u001b[39m\u001b[38;5;124mpreds\u001b[39m\u001b[38;5;124m'\u001b[39m][:, i_instr] \u001b[38;5;241m=\u001b[39m res_cv_predict[\u001b[38;5;124m'\u001b[39m\u001b[38;5;124mpreds\u001b[39m\u001b[38;5;124m'\u001b[39m]\n\u001b[1;32m    371\u001b[0m     predictions[\u001b[38;5;124m'\u001b[39m\u001b[38;5;124mml_m_\u001b[39m\u001b[38;5;124m'\u001b[39m \u001b[38;5;241m+\u001b[39m \u001b[38;5;28mself\u001b[39m\u001b[38;5;241m.\u001b[39m_dml_data\u001b[38;5;241m.\u001b[39mz_cols[i_instr]] \u001b[38;5;241m=\u001b[39m res_cv_predict[\u001b[38;5;124m'\u001b[39m\u001b[38;5;124mpreds\u001b[39m\u001b[38;5;124m'\u001b[39m]\n",
      "File \u001b[0;32m~/Documents/pasta_gabriel/codigo/master_thesis/.venv/lib/python3.9/site-packages/doubleml/_utils.py:109\u001b[0m, in \u001b[0;36m_dml_cv_predict\u001b[0;34m(estimator, x, y, smpls, n_jobs, est_params, method, return_train_preds, return_models)\u001b[0m\n\u001b[1;32m    107\u001b[0m \u001b[38;5;28;01melse\u001b[39;00m:\n\u001b[1;32m    108\u001b[0m     \u001b[38;5;28;01massert\u001b[39;00m \u001b[38;5;28mlen\u001b[39m(est_params) \u001b[38;5;241m==\u001b[39m \u001b[38;5;28mlen\u001b[39m(smpls), \u001b[38;5;124m'\u001b[39m\u001b[38;5;124mprovide one parameter setting per fold\u001b[39m\u001b[38;5;124m'\u001b[39m\n\u001b[0;32m--> 109\u001b[0m     fitted_models \u001b[38;5;241m=\u001b[39m \u001b[43mparallel\u001b[49m\u001b[43m(\u001b[49m\u001b[43mdelayed\u001b[49m\u001b[43m(\u001b[49m\u001b[43m_fit\u001b[49m\u001b[43m)\u001b[49m\u001b[43m(\u001b[49m\n\u001b[1;32m    110\u001b[0m \u001b[43m        \u001b[49m\u001b[43mclone\u001b[49m\u001b[43m(\u001b[49m\u001b[43mestimator\u001b[49m\u001b[43m)\u001b[49m\u001b[38;5;241;43m.\u001b[39;49m\u001b[43mset_params\u001b[49m\u001b[43m(\u001b[49m\u001b[38;5;241;43m*\u001b[39;49m\u001b[38;5;241;43m*\u001b[39;49m\u001b[43mest_params\u001b[49m\u001b[43m[\u001b[49m\u001b[43midx\u001b[49m\u001b[43m]\u001b[49m\u001b[43m)\u001b[49m\u001b[43m,\u001b[49m\u001b[43m \u001b[49m\u001b[43mx\u001b[49m\u001b[43m,\u001b[49m\u001b[43m \u001b[49m\u001b[43my_list\u001b[49m\u001b[43m[\u001b[49m\u001b[43midx\u001b[49m\u001b[43m]\u001b[49m\u001b[43m,\u001b[49m\u001b[43m \u001b[49m\u001b[43mtrain_index\u001b[49m\u001b[43m,\u001b[49m\u001b[43m \u001b[49m\u001b[43midx\u001b[49m\u001b[43m)\u001b[49m\n\u001b[1;32m    111\u001b[0m \u001b[43m                             \u001b[49m\u001b[38;5;28;43;01mfor\u001b[39;49;00m\u001b[43m \u001b[49m\u001b[43midx\u001b[49m\u001b[43m,\u001b[49m\u001b[43m \u001b[49m\u001b[43m(\u001b[49m\u001b[43mtrain_index\u001b[49m\u001b[43m,\u001b[49m\u001b[43m \u001b[49m\u001b[43mtest_index\u001b[49m\u001b[43m)\u001b[49m\u001b[43m \u001b[49m\u001b[38;5;129;43;01min\u001b[39;49;00m\u001b[43m \u001b[49m\u001b[38;5;28;43menumerate\u001b[39;49m\u001b[43m(\u001b[49m\u001b[43msmpls\u001b[49m\u001b[43m)\u001b[49m\u001b[43m)\u001b[49m\n\u001b[1;32m    113\u001b[0m preds \u001b[38;5;241m=\u001b[39m np\u001b[38;5;241m.\u001b[39mfull(n_obs, np\u001b[38;5;241m.\u001b[39mnan)\n\u001b[1;32m    114\u001b[0m targets \u001b[38;5;241m=\u001b[39m np\u001b[38;5;241m.\u001b[39mfull(n_obs, np\u001b[38;5;241m.\u001b[39mnan)\n",
      "File \u001b[0;32m~/Documents/pasta_gabriel/codigo/master_thesis/.venv/lib/python3.9/site-packages/joblib/parallel.py:1863\u001b[0m, in \u001b[0;36mParallel.__call__\u001b[0;34m(self, iterable)\u001b[0m\n\u001b[1;32m   1861\u001b[0m     output \u001b[38;5;241m=\u001b[39m \u001b[38;5;28mself\u001b[39m\u001b[38;5;241m.\u001b[39m_get_sequential_output(iterable)\n\u001b[1;32m   1862\u001b[0m     \u001b[38;5;28mnext\u001b[39m(output)\n\u001b[0;32m-> 1863\u001b[0m     \u001b[38;5;28;01mreturn\u001b[39;00m output \u001b[38;5;28;01mif\u001b[39;00m \u001b[38;5;28mself\u001b[39m\u001b[38;5;241m.\u001b[39mreturn_generator \u001b[38;5;28;01melse\u001b[39;00m \u001b[38;5;28;43mlist\u001b[39;49m\u001b[43m(\u001b[49m\u001b[43moutput\u001b[49m\u001b[43m)\u001b[49m\n\u001b[1;32m   1865\u001b[0m \u001b[38;5;66;03m# Let's create an ID that uniquely identifies the current call. If the\u001b[39;00m\n\u001b[1;32m   1866\u001b[0m \u001b[38;5;66;03m# call is interrupted early and that the same instance is immediately\u001b[39;00m\n\u001b[1;32m   1867\u001b[0m \u001b[38;5;66;03m# re-used, this id will be used to prevent workers that were\u001b[39;00m\n\u001b[1;32m   1868\u001b[0m \u001b[38;5;66;03m# concurrently finalizing a task from the previous call to run the\u001b[39;00m\n\u001b[1;32m   1869\u001b[0m \u001b[38;5;66;03m# callback.\u001b[39;00m\n\u001b[1;32m   1870\u001b[0m \u001b[38;5;28;01mwith\u001b[39;00m \u001b[38;5;28mself\u001b[39m\u001b[38;5;241m.\u001b[39m_lock:\n",
      "File \u001b[0;32m~/Documents/pasta_gabriel/codigo/master_thesis/.venv/lib/python3.9/site-packages/joblib/parallel.py:1792\u001b[0m, in \u001b[0;36mParallel._get_sequential_output\u001b[0;34m(self, iterable)\u001b[0m\n\u001b[1;32m   1790\u001b[0m \u001b[38;5;28mself\u001b[39m\u001b[38;5;241m.\u001b[39mn_dispatched_batches \u001b[38;5;241m+\u001b[39m\u001b[38;5;241m=\u001b[39m \u001b[38;5;241m1\u001b[39m\n\u001b[1;32m   1791\u001b[0m \u001b[38;5;28mself\u001b[39m\u001b[38;5;241m.\u001b[39mn_dispatched_tasks \u001b[38;5;241m+\u001b[39m\u001b[38;5;241m=\u001b[39m \u001b[38;5;241m1\u001b[39m\n\u001b[0;32m-> 1792\u001b[0m res \u001b[38;5;241m=\u001b[39m \u001b[43mfunc\u001b[49m\u001b[43m(\u001b[49m\u001b[38;5;241;43m*\u001b[39;49m\u001b[43margs\u001b[49m\u001b[43m,\u001b[49m\u001b[43m \u001b[49m\u001b[38;5;241;43m*\u001b[39;49m\u001b[38;5;241;43m*\u001b[39;49m\u001b[43mkwargs\u001b[49m\u001b[43m)\u001b[49m\n\u001b[1;32m   1793\u001b[0m \u001b[38;5;28mself\u001b[39m\u001b[38;5;241m.\u001b[39mn_completed_tasks \u001b[38;5;241m+\u001b[39m\u001b[38;5;241m=\u001b[39m \u001b[38;5;241m1\u001b[39m\n\u001b[1;32m   1794\u001b[0m \u001b[38;5;28mself\u001b[39m\u001b[38;5;241m.\u001b[39mprint_progress()\n",
      "File \u001b[0;32m~/Documents/pasta_gabriel/codigo/master_thesis/.venv/lib/python3.9/site-packages/doubleml/_utils.py:45\u001b[0m, in \u001b[0;36m_fit\u001b[0;34m(estimator, x, y, train_index, idx)\u001b[0m\n\u001b[1;32m     44\u001b[0m \u001b[38;5;28;01mdef\u001b[39;00m \u001b[38;5;21m_fit\u001b[39m(estimator, x, y, train_index, idx\u001b[38;5;241m=\u001b[39m\u001b[38;5;28;01mNone\u001b[39;00m):\n\u001b[0;32m---> 45\u001b[0m     \u001b[43mestimator\u001b[49m\u001b[38;5;241;43m.\u001b[39;49m\u001b[43mfit\u001b[49m\u001b[43m(\u001b[49m\u001b[43mx\u001b[49m\u001b[43m[\u001b[49m\u001b[43mtrain_index\u001b[49m\u001b[43m,\u001b[49m\u001b[43m \u001b[49m\u001b[43m:\u001b[49m\u001b[43m]\u001b[49m\u001b[43m,\u001b[49m\u001b[43m \u001b[49m\u001b[43my\u001b[49m\u001b[43m[\u001b[49m\u001b[43mtrain_index\u001b[49m\u001b[43m]\u001b[49m\u001b[43m)\u001b[49m\n\u001b[1;32m     46\u001b[0m     \u001b[38;5;28;01mreturn\u001b[39;00m estimator, idx\n",
      "File \u001b[0;32m~/Documents/pasta_gabriel/codigo/master_thesis/.venv/lib/python3.9/site-packages/sklearn/ensemble/_forest.py:473\u001b[0m, in \u001b[0;36mBaseForest.fit\u001b[0;34m(self, X, y, sample_weight)\u001b[0m\n\u001b[1;32m    462\u001b[0m trees \u001b[38;5;241m=\u001b[39m [\n\u001b[1;32m    463\u001b[0m     \u001b[38;5;28mself\u001b[39m\u001b[38;5;241m.\u001b[39m_make_estimator(append\u001b[38;5;241m=\u001b[39m\u001b[38;5;28;01mFalse\u001b[39;00m, random_state\u001b[38;5;241m=\u001b[39mrandom_state)\n\u001b[1;32m    464\u001b[0m     \u001b[38;5;28;01mfor\u001b[39;00m i \u001b[38;5;129;01min\u001b[39;00m \u001b[38;5;28mrange\u001b[39m(n_more_estimators)\n\u001b[1;32m    465\u001b[0m ]\n\u001b[1;32m    467\u001b[0m \u001b[38;5;66;03m# Parallel loop: we prefer the threading backend as the Cython code\u001b[39;00m\n\u001b[1;32m    468\u001b[0m \u001b[38;5;66;03m# for fitting the trees is internally releasing the Python GIL\u001b[39;00m\n\u001b[1;32m    469\u001b[0m \u001b[38;5;66;03m# making threading more efficient than multiprocessing in\u001b[39;00m\n\u001b[1;32m    470\u001b[0m \u001b[38;5;66;03m# that case. However, for joblib 0.12+ we respect any\u001b[39;00m\n\u001b[1;32m    471\u001b[0m \u001b[38;5;66;03m# parallel_backend contexts set at a higher level,\u001b[39;00m\n\u001b[1;32m    472\u001b[0m \u001b[38;5;66;03m# since correctness does not rely on using threads.\u001b[39;00m\n\u001b[0;32m--> 473\u001b[0m trees \u001b[38;5;241m=\u001b[39m \u001b[43mParallel\u001b[49m\u001b[43m(\u001b[49m\n\u001b[1;32m    474\u001b[0m \u001b[43m    \u001b[49m\u001b[43mn_jobs\u001b[49m\u001b[38;5;241;43m=\u001b[39;49m\u001b[38;5;28;43mself\u001b[39;49m\u001b[38;5;241;43m.\u001b[39;49m\u001b[43mn_jobs\u001b[49m\u001b[43m,\u001b[49m\n\u001b[1;32m    475\u001b[0m \u001b[43m    \u001b[49m\u001b[43mverbose\u001b[49m\u001b[38;5;241;43m=\u001b[39;49m\u001b[38;5;28;43mself\u001b[39;49m\u001b[38;5;241;43m.\u001b[39;49m\u001b[43mverbose\u001b[49m\u001b[43m,\u001b[49m\n\u001b[1;32m    476\u001b[0m \u001b[43m    \u001b[49m\u001b[43mprefer\u001b[49m\u001b[38;5;241;43m=\u001b[39;49m\u001b[38;5;124;43m\"\u001b[39;49m\u001b[38;5;124;43mthreads\u001b[39;49m\u001b[38;5;124;43m\"\u001b[39;49m\u001b[43m,\u001b[49m\n\u001b[1;32m    477\u001b[0m \u001b[43m\u001b[49m\u001b[43m)\u001b[49m\u001b[43m(\u001b[49m\n\u001b[1;32m    478\u001b[0m \u001b[43m    \u001b[49m\u001b[43mdelayed\u001b[49m\u001b[43m(\u001b[49m\u001b[43m_parallel_build_trees\u001b[49m\u001b[43m)\u001b[49m\u001b[43m(\u001b[49m\n\u001b[1;32m    479\u001b[0m \u001b[43m        \u001b[49m\u001b[43mt\u001b[49m\u001b[43m,\u001b[49m\n\u001b[1;32m    480\u001b[0m \u001b[43m        \u001b[49m\u001b[38;5;28;43mself\u001b[39;49m\u001b[38;5;241;43m.\u001b[39;49m\u001b[43mbootstrap\u001b[49m\u001b[43m,\u001b[49m\n\u001b[1;32m    481\u001b[0m \u001b[43m        \u001b[49m\u001b[43mX\u001b[49m\u001b[43m,\u001b[49m\n\u001b[1;32m    482\u001b[0m \u001b[43m        \u001b[49m\u001b[43my\u001b[49m\u001b[43m,\u001b[49m\n\u001b[1;32m    483\u001b[0m \u001b[43m        \u001b[49m\u001b[43msample_weight\u001b[49m\u001b[43m,\u001b[49m\n\u001b[1;32m    484\u001b[0m \u001b[43m        \u001b[49m\u001b[43mi\u001b[49m\u001b[43m,\u001b[49m\n\u001b[1;32m    485\u001b[0m \u001b[43m        \u001b[49m\u001b[38;5;28;43mlen\u001b[39;49m\u001b[43m(\u001b[49m\u001b[43mtrees\u001b[49m\u001b[43m)\u001b[49m\u001b[43m,\u001b[49m\n\u001b[1;32m    486\u001b[0m \u001b[43m        \u001b[49m\u001b[43mverbose\u001b[49m\u001b[38;5;241;43m=\u001b[39;49m\u001b[38;5;28;43mself\u001b[39;49m\u001b[38;5;241;43m.\u001b[39;49m\u001b[43mverbose\u001b[49m\u001b[43m,\u001b[49m\n\u001b[1;32m    487\u001b[0m \u001b[43m        \u001b[49m\u001b[43mclass_weight\u001b[49m\u001b[38;5;241;43m=\u001b[39;49m\u001b[38;5;28;43mself\u001b[39;49m\u001b[38;5;241;43m.\u001b[39;49m\u001b[43mclass_weight\u001b[49m\u001b[43m,\u001b[49m\n\u001b[1;32m    488\u001b[0m \u001b[43m        \u001b[49m\u001b[43mn_samples_bootstrap\u001b[49m\u001b[38;5;241;43m=\u001b[39;49m\u001b[43mn_samples_bootstrap\u001b[49m\u001b[43m,\u001b[49m\n\u001b[1;32m    489\u001b[0m \u001b[43m    \u001b[49m\u001b[43m)\u001b[49m\n\u001b[1;32m    490\u001b[0m \u001b[43m    \u001b[49m\u001b[38;5;28;43;01mfor\u001b[39;49;00m\u001b[43m \u001b[49m\u001b[43mi\u001b[49m\u001b[43m,\u001b[49m\u001b[43m \u001b[49m\u001b[43mt\u001b[49m\u001b[43m \u001b[49m\u001b[38;5;129;43;01min\u001b[39;49;00m\u001b[43m \u001b[49m\u001b[38;5;28;43menumerate\u001b[39;49m\u001b[43m(\u001b[49m\u001b[43mtrees\u001b[49m\u001b[43m)\u001b[49m\n\u001b[1;32m    491\u001b[0m \u001b[43m\u001b[49m\u001b[43m)\u001b[49m\n\u001b[1;32m    493\u001b[0m \u001b[38;5;66;03m# Collect newly grown trees\u001b[39;00m\n\u001b[1;32m    494\u001b[0m \u001b[38;5;28mself\u001b[39m\u001b[38;5;241m.\u001b[39mestimators_\u001b[38;5;241m.\u001b[39mextend(trees)\n",
      "File \u001b[0;32m~/Documents/pasta_gabriel/codigo/master_thesis/.venv/lib/python3.9/site-packages/sklearn/utils/parallel.py:63\u001b[0m, in \u001b[0;36mParallel.__call__\u001b[0;34m(self, iterable)\u001b[0m\n\u001b[1;32m     58\u001b[0m config \u001b[38;5;241m=\u001b[39m get_config()\n\u001b[1;32m     59\u001b[0m iterable_with_config \u001b[38;5;241m=\u001b[39m (\n\u001b[1;32m     60\u001b[0m     (_with_config(delayed_func, config), args, kwargs)\n\u001b[1;32m     61\u001b[0m     \u001b[38;5;28;01mfor\u001b[39;00m delayed_func, args, kwargs \u001b[38;5;129;01min\u001b[39;00m iterable\n\u001b[1;32m     62\u001b[0m )\n\u001b[0;32m---> 63\u001b[0m \u001b[38;5;28;01mreturn\u001b[39;00m \u001b[38;5;28;43msuper\u001b[39;49m\u001b[43m(\u001b[49m\u001b[43m)\u001b[49m\u001b[38;5;241;43m.\u001b[39;49m\u001b[38;5;21;43m__call__\u001b[39;49m\u001b[43m(\u001b[49m\u001b[43miterable_with_config\u001b[49m\u001b[43m)\u001b[49m\n",
      "File \u001b[0;32m~/Documents/pasta_gabriel/codigo/master_thesis/.venv/lib/python3.9/site-packages/joblib/parallel.py:1952\u001b[0m, in \u001b[0;36mParallel.__call__\u001b[0;34m(self, iterable)\u001b[0m\n\u001b[1;32m   1946\u001b[0m \u001b[38;5;66;03m# The first item from the output is blank, but it makes the interpreter\u001b[39;00m\n\u001b[1;32m   1947\u001b[0m \u001b[38;5;66;03m# progress until it enters the Try/Except block of the generator and\u001b[39;00m\n\u001b[1;32m   1948\u001b[0m \u001b[38;5;66;03m# reach the first `yield` statement. This starts the aynchronous\u001b[39;00m\n\u001b[1;32m   1949\u001b[0m \u001b[38;5;66;03m# dispatch of the tasks to the workers.\u001b[39;00m\n\u001b[1;32m   1950\u001b[0m \u001b[38;5;28mnext\u001b[39m(output)\n\u001b[0;32m-> 1952\u001b[0m \u001b[38;5;28;01mreturn\u001b[39;00m output \u001b[38;5;28;01mif\u001b[39;00m \u001b[38;5;28mself\u001b[39m\u001b[38;5;241m.\u001b[39mreturn_generator \u001b[38;5;28;01melse\u001b[39;00m \u001b[38;5;28;43mlist\u001b[39;49m\u001b[43m(\u001b[49m\u001b[43moutput\u001b[49m\u001b[43m)\u001b[49m\n",
      "File \u001b[0;32m~/Documents/pasta_gabriel/codigo/master_thesis/.venv/lib/python3.9/site-packages/joblib/parallel.py:1595\u001b[0m, in \u001b[0;36mParallel._get_outputs\u001b[0;34m(self, iterator, pre_dispatch)\u001b[0m\n\u001b[1;32m   1592\u001b[0m     \u001b[38;5;28;01myield\u001b[39;00m\n\u001b[1;32m   1594\u001b[0m     \u001b[38;5;28;01mwith\u001b[39;00m \u001b[38;5;28mself\u001b[39m\u001b[38;5;241m.\u001b[39m_backend\u001b[38;5;241m.\u001b[39mretrieval_context():\n\u001b[0;32m-> 1595\u001b[0m         \u001b[38;5;28;01myield from\u001b[39;00m \u001b[38;5;28mself\u001b[39m\u001b[38;5;241m.\u001b[39m_retrieve()\n\u001b[1;32m   1597\u001b[0m \u001b[38;5;28;01mexcept\u001b[39;00m \u001b[38;5;167;01mGeneratorExit\u001b[39;00m:\n\u001b[1;32m   1598\u001b[0m     \u001b[38;5;66;03m# The generator has been garbage collected before being fully\u001b[39;00m\n\u001b[1;32m   1599\u001b[0m     \u001b[38;5;66;03m# consumed. This aborts the remaining tasks if possible and warn\u001b[39;00m\n\u001b[1;32m   1600\u001b[0m     \u001b[38;5;66;03m# the user if necessary.\u001b[39;00m\n\u001b[1;32m   1601\u001b[0m     \u001b[38;5;28mself\u001b[39m\u001b[38;5;241m.\u001b[39m_exception \u001b[38;5;241m=\u001b[39m \u001b[38;5;28;01mTrue\u001b[39;00m\n",
      "File \u001b[0;32m~/Documents/pasta_gabriel/codigo/master_thesis/.venv/lib/python3.9/site-packages/joblib/parallel.py:1707\u001b[0m, in \u001b[0;36mParallel._retrieve\u001b[0;34m(self)\u001b[0m\n\u001b[1;32m   1702\u001b[0m \u001b[38;5;66;03m# If the next job is not ready for retrieval yet, we just wait for\u001b[39;00m\n\u001b[1;32m   1703\u001b[0m \u001b[38;5;66;03m# async callbacks to progress.\u001b[39;00m\n\u001b[1;32m   1704\u001b[0m \u001b[38;5;28;01mif\u001b[39;00m ((\u001b[38;5;28mlen\u001b[39m(\u001b[38;5;28mself\u001b[39m\u001b[38;5;241m.\u001b[39m_jobs) \u001b[38;5;241m==\u001b[39m \u001b[38;5;241m0\u001b[39m) \u001b[38;5;129;01mor\u001b[39;00m\n\u001b[1;32m   1705\u001b[0m     (\u001b[38;5;28mself\u001b[39m\u001b[38;5;241m.\u001b[39m_jobs[\u001b[38;5;241m0\u001b[39m]\u001b[38;5;241m.\u001b[39mget_status(\n\u001b[1;32m   1706\u001b[0m         timeout\u001b[38;5;241m=\u001b[39m\u001b[38;5;28mself\u001b[39m\u001b[38;5;241m.\u001b[39mtimeout) \u001b[38;5;241m==\u001b[39m TASK_PENDING)):\n\u001b[0;32m-> 1707\u001b[0m     \u001b[43mtime\u001b[49m\u001b[38;5;241;43m.\u001b[39;49m\u001b[43msleep\u001b[49m\u001b[43m(\u001b[49m\u001b[38;5;241;43m0.01\u001b[39;49m\u001b[43m)\u001b[49m\n\u001b[1;32m   1708\u001b[0m     \u001b[38;5;28;01mcontinue\u001b[39;00m\n\u001b[1;32m   1710\u001b[0m \u001b[38;5;66;03m# We need to be careful: the job list can be filling up as\u001b[39;00m\n\u001b[1;32m   1711\u001b[0m \u001b[38;5;66;03m# we empty it and Python list are not thread-safe by\u001b[39;00m\n\u001b[1;32m   1712\u001b[0m \u001b[38;5;66;03m# default hence the use of the lock\u001b[39;00m\n",
      "\u001b[0;31mKeyboardInterrupt\u001b[0m: "
     ]
    }
   ],
   "source": [
    "dml_pliv_obj_rf.fit()\n",
    "results_df = models.generate_point_inference(fit_obj=dml_pliv_obj_rf, model_name=\"DML: Random Forests\", framework=\"doubleml\")\n",
    "results_df"
   ]
  },
  {
   "cell_type": "code",
   "execution_count": 249,
   "metadata": {},
   "outputs": [],
   "source": [
    "import json"
   ]
  },
  {
   "cell_type": "code",
   "execution_count": 251,
   "metadata": {},
   "outputs": [],
   "source": [
    "with open(\"/Users/gabrieldiasmp/Documents/pasta_gabriel/codigo/master_thesis/code/hyperparameters/\" + \"random_forest.json\", 'w') as json_file:\n",
    "    json.dump(dml_pliv_obj_rf.params, json_file, indent=4)"
   ]
  },
  {
   "cell_type": "code",
   "execution_count": 248,
   "metadata": {},
   "outputs": [
    {
     "data": {
      "text/plain": [
       "{'ml_l': {'d': [[{'max_depth': 15,\n",
       "     'max_features': 200,\n",
       "     'min_samples_leaf': 1,\n",
       "     'n_estimators': 100},\n",
       "    {'max_depth': 15,\n",
       "     'max_features': 200,\n",
       "     'min_samples_leaf': 1,\n",
       "     'n_estimators': 100},\n",
       "    {'max_depth': 15,\n",
       "     'max_features': 200,\n",
       "     'min_samples_leaf': 1,\n",
       "     'n_estimators': 100},\n",
       "    {'max_depth': 15,\n",
       "     'max_features': 200,\n",
       "     'min_samples_leaf': 1,\n",
       "     'n_estimators': 100},\n",
       "    {'max_depth': 15,\n",
       "     'max_features': 200,\n",
       "     'min_samples_leaf': 1,\n",
       "     'n_estimators': 100}]]},\n",
       " 'ml_r': {'d': [[{'max_depth': 20,\n",
       "     'max_features': 200,\n",
       "     'min_samples_leaf': 4,\n",
       "     'n_estimators': 200},\n",
       "    {'max_depth': 20,\n",
       "     'max_features': 200,\n",
       "     'min_samples_leaf': 4,\n",
       "     'n_estimators': 200},\n",
       "    {'max_depth': 20,\n",
       "     'max_features': 200,\n",
       "     'min_samples_leaf': 4,\n",
       "     'n_estimators': 200},\n",
       "    {'max_depth': 20,\n",
       "     'max_features': 200,\n",
       "     'min_samples_leaf': 4,\n",
       "     'n_estimators': 200},\n",
       "    {'max_depth': 20,\n",
       "     'max_features': 200,\n",
       "     'min_samples_leaf': 4,\n",
       "     'n_estimators': 200}]]},\n",
       " 'ml_m_instrument_1': {'d': [[{'max_depth': 15,\n",
       "     'max_features': 200,\n",
       "     'min_samples_leaf': 2,\n",
       "     'n_estimators': 100},\n",
       "    {'max_depth': 15,\n",
       "     'max_features': 200,\n",
       "     'min_samples_leaf': 2,\n",
       "     'n_estimators': 100},\n",
       "    {'max_depth': 15,\n",
       "     'max_features': 200,\n",
       "     'min_samples_leaf': 2,\n",
       "     'n_estimators': 100},\n",
       "    {'max_depth': 15,\n",
       "     'max_features': 200,\n",
       "     'min_samples_leaf': 2,\n",
       "     'n_estimators': 100},\n",
       "    {'max_depth': 15,\n",
       "     'max_features': 200,\n",
       "     'min_samples_leaf': 2,\n",
       "     'n_estimators': 100}]]},\n",
       " 'ml_m_instrument_2': {'d': [[{'max_depth': 15,\n",
       "     'max_features': 200,\n",
       "     'min_samples_leaf': 1,\n",
       "     'n_estimators': 100},\n",
       "    {'max_depth': 15,\n",
       "     'max_features': 200,\n",
       "     'min_samples_leaf': 1,\n",
       "     'n_estimators': 100},\n",
       "    {'max_depth': 15,\n",
       "     'max_features': 200,\n",
       "     'min_samples_leaf': 1,\n",
       "     'n_estimators': 100},\n",
       "    {'max_depth': 15,\n",
       "     'max_features': 200,\n",
       "     'min_samples_leaf': 1,\n",
       "     'n_estimators': 100},\n",
       "    {'max_depth': 15,\n",
       "     'max_features': 200,\n",
       "     'min_samples_leaf': 1,\n",
       "     'n_estimators': 100}]]},\n",
       " 'ml_m_instrument_3': {'d': [[{'max_depth': 10,\n",
       "     'max_features': 200,\n",
       "     'min_samples_leaf': 1,\n",
       "     'n_estimators': 100},\n",
       "    {'max_depth': 10,\n",
       "     'max_features': 200,\n",
       "     'min_samples_leaf': 1,\n",
       "     'n_estimators': 100},\n",
       "    {'max_depth': 10,\n",
       "     'max_features': 200,\n",
       "     'min_samples_leaf': 1,\n",
       "     'n_estimators': 100},\n",
       "    {'max_depth': 10,\n",
       "     'max_features': 200,\n",
       "     'min_samples_leaf': 1,\n",
       "     'n_estimators': 100},\n",
       "    {'max_depth': 10,\n",
       "     'max_features': 200,\n",
       "     'min_samples_leaf': 1,\n",
       "     'n_estimators': 100}]]},\n",
       " 'ml_m_instrument_4': {'d': [[{'max_depth': 10,\n",
       "     'max_features': 200,\n",
       "     'min_samples_leaf': 4,\n",
       "     'n_estimators': 50},\n",
       "    {'max_depth': 10,\n",
       "     'max_features': 200,\n",
       "     'min_samples_leaf': 4,\n",
       "     'n_estimators': 50},\n",
       "    {'max_depth': 10,\n",
       "     'max_features': 200,\n",
       "     'min_samples_leaf': 4,\n",
       "     'n_estimators': 50},\n",
       "    {'max_depth': 10,\n",
       "     'max_features': 200,\n",
       "     'min_samples_leaf': 4,\n",
       "     'n_estimators': 50},\n",
       "    {'max_depth': 10,\n",
       "     'max_features': 200,\n",
       "     'min_samples_leaf': 4,\n",
       "     'n_estimators': 50}]]},\n",
       " 'ml_m_instrument_5': {'d': [[{'max_depth': 20,\n",
       "     'max_features': 200,\n",
       "     'min_samples_leaf': 1,\n",
       "     'n_estimators': 100},\n",
       "    {'max_depth': 20,\n",
       "     'max_features': 200,\n",
       "     'min_samples_leaf': 1,\n",
       "     'n_estimators': 100},\n",
       "    {'max_depth': 20,\n",
       "     'max_features': 200,\n",
       "     'min_samples_leaf': 1,\n",
       "     'n_estimators': 100},\n",
       "    {'max_depth': 20,\n",
       "     'max_features': 200,\n",
       "     'min_samples_leaf': 1,\n",
       "     'n_estimators': 100},\n",
       "    {'max_depth': 20,\n",
       "     'max_features': 200,\n",
       "     'min_samples_leaf': 1,\n",
       "     'n_estimators': 100}]]},\n",
       " 'ml_m_instrument_6': {'d': [[{'max_depth': 15,\n",
       "     'max_features': 200,\n",
       "     'min_samples_leaf': 2,\n",
       "     'n_estimators': 200},\n",
       "    {'max_depth': 15,\n",
       "     'max_features': 200,\n",
       "     'min_samples_leaf': 2,\n",
       "     'n_estimators': 200},\n",
       "    {'max_depth': 15,\n",
       "     'max_features': 200,\n",
       "     'min_samples_leaf': 2,\n",
       "     'n_estimators': 200},\n",
       "    {'max_depth': 15,\n",
       "     'max_features': 200,\n",
       "     'min_samples_leaf': 2,\n",
       "     'n_estimators': 200},\n",
       "    {'max_depth': 15,\n",
       "     'max_features': 200,\n",
       "     'min_samples_leaf': 2,\n",
       "     'n_estimators': 200}]]},\n",
       " 'ml_m_instrument_7': {'d': [[{'max_depth': 20,\n",
       "     'max_features': 200,\n",
       "     'min_samples_leaf': 4,\n",
       "     'n_estimators': 200},\n",
       "    {'max_depth': 20,\n",
       "     'max_features': 200,\n",
       "     'min_samples_leaf': 4,\n",
       "     'n_estimators': 200},\n",
       "    {'max_depth': 20,\n",
       "     'max_features': 200,\n",
       "     'min_samples_leaf': 4,\n",
       "     'n_estimators': 200},\n",
       "    {'max_depth': 20,\n",
       "     'max_features': 200,\n",
       "     'min_samples_leaf': 4,\n",
       "     'n_estimators': 200},\n",
       "    {'max_depth': 20,\n",
       "     'max_features': 200,\n",
       "     'min_samples_leaf': 4,\n",
       "     'n_estimators': 200}]]},\n",
       " 'ml_m_instrument_8': {'d': [[{'max_depth': 20,\n",
       "     'max_features': 200,\n",
       "     'min_samples_leaf': 4,\n",
       "     'n_estimators': 200},\n",
       "    {'max_depth': 20,\n",
       "     'max_features': 200,\n",
       "     'min_samples_leaf': 4,\n",
       "     'n_estimators': 200},\n",
       "    {'max_depth': 20,\n",
       "     'max_features': 200,\n",
       "     'min_samples_leaf': 4,\n",
       "     'n_estimators': 200},\n",
       "    {'max_depth': 20,\n",
       "     'max_features': 200,\n",
       "     'min_samples_leaf': 4,\n",
       "     'n_estimators': 200},\n",
       "    {'max_depth': 20,\n",
       "     'max_features': 200,\n",
       "     'min_samples_leaf': 4,\n",
       "     'n_estimators': 200}]]},\n",
       " 'ml_m_instrument_9': {'d': [[{'max_depth': 20,\n",
       "     'max_features': 200,\n",
       "     'min_samples_leaf': 4,\n",
       "     'n_estimators': 100},\n",
       "    {'max_depth': 20,\n",
       "     'max_features': 200,\n",
       "     'min_samples_leaf': 4,\n",
       "     'n_estimators': 100},\n",
       "    {'max_depth': 20,\n",
       "     'max_features': 200,\n",
       "     'min_samples_leaf': 4,\n",
       "     'n_estimators': 100},\n",
       "    {'max_depth': 20,\n",
       "     'max_features': 200,\n",
       "     'min_samples_leaf': 4,\n",
       "     'n_estimators': 100},\n",
       "    {'max_depth': 20,\n",
       "     'max_features': 200,\n",
       "     'min_samples_leaf': 4,\n",
       "     'n_estimators': 100}]]},\n",
       " 'ml_m_instrument_10': {'d': [[{'max_depth': 15,\n",
       "     'max_features': 200,\n",
       "     'min_samples_leaf': 4,\n",
       "     'n_estimators': 200},\n",
       "    {'max_depth': 15,\n",
       "     'max_features': 200,\n",
       "     'min_samples_leaf': 4,\n",
       "     'n_estimators': 200},\n",
       "    {'max_depth': 15,\n",
       "     'max_features': 200,\n",
       "     'min_samples_leaf': 4,\n",
       "     'n_estimators': 200},\n",
       "    {'max_depth': 15,\n",
       "     'max_features': 200,\n",
       "     'min_samples_leaf': 4,\n",
       "     'n_estimators': 200},\n",
       "    {'max_depth': 15,\n",
       "     'max_features': 200,\n",
       "     'min_samples_leaf': 4,\n",
       "     'n_estimators': 200}]]}}"
      ]
     },
     "execution_count": 248,
     "metadata": {},
     "output_type": "execute_result"
    }
   ],
   "source": [
    "dml_pliv_obj_rf.params"
   ]
  },
  {
   "cell_type": "markdown",
   "metadata": {},
   "source": [
    "- XGBoost"
   ]
  },
  {
   "cell_type": "code",
   "execution_count": null,
   "metadata": {},
   "outputs": [],
   "source": [
    "# Define the parameter grids for hyperparameter tuning for XGBoost\n",
    "par_grids_xgb = {\n",
    "    'ml_l': {\n",
    "        'n_estimators': [50, 100, 200],\n",
    "        'max_depth': [10, 15, 20, 25],\n",
    "        'learning_rate': [0.01, 0.05, 0.1],\n",
    "        'subsample': [0.6, 0.8, 1.0],\n",
    "        'colsample_bytree': [0.6, 0.8, 1.0],\n",
    "        'gamma': [0, 0.1, 0.2],\n",
    "        'min_child_weight': [1, 5, 10],\n",
    "        'reg_alpha': [0, 0.01, 0.1, 1],\n",
    "        'reg_lambda': [1, 1.5, 2]\n",
    "    },\n",
    "    'ml_m': {\n",
    "        'n_estimators': [50, 100, 200],\n",
    "        'max_depth': [10, 15, 20, 25],\n",
    "        'learning_rate': [0.01, 0.05, 0.1],\n",
    "        'subsample': [0.6, 0.8, 1.0],\n",
    "        'colsample_bytree': [0.6, 0.8, 1.0],\n",
    "        'gamma': [0, 0.1, 0.2],\n",
    "        'min_child_weight': [1, 5, 10],\n",
    "        'reg_alpha': [0, 0.01, 0.1, 1],\n",
    "        'reg_lambda': [1, 1.5, 2]\n",
    "    },\n",
    "    'ml_r': {\n",
    "        'n_estimators': [50, 100, 200],\n",
    "        'max_depth': [10, 15, 20, 25],\n",
    "        'learning_rate': [0.01, 0.05, 0.1],\n",
    "        'subsample': [0.6, 0.8, 1.0],\n",
    "        'colsample_bytree': [0.6, 0.8, 1.0],\n",
    "        'gamma': [0, 0.1, 0.2],\n",
    "        'min_child_weight': [1, 5, 10],\n",
    "        'reg_alpha': [0, 0.01, 0.1, 1],\n",
    "        'reg_lambda': [1, 1.5, 2]\n",
    "    }\n",
    "}\n",
    "\n",
    "\n",
    "boost = XGBRegressor(n_jobs=-1, objective = \"reg:squarederror\",\n",
    "                     eta=0.1, n_estimators=35)\n",
    "\n",
    "ml_l_boosting = clone(boost)\n",
    "ml_m_boosting = clone(boost)\n",
    "ml_r_boosting = clone(boost)\n",
    "\n",
    "# For boosting\n",
    "dml_pliv_obj_boosting = dml.DoubleMLPLIV(dml_data, ml_l_boosting, ml_m_boosting, ml_r_boosting)\n",
    "\n",
    "# Perform hyperparameter tuning\n",
    "dml_pliv_obj_boosting.tune(par_grids_xgb, search_mode='grid_search')\n",
    "\n",
    "print(dml_pliv_obj_boosting.params)\n"
   ]
  },
  {
   "cell_type": "markdown",
   "metadata": {},
   "source": [
    "# Run traditional Econometrics"
   ]
  },
  {
   "cell_type": "markdown",
   "metadata": {},
   "source": [
    "- Pooled 2SLS"
   ]
  },
  {
   "cell_type": "code",
   "execution_count": 157,
   "metadata": {},
   "outputs": [
    {
     "data": {
      "text/plain": [
       "{'Coefficient': [0.7724717411475097],\n",
       " 'Bias': [0.2725],\n",
       " 'Standard Error': [0.0407],\n",
       " 't-Statistic': [18.971954599166533],\n",
       " 'p-Value': [0.0],\n",
       " '95% CI Lower': [0.6926688518979972],\n",
       " '95% CI Upper': [0.8522746303970222],\n",
       " 'model_name': 'Pooled 2SLS'}"
      ]
     },
     "execution_count": 157,
     "metadata": {},
     "output_type": "execute_result"
    }
   ],
   "source": [
    "models.pooled_2sls()"
   ]
  },
  {
   "cell_type": "markdown",
   "metadata": {},
   "source": [
    "- FD 2SLS"
   ]
  },
  {
   "cell_type": "code",
   "execution_count": 158,
   "metadata": {},
   "outputs": [
    {
     "data": {
      "text/plain": [
       "{'Coefficient': [0.7084966710677669],\n",
       " 'Bias': [0.2085],\n",
       " 'Standard Error': [0.0322],\n",
       " 't-Statistic': [22.008836982744334],\n",
       " 'p-Value': [0.0],\n",
       " '95% CI Lower': [0.645402562117436],\n",
       " '95% CI Upper': [0.7715907800180979],\n",
       " 'model_name': 'First Differences'}"
      ]
     },
     "execution_count": 158,
     "metadata": {},
     "output_type": "execute_result"
    }
   ],
   "source": [
    "models.first_difference_2sls()"
   ]
  },
  {
   "cell_type": "markdown",
   "metadata": {},
   "source": [
    "# Run DML"
   ]
  },
  {
   "cell_type": "markdown",
   "metadata": {},
   "source": [
    "- LASSO"
   ]
  },
  {
   "cell_type": "code",
   "execution_count": 15,
   "metadata": {},
   "outputs": [
    {
     "data": {
      "text/plain": [
       "{'Coefficient': 1.0326,\n",
       " 'Bias': 0.5326,\n",
       " 'Standard Error': 0.0359,\n",
       " 't-Statistic': 28.79163665724218,\n",
       " 'p-Value': 2.729824177338479e-182,\n",
       " '95% CI Lower': 0.9623,\n",
       " '95% CI Upper': 1.1029,\n",
       " 'model_name': 'DML: LASSO',\n",
       " 'size_panel': 100}"
      ]
     },
     "execution_count": 15,
     "metadata": {},
     "output_type": "execute_result"
    }
   ],
   "source": [
    "models.dml_lasso(dml_data)"
   ]
  },
  {
   "cell_type": "markdown",
   "metadata": {},
   "source": [
    "- Gradient Boosting"
   ]
  },
  {
   "cell_type": "code",
   "execution_count": 4,
   "metadata": {},
   "outputs": [],
   "source": [
    "import doubleml as dml\n",
    "from sklearn.ensemble import RandomForestRegressor, GradientBoostingRegressor\n",
    "from sklearn.base import clone\n"
   ]
  },
  {
   "cell_type": "code",
   "execution_count": 15,
   "metadata": {},
   "outputs": [],
   "source": [
    "learner_boosting = GradientBoostingRegressor(n_estimators=200, max_depth=50, learning_rate=0.01)\n",
    "\n",
    "ml_l_boosting = clone(learner_boosting)\n",
    "ml_m_boosting = clone(learner_boosting)\n",
    "ml_r_boosting = clone(learner_boosting)\n",
    "\n",
    "# For boosting\n",
    "dml_pliv_obj_boosting = dml.DoubleMLPLIV(dml_data, ml_l_boosting, ml_m_boosting, ml_r_boosting)\n"
   ]
  },
  {
   "cell_type": "code",
   "execution_count": 17,
   "metadata": {},
   "outputs": [
    {
     "data": {
      "text/plain": [
       "{'Coefficient': 0.4272,\n",
       " 'Bias': -0.0728,\n",
       " 'Standard Error': 0.0572,\n",
       " 't-Statistic': 7.475335716458476,\n",
       " 'p-Value': 7.700700657336041e-14,\n",
       " '95% CI Lower': 0.3152,\n",
       " '95% CI Upper': 0.5392,\n",
       " 'model_name': 'DML: Gradient Boosting',\n",
       " 'size_panel': 50}"
      ]
     },
     "execution_count": 17,
     "metadata": {},
     "output_type": "execute_result"
    }
   ],
   "source": [
    "# fit_obj = dml_pliv_obj_boosting._partialXZ(dml_data, ml_l_boosting, ml_m_boosting, ml_r_boosting).fit()\n",
    "\n",
    "fit_obj = dml_pliv_obj_boosting._partialXZ(dml_data, ml_l_boosting, ml_m_boosting,ml_r_boosting).fit() #ml_l_boosting, ml_m_boosting,\n",
    "results_df = models.generate_point_inference(fit_obj=fit_obj, model_name=\"DML: Gradient Boosting\", framework=\"doubleml\")\n",
    "results_df\n"
   ]
  },
  {
   "cell_type": "code",
   "execution_count": 29,
   "metadata": {},
   "outputs": [
    {
     "name": "stdout",
     "output_type": "stream",
     "text": [
      "================== DoubleMLPLIV Object ==================\n",
      "\n",
      "------------------ Data summary      ------------------\n",
      "Outcome variable: Y\n",
      "Treatment variable(s): ['D']\n",
      "Cluster variable(s): ['Individual']\n",
      "Covariates: ['individual_0', 'individual_1', 'individual_2', 'individual_3', 'individual_4', 'individual_5', 'individual_6', 'individual_7', 'individual_8', 'individual_9', 'individual_10', 'individual_11', 'individual_12', 'individual_13', 'individual_14', 'individual_15', 'individual_16', 'individual_17', 'individual_18', 'individual_19', 'individual_20', 'individual_21', 'individual_22', 'individual_23', 'individual_24', 'individual_25', 'individual_26', 'individual_27', 'individual_28', 'individual_29', 'individual_30', 'individual_31', 'individual_32', 'individual_33', 'individual_34', 'individual_35', 'individual_36', 'individual_37', 'individual_38', 'individual_39', 'individual_40', 'individual_41', 'individual_42', 'individual_43', 'individual_44', 'individual_45', 'individual_46', 'individual_47', 'individual_48', 'individual_49', 'individual_50', 'individual_51', 'individual_52', 'individual_53', 'individual_54', 'individual_55', 'individual_56', 'individual_57', 'individual_58', 'individual_59', 'individual_60', 'individual_61', 'individual_62', 'individual_63', 'individual_64', 'individual_65', 'individual_66', 'individual_67', 'individual_68', 'individual_69', 'individual_70', 'individual_71', 'individual_72', 'individual_73', 'individual_74', 'individual_75', 'individual_76', 'individual_77', 'individual_78', 'individual_79', 'individual_80', 'individual_81', 'individual_82', 'individual_83', 'individual_84', 'individual_85', 'individual_86', 'individual_87', 'individual_88', 'individual_89', 'individual_90', 'individual_91', 'individual_92', 'individual_93', 'individual_94', 'individual_95', 'individual_96', 'individual_97', 'individual_98', 'individual_99', 'individual_100', 'individual_101', 'individual_102', 'individual_103', 'individual_104', 'individual_105', 'individual_106', 'individual_107', 'individual_108', 'individual_109', 'individual_110', 'individual_111', 'individual_112', 'individual_113', 'individual_114', 'individual_115', 'individual_116', 'individual_117', 'individual_118', 'individual_119', 'individual_120', 'individual_121', 'individual_122', 'individual_123', 'individual_124', 'individual_125', 'individual_126', 'individual_127', 'individual_128', 'individual_129', 'individual_130', 'individual_131', 'individual_132', 'individual_133', 'individual_134', 'individual_135', 'individual_136', 'individual_137', 'individual_138', 'individual_139', 'individual_140', 'individual_141', 'individual_142', 'individual_143', 'individual_144', 'individual_145', 'individual_146', 'individual_147', 'individual_148', 'individual_149', 'time_0', 'time_1', 'time_2', 'time_3', 'time_4', 'time_5', 'time_6', 'time_7', 'time_8', 'time_9', 'Y_lag', 'D_lag']\n",
      "Instrument variable(s): ['instrument_1', 'instrument_2', 'instrument_3', 'instrument_4', 'instrument_5', 'instrument_6', 'instrument_7', 'instrument_8', 'instrument_9', 'instrument_10', 'instrument_11', 'instrument_12', 'instrument_13', 'instrument_14', 'instrument_15', 'instrument_16', 'instrument_17', 'instrument_18', 'instrument_19', 'instrument_20', 'instrument_21', 'instrument_22', 'instrument_23', 'instrument_24', 'instrument_25', 'instrument_26', 'instrument_27', 'instrument_28', 'instrument_29', 'instrument_30', 'instrument_31', 'instrument_32', 'instrument_33', 'instrument_34', 'instrument_35', 'instrument_36', 'instrument_37', 'instrument_38', 'instrument_39', 'instrument_40', 'instrument_41', 'instrument_42', 'instrument_43', 'instrument_44', 'instrument_45', 'instrument_46', 'instrument_47', 'instrument_48', 'instrument_49', 'instrument_50', 'instrument_51', 'instrument_52', 'instrument_53', 'instrument_54', 'instrument_55', 'instrument_56', 'instrument_57', 'instrument_58', 'instrument_59', 'instrument_60', 'instrument_61', 'instrument_62', 'instrument_63', 'instrument_64', 'instrument_65', 'instrument_66', 'instrument_67', 'instrument_68', 'instrument_69', 'instrument_70', 'instrument_71', 'instrument_72', 'instrument_73', 'instrument_74', 'instrument_75', 'instrument_76', 'instrument_77', 'instrument_78', 'instrument_79', 'instrument_80', 'instrument_81', 'instrument_82', 'instrument_83', 'instrument_84', 'instrument_85', 'instrument_86', 'instrument_87', 'instrument_88', 'instrument_89', 'instrument_90', 'instrument_91', 'instrument_92', 'instrument_93', 'instrument_94', 'instrument_95', 'instrument_96', 'instrument_97', 'instrument_98', 'instrument_99', 'instrument_100', 'instrument_101', 'instrument_102', 'instrument_103', 'instrument_104', 'instrument_105', 'instrument_106', 'instrument_107', 'instrument_108', 'instrument_109', 'instrument_110', 'instrument_111', 'instrument_112', 'instrument_113', 'instrument_114', 'instrument_115', 'instrument_116', 'instrument_117', 'instrument_118', 'instrument_119', 'instrument_120', 'instrument_121', 'instrument_122', 'instrument_123', 'instrument_124', 'instrument_125', 'instrument_126', 'instrument_127', 'instrument_128', 'instrument_129', 'instrument_130', 'instrument_131', 'instrument_132', 'instrument_133', 'instrument_134', 'instrument_135', 'instrument_136', 'instrument_137', 'instrument_138', 'instrument_139', 'instrument_140', 'instrument_141', 'instrument_142', 'instrument_143', 'instrument_144', 'instrument_145', 'instrument_146', 'instrument_147', 'instrument_148', 'instrument_149', 'instrument_150', 'instrument_151', 'instrument_152', 'instrument_153', 'instrument_154', 'instrument_155', 'instrument_156', 'instrument_157', 'instrument_158', 'instrument_159', 'instrument_160', 'instrument_161', 'instrument_162', 'instrument_163', 'instrument_164', 'instrument_165', 'instrument_166', 'instrument_167', 'instrument_168', 'instrument_169', 'instrument_170', 'instrument_171', 'instrument_172', 'instrument_173', 'instrument_174', 'instrument_175', 'instrument_176', 'instrument_177', 'instrument_178', 'instrument_179', 'instrument_180', 'instrument_181', 'instrument_182', 'instrument_183', 'instrument_184', 'instrument_185', 'instrument_186', 'instrument_187', 'instrument_188', 'instrument_189', 'instrument_190', 'instrument_191', 'instrument_192', 'instrument_193', 'instrument_194', 'instrument_195', 'instrument_196', 'instrument_197', 'instrument_198', 'instrument_199', 'instrument_200', 'instrument_201', 'instrument_202', 'instrument_203', 'instrument_204', 'instrument_205', 'instrument_206', 'instrument_207', 'instrument_208', 'instrument_209', 'instrument_210', 'instrument_211', 'instrument_212', 'instrument_213', 'instrument_214', 'instrument_215', 'instrument_216', 'instrument_217', 'instrument_218', 'instrument_219', 'instrument_220', 'instrument_221', 'instrument_222', 'instrument_223', 'instrument_224', 'instrument_225', 'instrument_226', 'instrument_227', 'instrument_228', 'instrument_229', 'instrument_230', 'instrument_231', 'instrument_232', 'instrument_233', 'instrument_234', 'instrument_235', 'instrument_236', 'instrument_237', 'instrument_238', 'instrument_239', 'instrument_240', 'instrument_241', 'instrument_242', 'instrument_243', 'instrument_244', 'instrument_245', 'instrument_246', 'instrument_247', 'instrument_248', 'instrument_249', 'instrument_250', 'instrument_251', 'instrument_252', 'instrument_253', 'instrument_254', 'instrument_255', 'instrument_256', 'instrument_257', 'instrument_258', 'instrument_259', 'instrument_260', 'instrument_261', 'instrument_262', 'instrument_263', 'instrument_264', 'instrument_265', 'instrument_266', 'instrument_267', 'instrument_268', 'instrument_269', 'instrument_270', 'instrument_271', 'instrument_272', 'instrument_273', 'instrument_274', 'instrument_275', 'instrument_276', 'instrument_277', 'instrument_278', 'instrument_279', 'instrument_280', 'instrument_281', 'instrument_282', 'instrument_283', 'instrument_284', 'instrument_285', 'instrument_286', 'instrument_287', 'instrument_288', 'instrument_289', 'instrument_290', 'instrument_291', 'instrument_292', 'instrument_293', 'instrument_294', 'instrument_295', 'instrument_296', 'instrument_297', 'instrument_298', 'instrument_299', 'instrument_300', 'instrument_301', 'instrument_302', 'instrument_303', 'instrument_304', 'instrument_305', 'instrument_306', 'instrument_307', 'instrument_308', 'instrument_309', 'instrument_310', 'instrument_311', 'instrument_312', 'instrument_313', 'instrument_314', 'instrument_315', 'instrument_316', 'instrument_317', 'instrument_318', 'instrument_319', 'instrument_320', 'instrument_321', 'instrument_322', 'instrument_323', 'instrument_324', 'instrument_325', 'instrument_326', 'instrument_327', 'instrument_328', 'instrument_329', 'instrument_330', 'instrument_331', 'instrument_332', 'instrument_333', 'instrument_334', 'instrument_335', 'instrument_336', 'instrument_337', 'instrument_338', 'instrument_339', 'instrument_340', 'instrument_341', 'instrument_342', 'instrument_343', 'instrument_344', 'instrument_345', 'instrument_346', 'instrument_347', 'instrument_348', 'instrument_349', 'instrument_350', 'instrument_351', 'instrument_352', 'instrument_353', 'instrument_354', 'instrument_355', 'instrument_356', 'instrument_357', 'instrument_358', 'instrument_359', 'instrument_360', 'instrument_361', 'instrument_362', 'instrument_363', 'instrument_364', 'instrument_365', 'instrument_366', 'instrument_367', 'instrument_368', 'instrument_369', 'instrument_370', 'instrument_371', 'instrument_372', 'instrument_373', 'instrument_374', 'instrument_375', 'instrument_376', 'instrument_377', 'instrument_378', 'instrument_379', 'instrument_380', 'instrument_381', 'instrument_382', 'instrument_383', 'instrument_384', 'instrument_385', 'instrument_386', 'instrument_387', 'instrument_388', 'instrument_389', 'instrument_390', 'instrument_391', 'instrument_392', 'instrument_393', 'instrument_394', 'instrument_395', 'instrument_396', 'instrument_397', 'instrument_398', 'instrument_399', 'instrument_400', 'instrument_401', 'instrument_402', 'instrument_403', 'instrument_404', 'instrument_405', 'instrument_406', 'instrument_407', 'instrument_408', 'instrument_409', 'instrument_410', 'instrument_411', 'instrument_412', 'instrument_413', 'instrument_414', 'instrument_415', 'instrument_416', 'instrument_417', 'instrument_418', 'instrument_419', 'instrument_420', 'instrument_421', 'instrument_422', 'instrument_423', 'instrument_424', 'instrument_425', 'instrument_426', 'instrument_427', 'instrument_428', 'instrument_429', 'instrument_430', 'instrument_431', 'instrument_432', 'instrument_433', 'instrument_434', 'instrument_435', 'instrument_436', 'instrument_437', 'instrument_438', 'instrument_439', 'instrument_440', 'instrument_441', 'instrument_442', 'instrument_443', 'instrument_444', 'instrument_445', 'instrument_446', 'instrument_447', 'instrument_448', 'instrument_449', 'instrument_450', 'instrument_451', 'instrument_452', 'instrument_453', 'instrument_454', 'instrument_455', 'instrument_456', 'instrument_457', 'instrument_458', 'instrument_459', 'instrument_460', 'instrument_461', 'instrument_462', 'instrument_463', 'instrument_464', 'instrument_465', 'instrument_466', 'instrument_467', 'instrument_468', 'instrument_469', 'instrument_470', 'instrument_471', 'instrument_472', 'instrument_473', 'instrument_474', 'instrument_475', 'instrument_476', 'instrument_477', 'instrument_478', 'instrument_479', 'instrument_480', 'instrument_481', 'instrument_482', 'instrument_483', 'instrument_484', 'instrument_485', 'instrument_486', 'instrument_487', 'instrument_488', 'instrument_489', 'instrument_490', 'instrument_491', 'instrument_492', 'instrument_493', 'instrument_494', 'instrument_495', 'instrument_496', 'instrument_497', 'instrument_498', 'instrument_499', 'instrument_500', 'instrument_501', 'instrument_502', 'instrument_503', 'instrument_504', 'instrument_505', 'instrument_506', 'instrument_507', 'instrument_508', 'instrument_509', 'instrument_510', 'instrument_511', 'instrument_512', 'instrument_513', 'instrument_514', 'instrument_515', 'instrument_516', 'instrument_517', 'instrument_518', 'instrument_519', 'instrument_520', 'instrument_521', 'instrument_522', 'instrument_523', 'instrument_524', 'instrument_525', 'instrument_526', 'instrument_527', 'instrument_528', 'instrument_529', 'instrument_530', 'instrument_531', 'instrument_532', 'instrument_533', 'instrument_534', 'instrument_535', 'instrument_536', 'instrument_537', 'instrument_538', 'instrument_539', 'instrument_540', 'instrument_541', 'instrument_542', 'instrument_543', 'instrument_544', 'instrument_545', 'instrument_546', 'instrument_547', 'instrument_548', 'instrument_549', 'instrument_550', 'instrument_551', 'instrument_552', 'instrument_553', 'instrument_554', 'instrument_555', 'instrument_556', 'instrument_557', 'instrument_558', 'instrument_559', 'instrument_560', 'instrument_561', 'instrument_562', 'instrument_563', 'instrument_564', 'instrument_565', 'instrument_566', 'instrument_567', 'instrument_568', 'instrument_569', 'instrument_570', 'instrument_571', 'instrument_572', 'instrument_573', 'instrument_574', 'instrument_575', 'instrument_576', 'instrument_577', 'instrument_578', 'instrument_579', 'instrument_580', 'instrument_581', 'instrument_582', 'instrument_583', 'instrument_584', 'instrument_585', 'instrument_586', 'instrument_587', 'instrument_588', 'instrument_589', 'instrument_590', 'instrument_591', 'instrument_592', 'instrument_593', 'instrument_594', 'instrument_595', 'instrument_596', 'instrument_597', 'instrument_598', 'instrument_599', 'instrument_600', 'instrument_601', 'instrument_602', 'instrument_603', 'instrument_604', 'instrument_605', 'instrument_606', 'instrument_607', 'instrument_608', 'instrument_609', 'instrument_610', 'instrument_611', 'instrument_612', 'instrument_613', 'instrument_614', 'instrument_615', 'instrument_616', 'instrument_617', 'instrument_618', 'instrument_619', 'instrument_620', 'instrument_621', 'instrument_622', 'instrument_623', 'instrument_624', 'instrument_625', 'instrument_626', 'instrument_627', 'instrument_628', 'instrument_629', 'instrument_630', 'instrument_631', 'instrument_632', 'instrument_633', 'instrument_634', 'instrument_635', 'instrument_636', 'instrument_637', 'instrument_638', 'instrument_639', 'instrument_640', 'instrument_641', 'instrument_642', 'instrument_643', 'instrument_644', 'instrument_645', 'instrument_646', 'instrument_647', 'instrument_648', 'instrument_649', 'instrument_650', 'instrument_651', 'instrument_652', 'instrument_653', 'instrument_654', 'instrument_655', 'instrument_656', 'instrument_657', 'instrument_658', 'instrument_659', 'instrument_660', 'instrument_661', 'instrument_662', 'instrument_663', 'instrument_664', 'instrument_665', 'instrument_666', 'instrument_667', 'instrument_668', 'instrument_669', 'instrument_670', 'instrument_671', 'instrument_672', 'instrument_673', 'instrument_674', 'instrument_675', 'instrument_676', 'instrument_677', 'instrument_678', 'instrument_679', 'instrument_680', 'instrument_681', 'instrument_682', 'instrument_683', 'instrument_684', 'instrument_685', 'instrument_686', 'instrument_687', 'instrument_688', 'instrument_689', 'instrument_690', 'instrument_691', 'instrument_692', 'instrument_693', 'instrument_694', 'instrument_695', 'instrument_696', 'instrument_697', 'instrument_698', 'instrument_699', 'instrument_700', 'instrument_701', 'instrument_702', 'instrument_703', 'instrument_704', 'instrument_705', 'instrument_706', 'instrument_707', 'instrument_708', 'instrument_709', 'instrument_710', 'instrument_711', 'instrument_712', 'instrument_713', 'instrument_714', 'instrument_715', 'instrument_716', 'instrument_717', 'instrument_718', 'instrument_719', 'instrument_720', 'instrument_721', 'instrument_722', 'instrument_723', 'instrument_724', 'instrument_725', 'instrument_726', 'instrument_727', 'instrument_728', 'instrument_729', 'instrument_730', 'instrument_731', 'instrument_732', 'instrument_733', 'instrument_734', 'instrument_735', 'instrument_736', 'instrument_737', 'instrument_738', 'instrument_739', 'instrument_740', 'instrument_741', 'instrument_742', 'instrument_743', 'instrument_744', 'instrument_745', 'instrument_746', 'instrument_747', 'instrument_748', 'instrument_749', 'instrument_750', 'instrument_751', 'instrument_752', 'instrument_753', 'instrument_754', 'instrument_755', 'instrument_756', 'instrument_757', 'instrument_758', 'instrument_759', 'instrument_760', 'instrument_761', 'instrument_762', 'instrument_763', 'instrument_764', 'instrument_765', 'instrument_766', 'instrument_767', 'instrument_768', 'instrument_769', 'instrument_770', 'instrument_771', 'instrument_772', 'instrument_773', 'instrument_774', 'instrument_775', 'instrument_776', 'instrument_777', 'instrument_778', 'instrument_779', 'instrument_780', 'instrument_781', 'instrument_782', 'instrument_783', 'instrument_784', 'instrument_785', 'instrument_786', 'instrument_787', 'instrument_788', 'instrument_789', 'instrument_790', 'instrument_791', 'instrument_792', 'instrument_793', 'instrument_794', 'instrument_795', 'instrument_796', 'instrument_797', 'instrument_798', 'instrument_799', 'instrument_800', 'instrument_801', 'instrument_802', 'instrument_803', 'instrument_804', 'instrument_805', 'instrument_806', 'instrument_807', 'instrument_808', 'instrument_809', 'instrument_810', 'instrument_811', 'instrument_812', 'instrument_813', 'instrument_814', 'instrument_815', 'instrument_816', 'instrument_817', 'instrument_818', 'instrument_819', 'instrument_820', 'instrument_821', 'instrument_822', 'instrument_823', 'instrument_824', 'instrument_825', 'instrument_826', 'instrument_827', 'instrument_828', 'instrument_829', 'instrument_830', 'instrument_831', 'instrument_832', 'instrument_833', 'instrument_834', 'instrument_835', 'instrument_836', 'instrument_837', 'instrument_838', 'instrument_839', 'instrument_840', 'instrument_841', 'instrument_842', 'instrument_843', 'instrument_844', 'instrument_845', 'instrument_846', 'instrument_847', 'instrument_848', 'instrument_849', 'instrument_850', 'instrument_851', 'instrument_852', 'instrument_853', 'instrument_854', 'instrument_855', 'instrument_856', 'instrument_857', 'instrument_858', 'instrument_859', 'instrument_860', 'instrument_861', 'instrument_862', 'instrument_863', 'instrument_864', 'instrument_865', 'instrument_866', 'instrument_867', 'instrument_868', 'instrument_869', 'instrument_870', 'instrument_871', 'instrument_872', 'instrument_873', 'instrument_874', 'instrument_875', 'instrument_876', 'instrument_877', 'instrument_878', 'instrument_879', 'instrument_880', 'instrument_881', 'instrument_882', 'instrument_883', 'instrument_884', 'instrument_885', 'instrument_886', 'instrument_887', 'instrument_888', 'instrument_889', 'instrument_890', 'instrument_891', 'instrument_892', 'instrument_893', 'instrument_894', 'instrument_895', 'instrument_896', 'instrument_897', 'instrument_898', 'instrument_899', 'instrument_900', 'instrument_901', 'instrument_902', 'instrument_903', 'instrument_904', 'instrument_905', 'instrument_906', 'instrument_907', 'instrument_908', 'instrument_909', 'instrument_910', 'instrument_911', 'instrument_912', 'instrument_913', 'instrument_914', 'instrument_915', 'instrument_916', 'instrument_917', 'instrument_918', 'instrument_919', 'instrument_920', 'instrument_921', 'instrument_922', 'instrument_923', 'instrument_924', 'instrument_925', 'instrument_926', 'instrument_927', 'instrument_928', 'instrument_929', 'instrument_930', 'instrument_931', 'instrument_932', 'instrument_933', 'instrument_934', 'instrument_935', 'instrument_936', 'instrument_937', 'instrument_938', 'instrument_939', 'instrument_940', 'instrument_941', 'instrument_942', 'instrument_943', 'instrument_944', 'instrument_945', 'instrument_946', 'instrument_947', 'instrument_948', 'instrument_949', 'instrument_950', 'instrument_951', 'instrument_952', 'instrument_953', 'instrument_954', 'instrument_955', 'instrument_956', 'instrument_957', 'instrument_958', 'instrument_959', 'instrument_960', 'instrument_961', 'instrument_962', 'instrument_963', 'instrument_964', 'instrument_965', 'instrument_966', 'instrument_967', 'instrument_968', 'instrument_969', 'instrument_970', 'instrument_971', 'instrument_972', 'instrument_973', 'instrument_974', 'instrument_975', 'instrument_976', 'instrument_977', 'instrument_978', 'instrument_979', 'instrument_980', 'instrument_981', 'instrument_982', 'instrument_983', 'instrument_984', 'instrument_985', 'instrument_986', 'instrument_987', 'instrument_988', 'instrument_989', 'instrument_990', 'instrument_991', 'instrument_992', 'instrument_993', 'instrument_994', 'instrument_995', 'instrument_996', 'instrument_997', 'instrument_998', 'instrument_999', 'instrument_1000', 'instrument_1001', 'instrument_1002', 'instrument_1003', 'instrument_1004', 'instrument_1005', 'instrument_1006', 'instrument_1007', 'instrument_1008', 'instrument_1009', 'instrument_1010', 'instrument_1011', 'instrument_1012', 'instrument_1013', 'instrument_1014', 'instrument_1015', 'instrument_1016', 'instrument_1017', 'instrument_1018', 'instrument_1019', 'instrument_1020', 'instrument_1021', 'instrument_1022', 'instrument_1023', 'instrument_1024', 'instrument_1025', 'instrument_1026', 'instrument_1027', 'instrument_1028', 'instrument_1029', 'instrument_1030', 'instrument_1031', 'instrument_1032', 'instrument_1033', 'instrument_1034', 'instrument_1035', 'instrument_1036', 'instrument_1037', 'instrument_1038', 'instrument_1039', 'instrument_1040', 'instrument_1041', 'instrument_1042', 'instrument_1043', 'instrument_1044', 'instrument_1045', 'instrument_1046', 'instrument_1047', 'instrument_1048', 'instrument_1049', 'instrument_1050', 'instrument_1051', 'instrument_1052', 'instrument_1053', 'instrument_1054', 'instrument_1055', 'instrument_1056', 'instrument_1057', 'instrument_1058', 'instrument_1059', 'instrument_1060', 'instrument_1061', 'instrument_1062', 'instrument_1063', 'instrument_1064', 'instrument_1065', 'instrument_1066', 'instrument_1067', 'instrument_1068', 'instrument_1069', 'instrument_1070', 'instrument_1071', 'instrument_1072', 'instrument_1073', 'instrument_1074', 'instrument_1075', 'instrument_1076', 'instrument_1077', 'instrument_1078', 'instrument_1079', 'instrument_1080', 'instrument_1081', 'instrument_1082', 'instrument_1083', 'instrument_1084', 'instrument_1085', 'instrument_1086', 'instrument_1087', 'instrument_1088', 'instrument_1089', 'instrument_1090', 'instrument_1091', 'instrument_1092', 'instrument_1093', 'instrument_1094', 'instrument_1095', 'instrument_1096', 'instrument_1097', 'instrument_1098', 'instrument_1099', 'instrument_1100', 'instrument_1101', 'instrument_1102', 'instrument_1103', 'instrument_1104', 'instrument_1105', 'instrument_1106', 'instrument_1107', 'instrument_1108', 'instrument_1109', 'instrument_1110', 'instrument_1111', 'instrument_1112', 'instrument_1113', 'instrument_1114', 'instrument_1115', 'instrument_1116', 'instrument_1117', 'instrument_1118', 'instrument_1119', 'instrument_1120', 'instrument_1121', 'instrument_1122', 'instrument_1123', 'instrument_1124', 'instrument_1125', 'instrument_1126', 'instrument_1127', 'instrument_1128', 'instrument_1129', 'instrument_1130', 'instrument_1131', 'instrument_1132', 'instrument_1133', 'instrument_1134', 'instrument_1135', 'instrument_1136', 'instrument_1137', 'instrument_1138', 'instrument_1139', 'instrument_1140', 'instrument_1141', 'instrument_1142', 'instrument_1143', 'instrument_1144', 'instrument_1145', 'instrument_1146', 'instrument_1147', 'instrument_1148', 'instrument_1149', 'instrument_1150', 'instrument_1151', 'instrument_1152', 'instrument_1153', 'instrument_1154', 'instrument_1155', 'instrument_1156', 'instrument_1157', 'instrument_1158', 'instrument_1159', 'instrument_1160', 'instrument_1161', 'instrument_1162', 'instrument_1163', 'instrument_1164', 'instrument_1165', 'instrument_1166', 'instrument_1167', 'instrument_1168', 'instrument_1169', 'instrument_1170', 'instrument_1171', 'instrument_1172', 'instrument_1173', 'instrument_1174', 'instrument_1175', 'instrument_1176', 'instrument_1177', 'instrument_1178', 'instrument_1179', 'instrument_1180', 'instrument_1181', 'instrument_1182', 'instrument_1183', 'instrument_1184', 'instrument_1185', 'instrument_1186', 'instrument_1187', 'instrument_1188', 'instrument_1189', 'instrument_1190', 'instrument_1191', 'instrument_1192', 'instrument_1193', 'instrument_1194', 'instrument_1195', 'instrument_1196', 'instrument_1197', 'instrument_1198', 'instrument_1199', 'instrument_1200']\n",
      "No. Observations: 1200\n",
      "\n",
      "------------------ Score & algorithm ------------------\n",
      "Score function: partialling out\n",
      "DML algorithm: dml2\n",
      "\n",
      "------------------ Machine learner   ------------------\n",
      "Learner ml_r: GradientBoostingRegressor(learning_rate=0.01, max_depth=50, n_estimators=200)\n",
      "Out-of-sample Performance:\n",
      "Learner ml_r RMSE: [[1.415352]]\n",
      "\n",
      "------------------ Resampling        ------------------\n",
      "No. folds per cluster: 5\n",
      "No. folds: 5\n",
      "No. repeated sample splits: 1\n",
      "Apply cross-fitting: True\n",
      "\n",
      "------------------ Fit summary       ------------------\n",
      "       coef   std err          t         P>|t|     2.5 %    97.5 %\n",
      "D  0.501754  0.038934  12.887161  5.316544e-38  0.425444  0.578064\n"
     ]
    }
   ],
   "source": [
    "print(fit_obj)"
   ]
  },
  {
   "cell_type": "markdown",
   "metadata": {},
   "source": [
    "- Random Forests"
   ]
  },
  {
   "cell_type": "code",
   "execution_count": 346,
   "metadata": {},
   "outputs": [
    {
     "data": {
      "text/plain": [
       "{'Coefficient': 1.0625,\n",
       " 'Bias': 0.0625,\n",
       " 'Standard Error': 0.0821,\n",
       " 't-Statistic': 12.93630190711105,\n",
       " 'p-Value': 2.8082524144238326e-38,\n",
       " '95% CI Lower': 0.9015,\n",
       " '95% CI Upper': 1.2235,\n",
       " 'model_name': 'DML: Random Forests',\n",
       " 'size_panel': 50}"
      ]
     },
     "execution_count": 346,
     "metadata": {},
     "output_type": "execute_result"
    }
   ],
   "source": [
    "models.dml_random_forest(dml_data)"
   ]
  },
  {
   "cell_type": "markdown",
   "metadata": {},
   "source": [
    "## Run all simulations"
   ]
  },
  {
   "cell_type": "code",
   "execution_count": 3,
   "metadata": {},
   "outputs": [
    {
     "name": "stdout",
     "output_type": "stream",
     "text": [
      "Num instruments: 250\n",
      "Num instruments: 500\n",
      "Num instruments: 750\n",
      "Num instruments: 1000\n",
      "----- success! ----\n"
     ]
    }
   ],
   "source": [
    "# Simulation settings\n",
    "n_values = [50, 100, 150, 200]\n",
    "T = 10\n",
    "alpha=0.5\n",
    "\n",
    "list_of_results = []\n",
    "for n in n_values:\n",
    "    # Instantiate DGP class\n",
    "    generate_dgp = GenerateDGP(n=n, T=T, alpha=alpha)\n",
    "\n",
    "    # Specify instruments\n",
    "    #num_instruments = n_values * (T - 2)\n",
    "    num_instruments = int((n*T) * 0.5)\n",
    "    df = generate_dgp.generate_data_chernozhukov(num_instruments=num_instruments)\n",
    "\n",
    "    # Instantiate model's class\n",
    "    models = CausalInferenceModels(\n",
    "        df=df, y_column='Y', d_columns='D', unit_column='Individual', time_column='Time', \n",
    "        desired_alpha=alpha, n=n)\n",
    "\n",
    "    # DML setup\n",
    "    dml_data = models.prepare_dml_data()\n",
    "\n",
    "    # Run models\n",
    "    pooled_ols_results = models.pooled_2sls()\n",
    "    fe_2sls_results = models.first_difference_2sls()\n",
    "    lasso_results = models.dml_lasso(dml_data)\n",
    "    random_forest_results = models.dml_random_forest(dml_data)\n",
    "    gbm_results = models.dml_gbm(dml_data)\n",
    "\n",
    "    list_of_results.append([pooled_ols_results, fe_2sls_results, lasso_results, random_forest_results, gbm_results])\n",
    "    \n",
    "    \n",
    "# Flatten the list of lists\n",
    "flat_list = [item for sublist in list_of_results for item in sublist]\n",
    "\n",
    "# Convert the flattened list into a DataFrame\n",
    "df_results = pd.DataFrame(flat_list)\n",
    "\n",
    "df_results.to_excel(\n",
    "    \"/Users/gabrieldiasmp/Documents/pasta_gabriel/codigo/master_thesis/data/results_simulation_50_pct_v2.xlsx\",\n",
    "    index=False\n",
    ")\n",
    "print(\"----- success! ----\")\n",
    "    "
   ]
  },
  {
   "cell_type": "code",
   "execution_count": 176,
   "metadata": {},
   "outputs": [
    {
     "data": {
      "text/plain": [
       "{'Coefficient': [0.7056874864673762],\n",
       " 'Bias': [0.2057],\n",
       " 'Standard Error': [0.0264],\n",
       " 't-Statistic': [26.726668531428064],\n",
       " 'p-Value': [2.306210930163694e-157],\n",
       " '95% CI Lower': [0.6539368518459967],\n",
       " '95% CI Upper': [0.7574381210887557],\n",
       " 'model_name': 'DML: LASSO'}"
      ]
     },
     "execution_count": 176,
     "metadata": {},
     "output_type": "execute_result"
    }
   ],
   "source": [
    "lasso_results"
   ]
  },
  {
   "cell_type": "code",
   "execution_count": 175,
   "metadata": {},
   "outputs": [
    {
     "data": {
      "text/plain": [
       "{'Coefficient': [0.7056874864673762],\n",
       " 'Bias': [0.2057],\n",
       " 'Standard Error': [0.0264],\n",
       " 't-Statistic': [26.726668531428064],\n",
       " 'p-Value': [2.306210930163694e-157],\n",
       " '95% CI Lower': [0.6539368518459967],\n",
       " '95% CI Upper': [0.7574381210887557],\n",
       " 'model_name': 'DML: LASSO'}"
      ]
     },
     "execution_count": 175,
     "metadata": {},
     "output_type": "execute_result"
    }
   ],
   "source": [
    "list_of_results[1][0]"
   ]
  },
  {
   "cell_type": "code",
   "execution_count": 171,
   "metadata": {},
   "outputs": [],
   "source": [
    "# Flatten the list of dictionaries\n",
    "flat_list = [{k: v for d in sublist for k, v in d.items()} for sublist in list_of_results]\n",
    "\n",
    "# Convert the flattened list into a DataFrame\n",
    "df = pd.DataFrame(flat_list)"
   ]
  },
  {
   "cell_type": "code",
   "execution_count": 179,
   "metadata": {},
   "outputs": [],
   "source": [
    "# Flatten the list of lists\n",
    "flat_list = [item for sublist in list_of_results for item in sublist]\n",
    "\n",
    "# Convert the flattened list into a DataFrame\n",
    "df = pd.DataFrame(flat_list)"
   ]
  },
  {
   "cell_type": "code",
   "execution_count": 180,
   "metadata": {},
   "outputs": [
    {
     "data": {
      "text/html": [
       "<div>\n",
       "<style scoped>\n",
       "    .dataframe tbody tr th:only-of-type {\n",
       "        vertical-align: middle;\n",
       "    }\n",
       "\n",
       "    .dataframe tbody tr th {\n",
       "        vertical-align: top;\n",
       "    }\n",
       "\n",
       "    .dataframe thead th {\n",
       "        text-align: right;\n",
       "    }\n",
       "</style>\n",
       "<table border=\"1\" class=\"dataframe\">\n",
       "  <thead>\n",
       "    <tr style=\"text-align: right;\">\n",
       "      <th></th>\n",
       "      <th>Coefficient</th>\n",
       "      <th>Bias</th>\n",
       "      <th>Standard Error</th>\n",
       "      <th>t-Statistic</th>\n",
       "      <th>p-Value</th>\n",
       "      <th>95% CI Lower</th>\n",
       "      <th>95% CI Upper</th>\n",
       "      <th>model_name</th>\n",
       "    </tr>\n",
       "  </thead>\n",
       "  <tbody>\n",
       "    <tr>\n",
       "      <th>0</th>\n",
       "      <td>[0.6847384422411675]</td>\n",
       "      <td>[0.1847]</td>\n",
       "      <td>[0.0345]</td>\n",
       "      <td>[19.820863417818444]</td>\n",
       "      <td>[1.967047992045941e-87]</td>\n",
       "      <td>[0.6170288446655005]</td>\n",
       "      <td>[0.7524480398168346]</td>\n",
       "      <td>DML: LASSO</td>\n",
       "    </tr>\n",
       "    <tr>\n",
       "      <th>1</th>\n",
       "      <td>[0.6986151149702423]</td>\n",
       "      <td>[0.1986]</td>\n",
       "      <td>[0.0315]</td>\n",
       "      <td>[22.208988103816704]</td>\n",
       "      <td>[2.81199211563807e-109]</td>\n",
       "      <td>[0.6369616772721208]</td>\n",
       "      <td>[0.7602685526683638]</td>\n",
       "      <td>DML: Random Forests</td>\n",
       "    </tr>\n",
       "    <tr>\n",
       "      <th>2</th>\n",
       "      <td>[0.7056874864673762]</td>\n",
       "      <td>[0.2057]</td>\n",
       "      <td>[0.0264]</td>\n",
       "      <td>[26.726668531428064]</td>\n",
       "      <td>[2.306210930163694e-157]</td>\n",
       "      <td>[0.6539368518459967]</td>\n",
       "      <td>[0.7574381210887557]</td>\n",
       "      <td>DML: LASSO</td>\n",
       "    </tr>\n",
       "    <tr>\n",
       "      <th>3</th>\n",
       "      <td>[0.708202238023101]</td>\n",
       "      <td>[0.2082]</td>\n",
       "      <td>[0.0264]</td>\n",
       "      <td>[26.79785389408469]</td>\n",
       "      <td>[3.422793976752989e-158]</td>\n",
       "      <td>[0.6564051468910258]</td>\n",
       "      <td>[0.7599993291551762]</td>\n",
       "      <td>DML: Random Forests</td>\n",
       "    </tr>\n",
       "  </tbody>\n",
       "</table>\n",
       "</div>"
      ],
      "text/plain": [
       "            Coefficient      Bias Standard Error           t-Statistic  \\\n",
       "0  [0.6847384422411675]  [0.1847]       [0.0345]  [19.820863417818444]   \n",
       "1  [0.6986151149702423]  [0.1986]       [0.0315]  [22.208988103816704]   \n",
       "2  [0.7056874864673762]  [0.2057]       [0.0264]  [26.726668531428064]   \n",
       "3   [0.708202238023101]  [0.2082]       [0.0264]   [26.79785389408469]   \n",
       "\n",
       "                    p-Value          95% CI Lower          95% CI Upper  \\\n",
       "0   [1.967047992045941e-87]  [0.6170288446655005]  [0.7524480398168346]   \n",
       "1   [2.81199211563807e-109]  [0.6369616772721208]  [0.7602685526683638]   \n",
       "2  [2.306210930163694e-157]  [0.6539368518459967]  [0.7574381210887557]   \n",
       "3  [3.422793976752989e-158]  [0.6564051468910258]  [0.7599993291551762]   \n",
       "\n",
       "            model_name  \n",
       "0           DML: LASSO  \n",
       "1  DML: Random Forests  \n",
       "2           DML: LASSO  \n",
       "3  DML: Random Forests  "
      ]
     },
     "execution_count": 180,
     "metadata": {},
     "output_type": "execute_result"
    }
   ],
   "source": [
    "df"
   ]
  },
  {
   "cell_type": "code",
   "execution_count": 173,
   "metadata": {},
   "outputs": [
    {
     "data": {
      "text/plain": [
       "2"
      ]
     },
     "execution_count": 173,
     "metadata": {},
     "output_type": "execute_result"
    }
   ],
   "source": [
    "len(list_of_results)"
   ]
  },
  {
   "cell_type": "code",
   "execution_count": 172,
   "metadata": {},
   "outputs": [
    {
     "data": {
      "text/html": [
       "<div>\n",
       "<style scoped>\n",
       "    .dataframe tbody tr th:only-of-type {\n",
       "        vertical-align: middle;\n",
       "    }\n",
       "\n",
       "    .dataframe tbody tr th {\n",
       "        vertical-align: top;\n",
       "    }\n",
       "\n",
       "    .dataframe thead th {\n",
       "        text-align: right;\n",
       "    }\n",
       "</style>\n",
       "<table border=\"1\" class=\"dataframe\">\n",
       "  <thead>\n",
       "    <tr style=\"text-align: right;\">\n",
       "      <th></th>\n",
       "      <th>Coefficient</th>\n",
       "      <th>Bias</th>\n",
       "      <th>Standard Error</th>\n",
       "      <th>t-Statistic</th>\n",
       "      <th>p-Value</th>\n",
       "      <th>95% CI Lower</th>\n",
       "      <th>95% CI Upper</th>\n",
       "      <th>model_name</th>\n",
       "    </tr>\n",
       "  </thead>\n",
       "  <tbody>\n",
       "    <tr>\n",
       "      <th>0</th>\n",
       "      <td>[0.6986151149702423]</td>\n",
       "      <td>[0.1986]</td>\n",
       "      <td>[0.0315]</td>\n",
       "      <td>[22.208988103816704]</td>\n",
       "      <td>[2.81199211563807e-109]</td>\n",
       "      <td>[0.6369616772721208]</td>\n",
       "      <td>[0.7602685526683638]</td>\n",
       "      <td>DML: Random Forests</td>\n",
       "    </tr>\n",
       "    <tr>\n",
       "      <th>1</th>\n",
       "      <td>[0.708202238023101]</td>\n",
       "      <td>[0.2082]</td>\n",
       "      <td>[0.0264]</td>\n",
       "      <td>[26.79785389408469]</td>\n",
       "      <td>[3.422793976752989e-158]</td>\n",
       "      <td>[0.6564051468910258]</td>\n",
       "      <td>[0.7599993291551762]</td>\n",
       "      <td>DML: Random Forests</td>\n",
       "    </tr>\n",
       "  </tbody>\n",
       "</table>\n",
       "</div>"
      ],
      "text/plain": [
       "            Coefficient      Bias Standard Error           t-Statistic  \\\n",
       "0  [0.6986151149702423]  [0.1986]       [0.0315]  [22.208988103816704]   \n",
       "1   [0.708202238023101]  [0.2082]       [0.0264]   [26.79785389408469]   \n",
       "\n",
       "                    p-Value          95% CI Lower          95% CI Upper  \\\n",
       "0   [2.81199211563807e-109]  [0.6369616772721208]  [0.7602685526683638]   \n",
       "1  [3.422793976752989e-158]  [0.6564051468910258]  [0.7599993291551762]   \n",
       "\n",
       "            model_name  \n",
       "0  DML: Random Forests  \n",
       "1  DML: Random Forests  "
      ]
     },
     "execution_count": 172,
     "metadata": {},
     "output_type": "execute_result"
    }
   ],
   "source": [
    "df"
   ]
  },
  {
   "cell_type": "code",
   "execution_count": 129,
   "metadata": {},
   "outputs": [],
   "source": [
    "tst_list = []\n",
    "\n",
    "tst_list.append([{'bla': 1}, {\"ble\": 2}], [{'bla': 3}, {\"ble\": 4}], [{'bla': 5}, {\"ble\": 6}])"
   ]
  },
  {
   "cell_type": "code",
   "execution_count": 178,
   "metadata": {},
   "outputs": [
    {
     "name": "stdout",
     "output_type": "stream",
     "text": [
      "       bla      ble\n",
      "0        1        2\n",
      "1        3        4\n",
      "2     3123     6556\n",
      "3   123312   213312\n",
      "4       88    88888\n",
      "5  2245345  2234234\n"
     ]
    }
   ],
   "source": [
    "# Initialize the list of JSON-like dictionaries\n",
    "tst_list = [\n",
    "    [{'bla': 1, \"ble\": 2}, {'bla': 3, \"ble\": 4}],\n",
    "    [{'bla': 3123, \"ble\": 6556}, {'bla': 123312, \"ble\": 213312}],\n",
    "    [{'bla': 88, \"ble\": 88888}, {'bla': 2245345, \"ble\": 2234234}]\n",
    "]\n",
    "\n",
    "# Flatten the list of lists\n",
    "flat_list = [item for sublist in tst_list for item in sublist]\n",
    "\n",
    "# Convert the flattened list into a DataFrame\n",
    "df = pd.DataFrame(flat_list)\n",
    "\n",
    "print(df)\n",
    "# Flatten the list of dictionaries\n",
    "#flat_list = [{k: v for d in sublist for k, v in d.items()} for sublist in tst_list]\n",
    "\n",
    "# Convert the flattened list into a DataFrame\n",
    "#df = pd.DataFrame(flat_list)\n",
    "\n",
    "#print(df)"
   ]
  },
  {
   "cell_type": "code",
   "execution_count": 132,
   "metadata": {},
   "outputs": [
    {
     "data": {
      "text/html": [
       "<div>\n",
       "<style scoped>\n",
       "    .dataframe tbody tr th:only-of-type {\n",
       "        vertical-align: middle;\n",
       "    }\n",
       "\n",
       "    .dataframe tbody tr th {\n",
       "        vertical-align: top;\n",
       "    }\n",
       "\n",
       "    .dataframe thead th {\n",
       "        text-align: right;\n",
       "    }\n",
       "</style>\n",
       "<table border=\"1\" class=\"dataframe\">\n",
       "  <thead>\n",
       "    <tr style=\"text-align: right;\">\n",
       "      <th></th>\n",
       "      <th>0</th>\n",
       "      <th>1</th>\n",
       "    </tr>\n",
       "  </thead>\n",
       "  <tbody>\n",
       "    <tr>\n",
       "      <th>0</th>\n",
       "      <td>{'bla': 1}</td>\n",
       "      <td>{'bla': 2}</td>\n",
       "    </tr>\n",
       "  </tbody>\n",
       "</table>\n",
       "</div>"
      ],
      "text/plain": [
       "            0           1\n",
       "0  {'bla': 1}  {'bla': 2}"
      ]
     },
     "execution_count": 132,
     "metadata": {},
     "output_type": "execute_result"
    }
   ],
   "source": [
    "import pandas as pd\n",
    "pd.DataFrame(tst_list)"
   ]
  },
  {
   "cell_type": "markdown",
   "metadata": {},
   "source": [
    "- EconML"
   ]
  },
  {
   "cell_type": "code",
   "execution_count": 48,
   "metadata": {},
   "outputs": [],
   "source": [
    "from sklearn.ensemble import RandomForestRegressor, GradientBoostingRegressor\n",
    "from sklearn.linear_model import LinearRegression, Lasso\n"
   ]
  },
  {
   "cell_type": "code",
   "execution_count": null,
   "metadata": {},
   "outputs": [],
   "source": [
    "estimator = models.econml_doubleml(\n",
    "    model_y=RandomForestRegressor(), \n",
    "    model_t=RandomForestRegressor(),\n",
    "    model_z=RandomForestRegressor(),\n",
    "    model_final=LinearRegression(fit_intercept=False)\n",
    "    )"
   ]
  },
  {
   "cell_type": "code",
   "execution_count": null,
   "metadata": {},
   "outputs": [],
   "source": [
    "estimator.ate_inference()"
   ]
  },
  {
   "cell_type": "markdown",
   "metadata": {},
   "source": [
    "# Sandbox"
   ]
  },
  {
   "cell_type": "markdown",
   "metadata": {},
   "source": [
    "- Simulation results"
   ]
  },
  {
   "cell_type": "code",
   "execution_count": 22,
   "metadata": {},
   "outputs": [],
   "source": [
    "simulation_table = pd.read_excel(\"/Users/gabrieldiasmp/Documents/pasta_gabriel/codigo/master_thesis/data/results_simulation_controls_and_instruments_MERGE.xlsx\")"
   ]
  },
  {
   "cell_type": "code",
   "execution_count": 28,
   "metadata": {},
   "outputs": [],
   "source": [
    "simulation_table[\"rmse\"] = simulation_table[\"Bias\"]**2"
   ]
  },
  {
   "cell_type": "code",
   "execution_count": 29,
   "metadata": {},
   "outputs": [
    {
     "data": {
      "text/html": [
       "<div>\n",
       "<style scoped>\n",
       "    .dataframe tbody tr th:only-of-type {\n",
       "        vertical-align: middle;\n",
       "    }\n",
       "\n",
       "    .dataframe tbody tr th {\n",
       "        vertical-align: top;\n",
       "    }\n",
       "\n",
       "    .dataframe thead th {\n",
       "        text-align: right;\n",
       "    }\n",
       "</style>\n",
       "<table border=\"1\" class=\"dataframe\">\n",
       "  <thead>\n",
       "    <tr style=\"text-align: right;\">\n",
       "      <th></th>\n",
       "      <th>Coefficient</th>\n",
       "      <th>Bias</th>\n",
       "      <th>Standard Error</th>\n",
       "      <th>t-Statistic</th>\n",
       "      <th>p-Value</th>\n",
       "      <th>95% CI Lower</th>\n",
       "      <th>95% CI Upper</th>\n",
       "      <th>model_name</th>\n",
       "      <th>size_panel</th>\n",
       "      <th>simulation</th>\n",
       "      <th>rmse</th>\n",
       "    </tr>\n",
       "  </thead>\n",
       "  <tbody>\n",
       "    <tr>\n",
       "      <th>0</th>\n",
       "      <td>0.7954</td>\n",
       "      <td>0.2954</td>\n",
       "      <td>0.0632</td>\n",
       "      <td>12.578200</td>\n",
       "      <td>0.000000e+00</td>\n",
       "      <td>0.6715</td>\n",
       "      <td>0.9193</td>\n",
       "      <td>Pooled 2SLS</td>\n",
       "      <td>15</td>\n",
       "      <td>1</td>\n",
       "      <td>0.087261</td>\n",
       "    </tr>\n",
       "    <tr>\n",
       "      <th>1</th>\n",
       "      <td>0.9756</td>\n",
       "      <td>0.4756</td>\n",
       "      <td>0.0339</td>\n",
       "      <td>28.747429</td>\n",
       "      <td>0.000000e+00</td>\n",
       "      <td>0.9091</td>\n",
       "      <td>1.0421</td>\n",
       "      <td>Pooled 2SLS</td>\n",
       "      <td>50</td>\n",
       "      <td>1</td>\n",
       "      <td>0.226195</td>\n",
       "    </tr>\n",
       "    <tr>\n",
       "      <th>2</th>\n",
       "      <td>0.8716</td>\n",
       "      <td>0.3716</td>\n",
       "      <td>0.0258</td>\n",
       "      <td>33.814775</td>\n",
       "      <td>0.000000e+00</td>\n",
       "      <td>0.8211</td>\n",
       "      <td>0.9221</td>\n",
       "      <td>Pooled 2SLS</td>\n",
       "      <td>100</td>\n",
       "      <td>1</td>\n",
       "      <td>0.138087</td>\n",
       "    </tr>\n",
       "    <tr>\n",
       "      <th>3</th>\n",
       "      <td>0.8888</td>\n",
       "      <td>0.3888</td>\n",
       "      <td>0.0190</td>\n",
       "      <td>46.819670</td>\n",
       "      <td>0.000000e+00</td>\n",
       "      <td>0.8516</td>\n",
       "      <td>0.9260</td>\n",
       "      <td>Pooled 2SLS</td>\n",
       "      <td>200</td>\n",
       "      <td>1</td>\n",
       "      <td>0.151165</td>\n",
       "    </tr>\n",
       "    <tr>\n",
       "      <th>4</th>\n",
       "      <td>0.6733</td>\n",
       "      <td>0.1733</td>\n",
       "      <td>0.0551</td>\n",
       "      <td>12.210876</td>\n",
       "      <td>0.000000e+00</td>\n",
       "      <td>0.5653</td>\n",
       "      <td>0.7814</td>\n",
       "      <td>First Differences</td>\n",
       "      <td>15</td>\n",
       "      <td>1</td>\n",
       "      <td>0.030033</td>\n",
       "    </tr>\n",
       "    <tr>\n",
       "      <th>...</th>\n",
       "      <td>...</td>\n",
       "      <td>...</td>\n",
       "      <td>...</td>\n",
       "      <td>...</td>\n",
       "      <td>...</td>\n",
       "      <td>...</td>\n",
       "      <td>...</td>\n",
       "      <td>...</td>\n",
       "      <td>...</td>\n",
       "      <td>...</td>\n",
       "      <td>...</td>\n",
       "    </tr>\n",
       "    <tr>\n",
       "      <th>595</th>\n",
       "      <td>0.5399</td>\n",
       "      <td>0.0399</td>\n",
       "      <td>0.0383</td>\n",
       "      <td>14.099629</td>\n",
       "      <td>3.817729e-45</td>\n",
       "      <td>0.4649</td>\n",
       "      <td>0.6150</td>\n",
       "      <td>DML: Random Forests</td>\n",
       "      <td>200</td>\n",
       "      <td>30</td>\n",
       "      <td>0.001592</td>\n",
       "    </tr>\n",
       "    <tr>\n",
       "      <th>596</th>\n",
       "      <td>0.7366</td>\n",
       "      <td>0.2366</td>\n",
       "      <td>0.0784</td>\n",
       "      <td>9.390829</td>\n",
       "      <td>5.952973e-21</td>\n",
       "      <td>0.5829</td>\n",
       "      <td>0.8903</td>\n",
       "      <td>DML: LASSO</td>\n",
       "      <td>15</td>\n",
       "      <td>30</td>\n",
       "      <td>0.055980</td>\n",
       "    </tr>\n",
       "    <tr>\n",
       "      <th>597</th>\n",
       "      <td>0.3964</td>\n",
       "      <td>-0.1036</td>\n",
       "      <td>0.0861</td>\n",
       "      <td>4.604780</td>\n",
       "      <td>4.129023e-06</td>\n",
       "      <td>0.2277</td>\n",
       "      <td>0.5651</td>\n",
       "      <td>DML: LASSO</td>\n",
       "      <td>50</td>\n",
       "      <td>30</td>\n",
       "      <td>0.010733</td>\n",
       "    </tr>\n",
       "    <tr>\n",
       "      <th>598</th>\n",
       "      <td>0.5897</td>\n",
       "      <td>0.0897</td>\n",
       "      <td>0.0509</td>\n",
       "      <td>11.576771</td>\n",
       "      <td>5.404342e-31</td>\n",
       "      <td>0.4899</td>\n",
       "      <td>0.6896</td>\n",
       "      <td>DML: LASSO</td>\n",
       "      <td>100</td>\n",
       "      <td>30</td>\n",
       "      <td>0.008046</td>\n",
       "    </tr>\n",
       "    <tr>\n",
       "      <th>599</th>\n",
       "      <td>0.5058</td>\n",
       "      <td>0.0058</td>\n",
       "      <td>0.0443</td>\n",
       "      <td>11.411619</td>\n",
       "      <td>3.658537e-30</td>\n",
       "      <td>0.4189</td>\n",
       "      <td>0.5926</td>\n",
       "      <td>DML: LASSO</td>\n",
       "      <td>200</td>\n",
       "      <td>30</td>\n",
       "      <td>0.000034</td>\n",
       "    </tr>\n",
       "  </tbody>\n",
       "</table>\n",
       "<p>600 rows × 11 columns</p>\n",
       "</div>"
      ],
      "text/plain": [
       "     Coefficient    Bias  Standard Error  t-Statistic       p-Value  \\\n",
       "0         0.7954  0.2954          0.0632    12.578200  0.000000e+00   \n",
       "1         0.9756  0.4756          0.0339    28.747429  0.000000e+00   \n",
       "2         0.8716  0.3716          0.0258    33.814775  0.000000e+00   \n",
       "3         0.8888  0.3888          0.0190    46.819670  0.000000e+00   \n",
       "4         0.6733  0.1733          0.0551    12.210876  0.000000e+00   \n",
       "..           ...     ...             ...          ...           ...   \n",
       "595       0.5399  0.0399          0.0383    14.099629  3.817729e-45   \n",
       "596       0.7366  0.2366          0.0784     9.390829  5.952973e-21   \n",
       "597       0.3964 -0.1036          0.0861     4.604780  4.129023e-06   \n",
       "598       0.5897  0.0897          0.0509    11.576771  5.404342e-31   \n",
       "599       0.5058  0.0058          0.0443    11.411619  3.658537e-30   \n",
       "\n",
       "     95% CI Lower  95% CI Upper           model_name  size_panel  simulation  \\\n",
       "0          0.6715        0.9193          Pooled 2SLS          15           1   \n",
       "1          0.9091        1.0421          Pooled 2SLS          50           1   \n",
       "2          0.8211        0.9221          Pooled 2SLS         100           1   \n",
       "3          0.8516        0.9260          Pooled 2SLS         200           1   \n",
       "4          0.5653        0.7814    First Differences          15           1   \n",
       "..            ...           ...                  ...         ...         ...   \n",
       "595        0.4649        0.6150  DML: Random Forests         200          30   \n",
       "596        0.5829        0.8903           DML: LASSO          15          30   \n",
       "597        0.2277        0.5651           DML: LASSO          50          30   \n",
       "598        0.4899        0.6896           DML: LASSO         100          30   \n",
       "599        0.4189        0.5926           DML: LASSO         200          30   \n",
       "\n",
       "         rmse  \n",
       "0    0.087261  \n",
       "1    0.226195  \n",
       "2    0.138087  \n",
       "3    0.151165  \n",
       "4    0.030033  \n",
       "..        ...  \n",
       "595  0.001592  \n",
       "596  0.055980  \n",
       "597  0.010733  \n",
       "598  0.008046  \n",
       "599  0.000034  \n",
       "\n",
       "[600 rows x 11 columns]"
      ]
     },
     "execution_count": 29,
     "metadata": {},
     "output_type": "execute_result"
    }
   ],
   "source": [
    "simulation_table"
   ]
  },
  {
   "cell_type": "code",
   "execution_count": null,
   "metadata": {},
   "outputs": [],
   "source": [
    "# Group by 'model_name' and 'panel_size' and calculate the mean of 'bias' and 'rmse'\n",
    "result = simulation_table.groupby(['model_name', 'panel_size'])[['Bias', 'rmse', 'Standard Error']].mean().reset_index()\n"
   ]
  },
  {
   "cell_type": "code",
   "execution_count": 36,
   "metadata": {},
   "outputs": [
    {
     "name": "stdout",
     "output_type": "stream",
     "text": [
      "             model_name  size_panel    bias    rmse  clustered_std\n",
      "0            DML: LASSO          15  0.1410  0.2243         0.1152\n",
      "1            DML: LASSO          50  0.0501  0.1228         0.0724\n",
      "2            DML: LASSO         100  0.0276  0.0678         0.0580\n",
      "3            DML: LASSO         200  0.0183  0.0517         0.0401\n",
      "4   DML: Random Forests          15  0.1475  0.1810         0.1091\n",
      "5   DML: Random Forests          50  0.0656  0.0872         0.0691\n",
      "6   DML: Random Forests         100  0.0383  0.0692         0.0528\n",
      "7   DML: Random Forests         200  0.0361  0.0531         0.0376\n",
      "8          DML: XGBoost          15  0.1242  0.2142         0.1398\n",
      "9          DML: XGBoost          50  0.0624  0.1026         0.0801\n",
      "10         DML: XGBoost         100  0.0316  0.0627         0.0580\n",
      "11         DML: XGBoost         200  0.0293  0.0482         0.0394\n",
      "12    First Differences          15  0.3012  0.3142         0.0609\n",
      "13    First Differences          50  0.3341  0.3376         0.0346\n",
      "14    First Differences         100  0.3444  0.3465         0.0254\n",
      "15    First Differences         200  0.3383  0.3390         0.0176\n",
      "16          Pooled 2SLS          15  0.3598  0.3718         0.0645\n",
      "17          Pooled 2SLS          50  0.4083  0.4118         0.0361\n",
      "18          Pooled 2SLS         100  0.3924  0.3949         0.0264\n",
      "19          Pooled 2SLS         200  0.3971  0.3988         0.0185\n"
     ]
    }
   ],
   "source": [
    "# Group by 'model_name' and 'panel_size'\n",
    "grouped = simulation_table.groupby(['model_name', 'size_panel'])\n",
    "\n",
    "# Calculate the mean of 'bias' and standard errors\n",
    "mean_bias = grouped['Bias'].mean()\n",
    "mean_std = grouped['Standard Error'].mean()\n",
    "\n",
    "# Calculate the RMSE\n",
    "rmse = grouped['Bias'].apply(lambda x: np.sqrt(np.mean(np.square(x))))\n",
    "\n",
    "# Combine the results into a single DataFrame\n",
    "result = pd.DataFrame({'bias': np.round(mean_bias, 4), 'rmse': np.round(rmse, 4), \"clustered_std\": np.round(mean_std, 4)}).reset_index()\n",
    "\n",
    "print(result)"
   ]
  },
  {
   "cell_type": "code",
   "execution_count": 47,
   "metadata": {},
   "outputs": [
    {
     "data": {
      "image/png": "[encoded data removed]",
      "text/plain": [
       "<Figure size 1800x600 with 3 Axes>"
      ]
     },
     "metadata": {},
     "output_type": "display_data"
    }
   ],
   "source": [
    "# Define the data\n",
    "data = {\n",
    "    'Model': ['Pooled 2SLS'] * 4 + ['First Differences 2SLS'] * 4 + ['DML: Random Forests'] * 4 + ['DML: LASSO'] * 4 + ['DML: Boosting'] * 4,\n",
    "    'Panel Size': [15, 50, 100, 200] * 5,\n",
    "    'Bias': [0.3598, 0.4083, 0.3924, 0.3971, \n",
    "             0.3012, 0.3341, 0.3444, 0.3383,\n",
    "             0.1475, 0.0656, 0.0383, 0.0361,\n",
    "             0.1410, 0.0501, 0.0276, 0.0183,\n",
    "             0.1242, 0.0624, 0.0316, 0.0293],\n",
    "    'RMSE': [0.3718, 0.4118, 0.3949, 0.3988,\n",
    "             0.3142, 0.3376, 0.3465, 0.3390,\n",
    "             0.1810, 0.0872, 0.0692, 0.0531,\n",
    "             0.2243, 0.1228, 0.0678, 0.0517,\n",
    "             0.2142, 0.1026, 0.0627, 0.0482],\n",
    "    'Clustered Std': [0.0645, 0.0361, 0.0264, 0.0185,\n",
    "                      0.0609, 0.0346, 0.0254, 0.0176,\n",
    "                      0.1091, 0.0691, 0.0528, 0.0376,\n",
    "                      0.1152, 0.0724, 0.0580, 0.0401,\n",
    "                      0.1398, 0.0801, 0.0580, 0.0394]\n",
    "}\n",
    "\n",
    "# Create a DataFrame\n",
    "df = pd.DataFrame(data)\n",
    "\n",
    "# Set up the figure and axes\n",
    "fig, axes = plt.subplots(1, 3, figsize=(18, 6))\n",
    "\n",
    "# Create a mapping for even spacing\n",
    "panel_sizes = [15, 50, 100, 200]\n",
    "panel_mapping = {size: i for i, size in enumerate(panel_sizes)}\n",
    "\n",
    "# Apply the mapping to a new column for even spacing\n",
    "df['Panel Size Mapped'] = df['Panel Size'].map(panel_mapping)\n",
    "\n",
    "# Plot Bias\n",
    "sns.lineplot(data=df, x='Panel Size Mapped', y='Bias', hue='Model', marker='o', ax=axes[0])\n",
    "axes[0].set_title('Bias Comparison')\n",
    "axes[0].set_xlabel('Panel Size')\n",
    "axes[0].set_ylabel('Bias')\n",
    "axes[0].set_xticks(list(panel_mapping.values()))\n",
    "axes[0].set_xticklabels(panel_sizes)\n",
    "\n",
    "# Plot RMSE\n",
    "sns.lineplot(data=df, x='Panel Size Mapped', y='RMSE', hue='Model', marker='o', ax=axes[1])\n",
    "axes[1].set_title('RMSE Comparison')\n",
    "axes[1].set_xlabel('Panel Size')\n",
    "axes[1].set_ylabel('RMSE')\n",
    "axes[1].set_xticks(list(panel_mapping.values()))\n",
    "axes[1].set_xticklabels(panel_sizes)\n",
    "\n",
    "# Plot Clustered Std Error\n",
    "sns.lineplot(data=df, x='Panel Size Mapped', y='Clustered Std', hue='Model', marker='o', ax=axes[2])\n",
    "axes[2].set_title('Clustered Standard Error Comparison')\n",
    "axes[2].set_xlabel('Panel Size')\n",
    "axes[2].set_ylabel('Clustered Std Error')\n",
    "axes[2].set_xticks(list(panel_mapping.values()))\n",
    "axes[2].set_xticklabels(panel_sizes)\n",
    "\n",
    "# Add a single legend in the middle\n",
    "handles, labels = axes[0].get_legend_handles_labels()\n",
    "fig.legend(handles, labels, loc='upper center', ncol=5, bbox_to_anchor=(0.5, -0.05))\n",
    "\n",
    "# Remove individual legends\n",
    "for ax in axes:\n",
    "    ax.legend().remove()\n",
    "\n",
    "# Adjust layout and show plot\n",
    "plt.tight_layout()\n",
    "plt.show()"
   ]
  },
  {
   "cell_type": "code",
   "execution_count": 48,
   "metadata": {},
   "outputs": [
    {
     "data": {
      "image/png": "[encoded data removed]",
      "text/plain": [
       "<Figure size 1800x600 with 3 Axes>"
      ]
     },
     "metadata": {},
     "output_type": "display_data"
    }
   ],
   "source": [
    "import matplotlib.pyplot as plt\n",
    "import seaborn as sns\n",
    "import pandas as pd\n",
    "\n",
    "# Define the data\n",
    "data = {\n",
    "    'Model': ['Pooled 2SLS'] * 4 + ['First Differences 2SLS'] * 4 + ['DML: Random Forests'] * 4 + ['DML: LASSO'] * 4 + ['DML: Boosting'] * 4,\n",
    "    'Panel Size': [15, 50, 100, 200] * 5,\n",
    "    'Bias': [0.3598, 0.4083, 0.3924, 0.3971, \n",
    "             0.3012, 0.3341, 0.3444, 0.3383,\n",
    "             0.1475, 0.0656, 0.0383, 0.0361,\n",
    "             0.1410, 0.0501, 0.0276, 0.0183,\n",
    "             0.1242, 0.0624, 0.0316, 0.0293],\n",
    "    'RMSE': [0.3718, 0.4118, 0.3949, 0.3988,\n",
    "             0.3142, 0.3376, 0.3465, 0.3390,\n",
    "             0.1810, 0.0872, 0.0692, 0.0531,\n",
    "             0.2243, 0.1228, 0.0678, 0.0517,\n",
    "             0.2142, 0.1026, 0.0627, 0.0482],\n",
    "    'Clustered Std': [0.0645, 0.0361, 0.0264, 0.0185,\n",
    "                      0.0609, 0.0346, 0.0254, 0.0176,\n",
    "                      0.1091, 0.0691, 0.0528, 0.0376,\n",
    "                      0.1152, 0.0724, 0.0580, 0.0401,\n",
    "                      0.1398, 0.0801, 0.0580, 0.0394]\n",
    "}\n",
    "\n",
    "# Create a DataFrame\n",
    "df = pd.DataFrame(data)\n",
    "\n",
    "# Set up the font scale for seaborn\n",
    "sns.set(font_scale=1.5)\n",
    "\n",
    "# Set up the figure and axes\n",
    "fig, axes = plt.subplots(1, 3, figsize=(18, 6))\n",
    "\n",
    "# Create a mapping for even spacing\n",
    "panel_sizes = [15, 50, 100, 200]\n",
    "panel_mapping = {size: i for i, size in enumerate(panel_sizes)}\n",
    "\n",
    "# Apply the mapping to a new column for even spacing\n",
    "df['Panel Size Mapped'] = df['Panel Size'].map(panel_mapping)\n",
    "\n",
    "# Plot Bias\n",
    "sns.lineplot(data=df, x='Panel Size Mapped', y='Bias', hue='Model', marker='o', ax=axes[0])\n",
    "axes[0].set_title('Bias Comparison', fontsize=16)\n",
    "axes[0].set_xlabel('Panel Size', fontsize=14)\n",
    "axes[0].set_ylabel('Bias', fontsize=14)\n",
    "axes[0].set_xticks(list(panel_mapping.values()))\n",
    "axes[0].set_xticklabels(panel_sizes, fontsize=12)\n",
    "\n",
    "# Plot RMSE\n",
    "sns.lineplot(data=df, x='Panel Size Mapped', y='RMSE', hue='Model', marker='o', ax=axes[1])\n",
    "axes[1].set_title('RMSE Comparison', fontsize=16)\n",
    "axes[1].set_xlabel('Panel Size', fontsize=14)\n",
    "axes[1].set_ylabel('RMSE', fontsize=14)\n",
    "axes[1].set_xticks(list(panel_mapping.values()))\n",
    "axes[1].set_xticklabels(panel_sizes, fontsize=12)\n",
    "\n",
    "# Plot Clustered Std Error\n",
    "sns.lineplot(data=df, x='Panel Size Mapped', y='Clustered Std', hue='Model', marker='o', ax=axes[2])\n",
    "axes[2].set_title('Clustered Standard Error Comparison', fontsize=16)\n",
    "axes[2].set_xlabel('Panel Size', fontsize=14)\n",
    "axes[2].set_ylabel('Clustered Std Error', fontsize=14)\n",
    "axes[2].set_xticks(list(panel_mapping.values()))\n",
    "axes[2].set_xticklabels(panel_sizes, fontsize=12)\n",
    "\n",
    "# Add a single legend in the middle\n",
    "handles, labels = axes[0].get_legend_handles_labels()\n",
    "fig.legend(handles, labels, loc='upper center', ncol=5, bbox_to_anchor=(0.5, -0.05), fontsize=14)\n",
    "\n",
    "# Remove individual legends\n",
    "for ax in axes:\n",
    "    ax.legend().remove()\n",
    "\n",
    "# Adjust layout and show plot\n",
    "plt.tight_layout()\n",
    "plt.show()\n"
   ]
  },
  {
   "cell_type": "markdown",
   "metadata": {},
   "source": [
    "- Evaluating the disturbances"
   ]
  },
  {
   "cell_type": "code",
   "execution_count": 19,
   "metadata": {},
   "outputs": [],
   "source": [
    "n=100\n",
    "T=10\n",
    "px=50\n",
    "pz=5\n",
    "rho_e=0.5\n",
    "rho_u=0.5\n",
    "rho_z=0.5"
   ]
  },
  {
   "cell_type": "code",
   "execution_count": 20,
   "metadata": {},
   "outputs": [],
   "source": [
    "# Initial disturbances\n",
    "epsilon = np.zeros((n, T))\n",
    "u = np.zeros((n, T))\n",
    "nu = np.random.multivariate_normal([0, 0], [[1, 0.5], [0.5, 1]], size=(n, T))\n",
    "\n",
    "for t in range(T):\n",
    "    if t == 0:\n",
    "        epsilon[:, t] = nu[:, t, 0]\n",
    "        u[:, t] = nu[:, t, 1]\n",
    "    else:\n",
    "        epsilon[:, t] = rho_e * epsilon[:, t-1] + nu[:, t, 0]\n",
    "        u[:, t] = rho_u * u[:, t-1] + nu[:, t, 1]\n"
   ]
  },
  {
   "cell_type": "code",
   "execution_count": 46,
   "metadata": {},
   "outputs": [
    {
     "data": {
      "text/plain": [
       "(100, 10, 2)"
      ]
     },
     "execution_count": 46,
     "metadata": {},
     "output_type": "execute_result"
    }
   ],
   "source": [
    "nu.shape"
   ]
  },
  {
   "cell_type": "code",
   "execution_count": 50,
   "metadata": {},
   "outputs": [
    {
     "data": {
      "text/plain": [
       "array([[ 0.775116  ,  0.83771514],\n",
       "       [ 0.12681755,  0.51715359],\n",
       "       [-0.33480796, -1.94184472],\n",
       "       [-0.31851406, -1.56227018],\n",
       "       [-1.69425325, -1.24289633],\n",
       "       [-0.33268363,  0.05397906],\n",
       "       [ 0.01110712, -0.18118249],\n",
       "       [-1.55124595, -0.96381759],\n",
       "       [ 0.86315375,  0.46874688],\n",
       "       [-0.89423607, -0.5458834 ]])"
      ]
     },
     "execution_count": 50,
     "metadata": {},
     "output_type": "execute_result"
    }
   ],
   "source": [
    "nu[2]"
   ]
  },
  {
   "cell_type": "code",
   "execution_count": 51,
   "metadata": {},
   "outputs": [
    {
     "data": {
      "text/plain": [
       "0.7751160030777144"
      ]
     },
     "execution_count": 51,
     "metadata": {},
     "output_type": "execute_result"
    }
   ],
   "source": [
    "nu[2, 0, 0]"
   ]
  },
  {
   "cell_type": "code",
   "execution_count": 52,
   "metadata": {},
   "outputs": [
    {
     "data": {
      "text/plain": [
       "0.514375549719144"
      ]
     },
     "execution_count": 52,
     "metadata": {},
     "output_type": "execute_result"
    }
   ],
   "source": [
    "rho_e * epsilon[2,0] + nu[2, 1, 0]"
   ]
  },
  {
   "cell_type": "code",
   "execution_count": 44,
   "metadata": {},
   "outputs": [
    {
     "data": {
      "text/plain": [
       "(100, 10)"
      ]
     },
     "execution_count": 44,
     "metadata": {},
     "output_type": "execute_result"
    }
   ],
   "source": [
    "epsilon.shape"
   ]
  },
  {
   "cell_type": "code",
   "execution_count": 53,
   "metadata": {},
   "outputs": [
    {
     "data": {
      "text/plain": [
       "array([ 0.775116  ,  0.51437555, -0.07762019, -0.35732416, -1.87291533,\n",
       "       -1.2691413 , -0.62346353, -1.86297771, -0.0683351 , -0.92840362])"
      ]
     },
     "execution_count": 53,
     "metadata": {},
     "output_type": "execute_result"
    }
   ],
   "source": [
    "epsilon[2]"
   ]
  },
  {
   "cell_type": "code",
   "execution_count": 36,
   "metadata": {},
   "outputs": [
    {
     "data": {
      "text/plain": [
       "0.5934282183847206"
      ]
     },
     "execution_count": 36,
     "metadata": {},
     "output_type": "execute_result"
    }
   ],
   "source": [
    "rho_e * epsilon[0, 0] + nu[0, 0, 0]"
   ]
  },
  {
   "cell_type": "markdown",
   "metadata": {},
   "source": [
    "- Evaluating the Xs"
   ]
  },
  {
   "cell_type": "code",
   "execution_count": 55,
   "metadata": {},
   "outputs": [],
   "source": [
    "# Generate individual heterogeneity\n",
    "cov_matrix = np.fromfunction(lambda i, j: 0.5 ** np.abs(i - j), (n, n))\n",
    "e = np.random.multivariate_normal(mean=np.zeros(n), cov=cov_matrix * (4 / T))"
   ]
  },
  {
   "cell_type": "code",
   "execution_count": 81,
   "metadata": {},
   "outputs": [],
   "source": [
    "phi_t = np.random.normal(scale=np.sqrt(1), size=px)"
   ]
  },
  {
   "cell_type": "code",
   "execution_count": null,
   "metadata": {},
   "outputs": [],
   "source": [
    "phi = np.random.normal(size=T)"
   ]
  },
  {
   "cell_type": "code",
   "execution_count": 137,
   "metadata": {},
   "outputs": [],
   "source": [
    "def generate_controls(n, T, px, rho_x, e, phi):\n",
    "    x = np.zeros((n, T, px))\n",
    "    \n",
    "    for i in range(n):\n",
    "        for j in range(px):\n",
    "            for t in range(T):\n",
    "                if t == 0:\n",
    "                    x[i, t, j] = e[i] / (1 - rho_x) + np.sqrt(1 / (1 - rho_x**2)) * phi[t]\n",
    "                else:\n",
    "                    x[i, t, j] = e[i] + rho_x * x[i, t-1, j] + phi[t]\n",
    "                    \n",
    "    return x\n",
    "\n",
    "# Example usage\n",
    "rho_x = 0.5\n",
    "px = 5\n",
    "x = generate_controls(n, T, px, rho_x, e, phi)"
   ]
  },
  {
   "cell_type": "code",
   "execution_count": 138,
   "metadata": {},
   "outputs": [
    {
     "name": "stdout",
     "output_type": "stream",
     "text": [
      "\n",
      "First few values of x:\n",
      "x[0,0,0] = -0.5201483122554315\n",
      "x[0,1,0] = 1.6614195281758282\n",
      "x[0,2,0] = 1.0198483449817792\n",
      "x[0,3,0] = 1.1476091995824733\n",
      "x[0,4,0] = 1.028036629930661\n"
     ]
    }
   ],
   "source": [
    "def print_initial_values(epsilon, u, x, n=1, T=5, px=1):\n",
    "    # print(\"First few values of epsilon:\")\n",
    "    # for i in range(n):\n",
    "    #     for t in range(T):\n",
    "    #         print(f\"epsilon[{i},{t}] = {epsilon[i,t]}\")\n",
    "    \n",
    "    # print(\"\\nFirst few values of u:\")\n",
    "    # for i in range(n):\n",
    "    #     for t in range(T):\n",
    "    #         print(f\"u[{i},{t}] = {u[i,t]}\")\n",
    "    \n",
    "    print(\"\\nFirst few values of x:\")\n",
    "    for i in range(n):\n",
    "        for t in range(T):\n",
    "            for j in range(px):\n",
    "                print(f\"x[{i},{t},{j}] = {x[i,t,j]}\")\n",
    "\n",
    "# Example usage\n",
    "print_initial_values(epsilon, u, x)"
   ]
  },
  {
   "cell_type": "code",
   "execution_count": 139,
   "metadata": {},
   "outputs": [
    {
     "data": {
      "text/plain": [
       "(100, 10, 5)"
      ]
     },
     "execution_count": 139,
     "metadata": {},
     "output_type": "execute_result"
    }
   ],
   "source": [
    "tst = np.zeros((n, T, px))\n",
    "tst.shape"
   ]
  },
  {
   "cell_type": "code",
   "execution_count": 140,
   "metadata": {},
   "outputs": [
    {
     "name": "stdout",
     "output_type": "stream",
     "text": [
      "x[0, 0, 0]: -0.5201483122554315\n",
      "x[0, 1, 0]: 1.6614195281758282\n",
      "x[0, 2, 0]: 1.0198483449817792\n",
      "x[0, 3, 0]: 1.1476091995824733\n",
      "x[0, 4, 0]: 1.028036629930661\n"
     ]
    }
   ],
   "source": [
    "# For t = 0\n",
    "tst[0, 0, 0] = e[0] / (1 - rho_x) + np.sqrt(1 / (1 - rho_x**2)) * phi[0]\n",
    "print(f\"x[0, 0, 0]: {tst[0, 0, 0]}\")\n",
    "\n",
    "# For t = 1\n",
    "tst[0, 1, 0] = e[0] + rho_x * x[0, 0, 0] + phi[1]\n",
    "print(f\"x[0, 1, 0]: {tst[0, 1, 0]}\")\n",
    "\n",
    "# For t = 2\n",
    "tst[0, 2, 0] = e[0] + rho_x * x[0, 1, 0] + phi[2]\n",
    "print(f\"x[0, 2, 0]: {tst[0, 2, 0]}\")\n",
    "\n",
    "# For t = 3\n",
    "tst[0, 3, 0] = e[0] + rho_x * x[0, 2, 0] + phi[3]\n",
    "print(f\"x[0, 3, 0]: {tst[0, 3, 0]}\")\n",
    "\n",
    "# For t = 4\n",
    "tst[0, 4, 0] = e[0] + rho_x * x[0, 3, 0] + phi[4]\n",
    "print(f\"x[0, 4, 0]: {tst[0, 4, 0]}\")\n"
   ]
  },
  {
   "cell_type": "code",
   "execution_count": 95,
   "metadata": {},
   "outputs": [
    {
     "data": {
      "text/plain": [
       "array([ 0.78102228,  1.18408389,  0.74340835,  0.19640834, -1.13709727,\n",
       "        0.61537011, -0.93070044, -1.14251863,  0.23145075, -1.60785744,\n",
       "       -1.4237987 ,  0.13208457,  0.68398082,  0.21970581,  1.11438412,\n",
       "       -0.41850569, -1.1665953 , -0.12863216, -0.02257906, -0.57757132,\n",
       "       -0.49193369, -0.50906445,  1.11962876,  0.58368339,  1.60448154,\n",
       "        1.25174266,  0.43503229, -2.74003547, -2.49506343, -0.48791238,\n",
       "        0.79829528,  0.31298726,  0.87552982, -0.64768063,  1.32412136,\n",
       "        1.56556387,  0.59038859,  2.06866193,  0.36877927,  0.41988746,\n",
       "        1.26865493, -0.33831056,  1.52938958,  0.8109077 , -1.69706239,\n",
       "       -3.23294399, -0.69716773, -1.50822559, -2.49413705, -1.8113743 ,\n",
       "       -0.9098093 , -0.49584712, -1.07191573, -1.62292545, -0.00956973,\n",
       "        1.14170743, -0.72520621, -1.1209304 ,  0.14912567,  0.09139164,\n",
       "       -0.84890057, -2.21109795,  0.30048723,  0.91035316,  0.3908787 ,\n",
       "        1.79991228,  1.46974426,  0.13132826, -2.44417791, -1.21692569,\n",
       "       -0.27051968, -0.81733681, -0.6164304 , -0.51419126, -0.63605459,\n",
       "        0.22325513, -0.55075211, -2.99232929, -2.89932349, -0.52726635,\n",
       "        1.68023014, -0.00370761,  0.78835072, -0.66041264, -1.57053976,\n",
       "       -0.62816418, -0.79825775, -0.39305194, -1.24352029,  0.25131341,\n",
       "        0.10837486, -0.8381281 ,  0.18437071,  1.44225179,  0.4758722 ,\n",
       "        1.4008632 , -0.84462026, -2.08110582, -0.84822985, -0.37653545])"
      ]
     },
     "execution_count": 95,
     "metadata": {},
     "output_type": "execute_result"
    }
   ],
   "source": [
    "e + rho_z * x[:, 0, 0] + phi_t[0]\n"
   ]
  },
  {
   "cell_type": "code",
   "execution_count": 84,
   "metadata": {},
   "outputs": [],
   "source": [
    "tst = e / (1 - rho_z) + np.sqrt(1 / (1 - rho_z ** 2)) * phi_t[0]\n"
   ]
  },
  {
   "cell_type": "code",
   "execution_count": 73,
   "metadata": {},
   "outputs": [
    {
     "data": {
      "text/plain": [
       "(100,)"
      ]
     },
     "execution_count": 73,
     "metadata": {},
     "output_type": "execute_result"
    }
   ],
   "source": [
    "tst.shape"
   ]
  },
  {
   "cell_type": "code",
   "execution_count": 85,
   "metadata": {},
   "outputs": [
    {
     "data": {
      "text/plain": [
       "array([-0.32884015,  0.07422146, -0.36645408, -0.9134541 , -2.24695971,\n",
       "       -0.49449233, -2.04056287, -2.25238107, -0.87841168, -2.71771987,\n",
       "       -2.53366113, -0.97777786, -0.42588161, -0.89015662,  0.00452169,\n",
       "       -1.52836813, -2.27645773, -1.23849459, -1.13244149, -1.68743375,\n",
       "       -1.60179613, -1.61892688,  0.00976632, -0.52617905,  0.49461911,\n",
       "        0.14188023, -0.67483015, -3.8498979 , -3.60492586, -1.59777481,\n",
       "       -0.31156716, -0.79687517, -0.23433261, -1.75754306,  0.21425893,\n",
       "        0.45570144, -0.51947384,  0.9587995 , -0.74108316, -0.68997497,\n",
       "        0.1587925 , -1.44817299,  0.41952714, -0.29895474, -2.80692482,\n",
       "       -4.34280642, -1.80703016, -2.61808802, -3.60399948, -2.92123673,\n",
       "       -2.01967173, -1.60570955, -2.18177817, -2.73278788, -1.11943217,\n",
       "        0.031845  , -1.83506864, -2.23079284, -0.96073676, -1.01847079,\n",
       "       -1.958763  , -3.32096038, -0.8093752 , -0.19950927, -0.71898374,\n",
       "        0.69004985,  0.35988182, -0.97853417, -3.55404034, -2.32678812,\n",
       "       -1.38038211, -1.92719925, -1.72629283, -1.62405369, -1.74591702,\n",
       "       -0.8866073 , -1.66061454, -4.10219172, -4.00918593, -1.63712878,\n",
       "        0.57036771, -1.11357004, -0.32151171, -1.77027507, -2.68040219,\n",
       "       -1.73802661, -1.90812018, -1.50291438, -2.35338272, -0.85854902,\n",
       "       -1.00148757, -1.94799053, -0.92549172,  0.33238935, -0.63399023,\n",
       "        0.29100077, -1.95448269, -3.19096825, -1.95809228, -1.48639788])"
      ]
     },
     "execution_count": 85,
     "metadata": {},
     "output_type": "execute_result"
    }
   ],
   "source": [
    "tst"
   ]
  }
 ],
 "metadata": {
  "kernelspec": {
   "display_name": ".venv",
   "language": "python",
   "name": "python3"
  },
  "language_info": {
   "codemirror_mode": {
    "name": "ipython",
    "version": 3
   },
   "file_extension": ".py",
   "mimetype": "text/x-python",
   "name": "python",
   "nbconvert_exporter": "python",
   "pygments_lexer": "ipython3",
   "version": "3.9.18"
  }
 },
 "nbformat": 4,
 "nbformat_minor": 2
}
